{
 "cells": [
  {
   "cell_type": "code",
   "execution_count": 1,
   "id": "f3a8d9f7",
   "metadata": {},
   "outputs": [],
   "source": [
    "import numpy as np\n",
    "import pandas as pd\n",
    "import matplotlib.pyplot as plt"
   ]
  },
  {
   "cell_type": "markdown",
   "id": "7b9aa207",
   "metadata": {},
   "source": [
    "# Exploring The Target Variable"
   ]
  },
  {
   "cell_type": "markdown",
   "id": "b8e4762f",
   "metadata": {},
   "source": [
    "The question one should usually find answers to while exploring the Target Variable\n"
   ]
  },
  {
   "cell_type": "markdown",
   "id": "13a49412",
   "metadata": {},
   "source": [
    "1.What information does this variable Respresent?"
   ]
  },
  {
   "cell_type": "markdown",
   "id": "da8f9e44",
   "metadata": {},
   "source": [
    "2.type of Variable"
   ]
  },
  {
   "cell_type": "markdown",
   "id": "6b697b8e",
   "metadata": {},
   "source": [
    "3.What is the statics of the T.V"
   ]
  },
  {
   "cell_type": "markdown",
   "id": "7deeb988",
   "metadata": {},
   "source": [
    "4.Does the Target Variable contains any outlier that we need to Treat?"
   ]
  },
  {
   "cell_type": "markdown",
   "id": "3042e7a8",
   "metadata": {},
   "source": [
    "5. Are there any missing Values"
   ]
  },
  {
   "cell_type": "markdown",
   "id": "7f21cd11",
   "metadata": {},
   "source": [
    "6.Distribution of the Target Variable"
   ]
  },
  {
   "cell_type": "markdown",
   "id": "0be23ba4",
   "metadata": {},
   "source": [
    "# Univariate Analysis:- Studying one variable alone"
   ]
  },
  {
   "cell_type": "markdown",
   "id": "fc216593",
   "metadata": {},
   "source": [
    "Eyeballing"
   ]
  },
  {
   "cell_type": "code",
   "execution_count": 2,
   "id": "1008fab4",
   "metadata": {},
   "outputs": [],
   "source": [
    "Raw_Housing_Data=pd.read_csv(\"1. Regression - Module - (Housing Prices).csv\")"
   ]
  },
  {
   "cell_type": "code",
   "execution_count": 3,
   "id": "40d75b0f",
   "metadata": {},
   "outputs": [
    {
     "data": {
      "text/plain": [
       "count    2.160900e+04\n",
       "mean     5.401984e+05\n",
       "std      3.673890e+05\n",
       "min      7.500000e+04\n",
       "25%      3.219500e+05\n",
       "50%      4.500000e+05\n",
       "75%      6.450000e+05\n",
       "max      7.700000e+06\n",
       "Name: Sale Price, dtype: float64"
      ]
     },
     "execution_count": 3,
     "metadata": {},
     "output_type": "execute_result"
    }
   ],
   "source": [
    "Raw_Housing_Data[\"Sale Price\"].describe()"
   ]
  },
  {
   "cell_type": "code",
   "execution_count": 4,
   "id": "5b940bca",
   "metadata": {},
   "outputs": [],
   "source": [
    "# missing Values=21613-21609=4\n",
    "#  Sale Price has quite a bit of range from 75k to 7.7million\n",
    "# The mean value and median are not same which means our data is not normally distributed\n",
    "# The mean value is higher thean median which means the data may contain few outlier of high values or could be skewed toward lower values i.e contains more data point of lower values."
   ]
  },
  {
   "cell_type": "markdown",
   "id": "86deeef0",
   "metadata": {},
   "source": [
    "# Finding Outliers:-a data point that is distant from rest of the Observation"
   ]
  },
  {
   "cell_type": "code",
   "execution_count": 5,
   "id": "ee092c82",
   "metadata": {
    "scrolled": true
   },
   "outputs": [
    {
     "data": {
      "text/plain": [
       "<matplotlib.collections.PathCollection at 0x2148e6b50c0>"
      ]
     },
     "execution_count": 5,
     "metadata": {},
     "output_type": "execute_result"
    },
    {
     "data": {
      "image/png": "[encoded data removed]",
      "text/plain": [
       "<Figure size 432x288 with 1 Axes>"
      ]
     },
     "metadata": {
      "needs_background": "light"
     },
     "output_type": "display_data"
    }
   ],
   "source": [
    "plt.scatter(x=Raw_Housing_Data[\"ID\"],y=Raw_Housing_Data[\"Sale Price\"])"
   ]
  },
  {
   "cell_type": "code",
   "execution_count": 6,
   "id": "095b2d42",
   "metadata": {},
   "outputs": [],
   "source": [
    "# IQR=Q3-Q1=645000-321950=323050\n",
    "# Lower Limiy=Q1-1.5*IQR or mim of te Data\n",
    "# Upper Limit=Q3+1.5*IQR of Maxm of the Data\n",
    "# Any data Point which is higher than upper limit nad lower than the lower limit can be termed as Outlier.\n"
   ]
  },
  {
   "cell_type": "code",
   "execution_count": 7,
   "id": "53a60e70",
   "metadata": {},
   "outputs": [],
   "source": [
    "import seaborn as sns"
   ]
  },
  {
   "cell_type": "code",
   "execution_count": 8,
   "id": "fea09c1a",
   "metadata": {},
   "outputs": [
    {
     "data": {
      "text/plain": [
       "<AxesSubplot:xlabel='Sale Price'>"
      ]
     },
     "execution_count": 8,
     "metadata": {},
     "output_type": "execute_result"
    },
    {
     "data": {
      "image/png": "[encoded data removed]",
      "text/plain": [
       "<Figure size 432x288 with 1 Axes>"
      ]
     },
     "metadata": {
      "needs_background": "light"
     },
     "output_type": "display_data"
    }
   ],
   "source": [
    "sns.boxplot(x=Raw_Housing_Data[\"Sale Price\"])"
   ]
  },
  {
   "cell_type": "code",
   "execution_count": 9,
   "id": "823e45c2",
   "metadata": {},
   "outputs": [],
   "source": [
    "## Different ways of Treating Outliers\n",
    "# 1.Deletion:-The entire row containing outlier is removed\n",
    "# 2.Capping and Imputing:-Outlier is replaced by mean ,median, mode\n",
    "# 3.Data Transformation:-the variable is transformed to its lig value or square or cube Root values\n",
    "# 4.Binning:-Different bins are formed based on the values of the variable to treat the outlier"
   ]
  },
  {
   "cell_type": "markdown",
   "id": "63de8c92",
   "metadata": {},
   "source": [
    "We treat here Outlier by Imputation"
   ]
  },
  {
   "cell_type": "code",
   "execution_count": 10,
   "id": "7b460cf3",
   "metadata": {},
   "outputs": [
    {
     "data": {
      "text/plain": [
       "323050.0"
      ]
     },
     "execution_count": 10,
     "metadata": {},
     "output_type": "execute_result"
    }
   ],
   "source": [
    "q1=Raw_Housing_Data[\"Sale Price\"].quantile(.25)\n",
    "q3=Raw_Housing_Data[\"Sale Price\"].quantile(.75)\n",
    "iqr=q3-q1\n",
    "iqr"
   ]
  },
  {
   "cell_type": "code",
   "execution_count": 11,
   "id": "f0322c31",
   "metadata": {},
   "outputs": [
    {
     "data": {
      "text/plain": [
       "(1129575.0, -162625.0)"
      ]
     },
     "execution_count": 11,
     "metadata": {},
     "output_type": "execute_result"
    }
   ],
   "source": [
    "upper_limit=q3+1.5*iqr\n",
    "lower_limit=q1-1.5*iqr\n",
    "upper_limit,lower_limit"
   ]
  },
  {
   "cell_type": "code",
   "execution_count": 12,
   "id": "34445445",
   "metadata": {},
   "outputs": [],
   "source": [
    "def limit_imputer(value):\n",
    "    if value>upper_limit:\n",
    "        return upper_limit\n",
    "    if value<lower_limit:\n",
    "        return lower_limit\n",
    "    else:\n",
    "        return value"
   ]
  },
  {
   "cell_type": "code",
   "execution_count": 13,
   "id": "42bf1aaf",
   "metadata": {},
   "outputs": [],
   "source": [
    "Raw_Housing_Data[\"Sale Price\"]=Raw_Housing_Data[\"Sale Price\"].apply(limit_imputer)"
   ]
  },
  {
   "cell_type": "code",
   "execution_count": 14,
   "id": "92d5a77e",
   "metadata": {},
   "outputs": [
    {
     "data": {
      "text/plain": [
       "count    2.160900e+04\n",
       "mean     5.116186e+05\n",
       "std      2.500620e+05\n",
       "min      7.500000e+04\n",
       "25%      3.219500e+05\n",
       "50%      4.500000e+05\n",
       "75%      6.450000e+05\n",
       "max      1.129575e+06\n",
       "Name: Sale Price, dtype: float64"
      ]
     },
     "execution_count": 14,
     "metadata": {},
     "output_type": "execute_result"
    }
   ],
   "source": [
    "Raw_Housing_Data[\"Sale Price\"].describe()\n",
    "# Maxm value is now replaced by upper_limit value"
   ]
  },
  {
   "cell_type": "code",
   "execution_count": 15,
   "id": "22a9900b",
   "metadata": {},
   "outputs": [],
   "source": [
    "# Here Mean>Median:-data is not normally distributed and bit skewed towards lower values"
   ]
  },
  {
   "cell_type": "markdown",
   "id": "e92f0200",
   "metadata": {},
   "source": [
    "# Treatment of Missing Values"
   ]
  },
  {
   "cell_type": "markdown",
   "id": "c5d38e71",
   "metadata": {},
   "source": [
    "1.Missing values can reduce the performance of the model"
   ]
  },
  {
   "cell_type": "markdown",
   "id": "f1bc5f85",
   "metadata": {},
   "source": [
    "2.Any row which has a missing value either for target variable or any of the independent variables cant be used for building the model"
   ]
  },
  {
   "cell_type": "markdown",
   "id": "18ae6f56",
   "metadata": {},
   "source": [
    "Ways of treating Missing Values"
   ]
  },
  {
   "cell_type": "markdown",
   "id": "ba0ca002",
   "metadata": {},
   "source": [
    "1.Deletion:-The entire row containing missing values is removed"
   ]
  },
  {
   "cell_type": "markdown",
   "id": "f5f323c9",
   "metadata": {},
   "source": [
    "2.Imputing:-replaced with mean median or mode values"
   ]
  },
  {
   "cell_type": "markdown",
   "id": "c58b8e2a",
   "metadata": {},
   "source": [
    "Avoid the imputation of the Target variable as much as we can\n",
    "Deletion of te missing value in Target Variable is preferred "
   ]
  },
  {
   "cell_type": "code",
   "execution_count": 16,
   "id": "571a32e7",
   "metadata": {},
   "outputs": [],
   "source": [
    "Raw_Housing_Data.dropna(inplace=True,axis=0,subset=[\"Sale Price\"])"
   ]
  },
  {
   "cell_type": "code",
   "execution_count": 17,
   "id": "2fab03b4",
   "metadata": {},
   "outputs": [
    {
     "name": "stdout",
     "output_type": "stream",
     "text": [
      "<class 'pandas.core.frame.DataFrame'>\n",
      "Int64Index: 21609 entries, 0 to 21612\n",
      "Data columns (total 21 columns):\n",
      " #   Column                                     Non-Null Count  Dtype  \n",
      "---  ------                                     --------------  -----  \n",
      " 0   ID                                         21609 non-null  int64  \n",
      " 1   Date House was Sold                        21609 non-null  object \n",
      " 2   Sale Price                                 21609 non-null  float64\n",
      " 3   No of Bedrooms                             21609 non-null  int64  \n",
      " 4   No of Bathrooms                            21605 non-null  float64\n",
      " 5   Flat Area (in Sqft)                        21600 non-null  float64\n",
      " 6   Lot Area (in Sqft)                         21600 non-null  float64\n",
      " 7   No of Floors                               21609 non-null  float64\n",
      " 8   Waterfront View                            21609 non-null  object \n",
      " 9   No of Times Visited                        21609 non-null  object \n",
      " 10  Condition of the House                     21609 non-null  object \n",
      " 11  Overall Grade                              21609 non-null  int64  \n",
      " 12  Area of the House from Basement (in Sqft)  21606 non-null  float64\n",
      " 13  Basement Area (in Sqft)                    21609 non-null  int64  \n",
      " 14  Age of House (in Years)                    21609 non-null  int64  \n",
      " 15  Renovated Year                             21609 non-null  int64  \n",
      " 16  Zipcode                                    21608 non-null  float64\n",
      " 17  Latitude                                   21608 non-null  float64\n",
      " 18  Longitude                                  21608 non-null  float64\n",
      " 19  Living Area after Renovation (in Sqft)     21608 non-null  float64\n",
      " 20  Lot Area after Renovation (in Sqft)        21609 non-null  int64  \n",
      "dtypes: float64(10), int64(7), object(4)\n",
      "memory usage: 3.6+ MB\n"
     ]
    }
   ],
   "source": [
    "Raw_Housing_Data.info()"
   ]
  },
  {
   "cell_type": "raw",
   "id": "e8eb8349",
   "metadata": {},
   "source": [
    "How the Values are distributed over a Range"
   ]
  },
  {
   "cell_type": "code",
   "execution_count": 18,
   "id": "0e0eedd5",
   "metadata": {
    "scrolled": true
   },
   "outputs": [
    {
     "data": {
      "text/plain": [
       "Text(0.5, 1.0, 'Histogram of Selling Price')"
      ]
     },
     "execution_count": 18,
     "metadata": {},
     "output_type": "execute_result"
    },
    {
     "data": {
      "image/png": "[encoded data removed]",
      "text/plain": [
       "<Figure size 432x288 with 1 Axes>"
      ]
     },
     "metadata": {
      "needs_background": "light"
     },
     "output_type": "display_data"
    }
   ],
   "source": [
    "plt.hist(Raw_Housing_Data[\"Sale Price\"],bins=10,color=\"green\")\n",
    "plt.xlabel(\"Intervals\")\n",
    "plt.ylabel(\"Sale price\")\n",
    "plt.title(\"Histogram of Selling Price\")\n"
   ]
  },
  {
   "cell_type": "code",
   "execution_count": 19,
   "id": "2b9c5f88",
   "metadata": {},
   "outputs": [],
   "source": [
    "# The data is skewed towards lower values"
   ]
  },
  {
   "cell_type": "markdown",
   "id": "dbd2224d",
   "metadata": {},
   "source": [
    "# Data Exploration-Independent Numerical Variables"
   ]
  },
  {
   "cell_type": "markdown",
   "id": "9728db72",
   "metadata": {},
   "source": [
    "#  Treating Missing Values in Independent Variables"
   ]
  },
  {
   "cell_type": "markdown",
   "id": "5f14fd99",
   "metadata": {},
   "source": [
    "Delation-Recommonded for Target Variables"
   ]
  },
  {
   "cell_type": "markdown",
   "id": "17f21285",
   "metadata": {},
   "source": [
    "Imputation-recommonded for Independent Variables"
   ]
  },
  {
   "cell_type": "code",
   "execution_count": 20,
   "id": "86886102",
   "metadata": {},
   "outputs": [],
   "source": [
    "# Missing ValueImputation can be done using the:-\n",
    "# .Mean and median for continuous variable\n",
    "# .Mode for Object Variable"
   ]
  },
  {
   "cell_type": "code",
   "execution_count": 21,
   "id": "85b89bb5",
   "metadata": {},
   "outputs": [],
   "source": [
    "Raw_Housing_Data.to_csv(\"Row_Housing_Prices2.csv\") # tO CHANGE in THE csv fILE"
   ]
  },
  {
   "cell_type": "code",
   "execution_count": 22,
   "id": "870ae505",
   "metadata": {},
   "outputs": [],
   "source": [
    "Raw_Housing_Data=pd.read_csv(\"Row_Housing_Prices2.csv\")"
   ]
  },
  {
   "cell_type": "code",
   "execution_count": 23,
   "id": "d4674d4c",
   "metadata": {},
   "outputs": [
    {
     "name": "stdout",
     "output_type": "stream",
     "text": [
      "<class 'pandas.core.frame.DataFrame'>\n",
      "RangeIndex: 21609 entries, 0 to 21608\n",
      "Data columns (total 22 columns):\n",
      " #   Column                                     Non-Null Count  Dtype  \n",
      "---  ------                                     --------------  -----  \n",
      " 0   Unnamed: 0                                 21609 non-null  int64  \n",
      " 1   ID                                         21609 non-null  int64  \n",
      " 2   Date House was Sold                        21609 non-null  object \n",
      " 3   Sale Price                                 21609 non-null  float64\n",
      " 4   No of Bedrooms                             21609 non-null  int64  \n",
      " 5   No of Bathrooms                            21605 non-null  float64\n",
      " 6   Flat Area (in Sqft)                        21600 non-null  float64\n",
      " 7   Lot Area (in Sqft)                         21600 non-null  float64\n",
      " 8   No of Floors                               21609 non-null  float64\n",
      " 9   Waterfront View                            21609 non-null  object \n",
      " 10  No of Times Visited                        21609 non-null  object \n",
      " 11  Condition of the House                     21609 non-null  object \n",
      " 12  Overall Grade                              21609 non-null  int64  \n",
      " 13  Area of the House from Basement (in Sqft)  21606 non-null  float64\n",
      " 14  Basement Area (in Sqft)                    21609 non-null  int64  \n",
      " 15  Age of House (in Years)                    21609 non-null  int64  \n",
      " 16  Renovated Year                             21609 non-null  int64  \n",
      " 17  Zipcode                                    21608 non-null  float64\n",
      " 18  Latitude                                   21608 non-null  float64\n",
      " 19  Longitude                                  21608 non-null  float64\n",
      " 20  Living Area after Renovation (in Sqft)     21608 non-null  float64\n",
      " 21  Lot Area after Renovation (in Sqft)        21609 non-null  int64  \n",
      "dtypes: float64(10), int64(8), object(4)\n",
      "memory usage: 3.6+ MB\n"
     ]
    }
   ],
   "source": [
    "Raw_Housing_Data.info()"
   ]
  },
  {
   "cell_type": "code",
   "execution_count": 24,
   "id": "54aa75ff",
   "metadata": {},
   "outputs": [],
   "source": [
    "numerical_column=[\"No of Bathrooms\",\"Flat Area (in Sqft)\",\"Lot Area (in Sqft)\",\"Area of the House from Basement (in Sqft)\",\"Latitude\",\"Longitude\",\"Living Area after Renovation (in Sqft)\"]"
   ]
  },
  {
   "cell_type": "code",
   "execution_count": 25,
   "id": "6adac807",
   "metadata": {},
   "outputs": [],
   "source": [
    "from sklearn.impute import SimpleImputer\n",
    "imputer=SimpleImputer(missing_values=np.nan,strategy=\"median\")\n",
    "Raw_Housing_Data[numerical_column]=imputer.fit_transform(Raw_Housing_Data[numerical_column])\n",
    "# \"fit_transform\" involve two steps\n",
    "# Fitting Phase:- The Function calculates the median value with respect to every columnthat we have Passed in as a Parameter and stores it\n",
    "# Transformation Phase:-The Function does the actual action of locating the missing values and imputing them using the median strategy"
   ]
  },
  {
   "cell_type": "code",
   "execution_count": 26,
   "id": "a72bf0fe",
   "metadata": {},
   "outputs": [
    {
     "name": "stdout",
     "output_type": "stream",
     "text": [
      "<class 'pandas.core.frame.DataFrame'>\n",
      "RangeIndex: 21609 entries, 0 to 21608\n",
      "Data columns (total 22 columns):\n",
      " #   Column                                     Non-Null Count  Dtype  \n",
      "---  ------                                     --------------  -----  \n",
      " 0   Unnamed: 0                                 21609 non-null  int64  \n",
      " 1   ID                                         21609 non-null  int64  \n",
      " 2   Date House was Sold                        21609 non-null  object \n",
      " 3   Sale Price                                 21609 non-null  float64\n",
      " 4   No of Bedrooms                             21609 non-null  int64  \n",
      " 5   No of Bathrooms                            21609 non-null  float64\n",
      " 6   Flat Area (in Sqft)                        21609 non-null  float64\n",
      " 7   Lot Area (in Sqft)                         21609 non-null  float64\n",
      " 8   No of Floors                               21609 non-null  float64\n",
      " 9   Waterfront View                            21609 non-null  object \n",
      " 10  No of Times Visited                        21609 non-null  object \n",
      " 11  Condition of the House                     21609 non-null  object \n",
      " 12  Overall Grade                              21609 non-null  int64  \n",
      " 13  Area of the House from Basement (in Sqft)  21609 non-null  float64\n",
      " 14  Basement Area (in Sqft)                    21609 non-null  int64  \n",
      " 15  Age of House (in Years)                    21609 non-null  int64  \n",
      " 16  Renovated Year                             21609 non-null  int64  \n",
      " 17  Zipcode                                    21608 non-null  float64\n",
      " 18  Latitude                                   21609 non-null  float64\n",
      " 19  Longitude                                  21609 non-null  float64\n",
      " 20  Living Area after Renovation (in Sqft)     21609 non-null  float64\n",
      " 21  Lot Area after Renovation (in Sqft)        21609 non-null  int64  \n",
      "dtypes: float64(10), int64(8), object(4)\n",
      "memory usage: 3.6+ MB\n"
     ]
    }
   ],
   "source": [
    "Raw_Housing_Data.info()"
   ]
  },
  {
   "cell_type": "code",
   "execution_count": 27,
   "id": "ca69330a",
   "metadata": {},
   "outputs": [],
   "source": [
    "# imputer=SimpleImputer(missing_values=np.nan,strategy=\"most_frequent\")\n",
    "# Raw_Housing_Data[\"Zipcode\"]=imputer.fit_transform(Raw_Housing_Data[\"Zipcode\"])"
   ]
  },
  {
   "cell_type": "code",
   "execution_count": 28,
   "id": "f3fdeffb",
   "metadata": {},
   "outputs": [
    {
     "data": {
      "text/plain": [
       "(21609,)"
      ]
     },
     "execution_count": 28,
     "metadata": {},
     "output_type": "execute_result"
    }
   ],
   "source": [
    "Raw_Housing_Data[\"Zipcode\"].shape"
   ]
  },
  {
   "cell_type": "code",
   "execution_count": 29,
   "id": "c259ab73",
   "metadata": {},
   "outputs": [
    {
     "data": {
      "text/plain": [
       "(21609, 1)"
      ]
     },
     "execution_count": 29,
     "metadata": {},
     "output_type": "execute_result"
    }
   ],
   "source": [
    "column=Raw_Housing_Data[\"Zipcode\"].values.reshape(-1,1)\n",
    "column.shape"
   ]
  },
  {
   "cell_type": "code",
   "execution_count": 30,
   "id": "45338bda",
   "metadata": {},
   "outputs": [],
   "source": [
    "imputer=SimpleImputer(missing_values=np.nan,strategy=\"most_frequent\")\n",
    "Raw_Housing_Data[\"Zipcode\"]=imputer.fit_transform(column)"
   ]
  },
  {
   "cell_type": "code",
   "execution_count": 31,
   "id": "cd370104",
   "metadata": {},
   "outputs": [
    {
     "name": "stdout",
     "output_type": "stream",
     "text": [
      "<class 'pandas.core.frame.DataFrame'>\n",
      "RangeIndex: 21609 entries, 0 to 21608\n",
      "Data columns (total 22 columns):\n",
      " #   Column                                     Non-Null Count  Dtype  \n",
      "---  ------                                     --------------  -----  \n",
      " 0   Unnamed: 0                                 21609 non-null  int64  \n",
      " 1   ID                                         21609 non-null  int64  \n",
      " 2   Date House was Sold                        21609 non-null  object \n",
      " 3   Sale Price                                 21609 non-null  float64\n",
      " 4   No of Bedrooms                             21609 non-null  int64  \n",
      " 5   No of Bathrooms                            21609 non-null  float64\n",
      " 6   Flat Area (in Sqft)                        21609 non-null  float64\n",
      " 7   Lot Area (in Sqft)                         21609 non-null  float64\n",
      " 8   No of Floors                               21609 non-null  float64\n",
      " 9   Waterfront View                            21609 non-null  object \n",
      " 10  No of Times Visited                        21609 non-null  object \n",
      " 11  Condition of the House                     21609 non-null  object \n",
      " 12  Overall Grade                              21609 non-null  int64  \n",
      " 13  Area of the House from Basement (in Sqft)  21609 non-null  float64\n",
      " 14  Basement Area (in Sqft)                    21609 non-null  int64  \n",
      " 15  Age of House (in Years)                    21609 non-null  int64  \n",
      " 16  Renovated Year                             21609 non-null  int64  \n",
      " 17  Zipcode                                    21609 non-null  float64\n",
      " 18  Latitude                                   21609 non-null  float64\n",
      " 19  Longitude                                  21609 non-null  float64\n",
      " 20  Living Area after Renovation (in Sqft)     21609 non-null  float64\n",
      " 21  Lot Area after Renovation (in Sqft)        21609 non-null  int64  \n",
      "dtypes: float64(10), int64(8), object(4)\n",
      "memory usage: 3.6+ MB\n"
     ]
    }
   ],
   "source": [
    "Raw_Housing_Data.info()"
   ]
  },
  {
   "cell_type": "markdown",
   "id": "488d2878",
   "metadata": {},
   "source": [
    "# Variable Transformation"
   ]
  },
  {
   "cell_type": "markdown",
   "id": "1ab094d0",
   "metadata": {},
   "source": [
    "Variable Transformation refers to the process of making changes to a variable in a way that it becomes more useful and meaningful for analysis and modeling Purpose."
   ]
  },
  {
   "cell_type": "markdown",
   "id": "39387bb6",
   "metadata": {},
   "source": [
    "Some reason for variable Transformation\n",
    "1.Outlier Tratment  3.change in information representable formate"
   ]
  },
  {
   "cell_type": "code",
   "execution_count": 32,
   "id": "6bee7065",
   "metadata": {},
   "outputs": [],
   "source": [
    "Raw_Housing_Data=pd.read_csv(\"Raw_Housing_Prices3.csv\")"
   ]
  },
  {
   "cell_type": "code",
   "execution_count": 33,
   "id": "a52f334d",
   "metadata": {},
   "outputs": [
    {
     "data": {
      "text/html": [
       "<div>\n",
       "<style scoped>\n",
       "    .dataframe tbody tr th:only-of-type {\n",
       "        vertical-align: middle;\n",
       "    }\n",
       "\n",
       "    .dataframe tbody tr th {\n",
       "        vertical-align: top;\n",
       "    }\n",
       "\n",
       "    .dataframe thead th {\n",
       "        text-align: right;\n",
       "    }\n",
       "</style>\n",
       "<table border=\"1\" class=\"dataframe\">\n",
       "  <thead>\n",
       "    <tr style=\"text-align: right;\">\n",
       "      <th></th>\n",
       "      <th>ID</th>\n",
       "      <th>Date House was Sold</th>\n",
       "      <th>Sale Price</th>\n",
       "      <th>No of Bedrooms</th>\n",
       "      <th>No of Bathrooms</th>\n",
       "      <th>Flat Area (in Sqft)</th>\n",
       "      <th>Lot Area (in Sqft)</th>\n",
       "      <th>No of Floors</th>\n",
       "      <th>Waterfront View</th>\n",
       "      <th>No of Times Visited</th>\n",
       "      <th>...</th>\n",
       "      <th>Overall Grade</th>\n",
       "      <th>Area of the House from Basement (in Sqft)</th>\n",
       "      <th>Basement Area (in Sqft)</th>\n",
       "      <th>Age of House (in Years)</th>\n",
       "      <th>Renovated Year</th>\n",
       "      <th>Zipcode</th>\n",
       "      <th>Latitude</th>\n",
       "      <th>Longitude</th>\n",
       "      <th>Living Area after Renovation (in Sqft)</th>\n",
       "      <th>Lot Area after Renovation (in Sqft)</th>\n",
       "    </tr>\n",
       "  </thead>\n",
       "  <tbody>\n",
       "    <tr>\n",
       "      <th>0</th>\n",
       "      <td>7129300520</td>\n",
       "      <td>14 October 2017</td>\n",
       "      <td>221900.0</td>\n",
       "      <td>3</td>\n",
       "      <td>1.00</td>\n",
       "      <td>1180.0</td>\n",
       "      <td>5650.0</td>\n",
       "      <td>1.0</td>\n",
       "      <td>No</td>\n",
       "      <td>None</td>\n",
       "      <td>...</td>\n",
       "      <td>7</td>\n",
       "      <td>1180.0</td>\n",
       "      <td>0</td>\n",
       "      <td>63</td>\n",
       "      <td>0</td>\n",
       "      <td>98178.0</td>\n",
       "      <td>47.5112</td>\n",
       "      <td>-122.257</td>\n",
       "      <td>1340.0</td>\n",
       "      <td>5650</td>\n",
       "    </tr>\n",
       "    <tr>\n",
       "      <th>1</th>\n",
       "      <td>6414100192</td>\n",
       "      <td>14 December 2017</td>\n",
       "      <td>538000.0</td>\n",
       "      <td>3</td>\n",
       "      <td>2.25</td>\n",
       "      <td>2570.0</td>\n",
       "      <td>7242.0</td>\n",
       "      <td>2.0</td>\n",
       "      <td>No</td>\n",
       "      <td>None</td>\n",
       "      <td>...</td>\n",
       "      <td>7</td>\n",
       "      <td>2170.0</td>\n",
       "      <td>400</td>\n",
       "      <td>67</td>\n",
       "      <td>1991</td>\n",
       "      <td>98125.0</td>\n",
       "      <td>47.7210</td>\n",
       "      <td>-122.319</td>\n",
       "      <td>1690.0</td>\n",
       "      <td>7639</td>\n",
       "    </tr>\n",
       "    <tr>\n",
       "      <th>2</th>\n",
       "      <td>5631500400</td>\n",
       "      <td>15 February 2016</td>\n",
       "      <td>180000.0</td>\n",
       "      <td>2</td>\n",
       "      <td>1.00</td>\n",
       "      <td>770.0</td>\n",
       "      <td>10000.0</td>\n",
       "      <td>1.0</td>\n",
       "      <td>No</td>\n",
       "      <td>None</td>\n",
       "      <td>...</td>\n",
       "      <td>6</td>\n",
       "      <td>770.0</td>\n",
       "      <td>0</td>\n",
       "      <td>85</td>\n",
       "      <td>0</td>\n",
       "      <td>98028.0</td>\n",
       "      <td>47.7379</td>\n",
       "      <td>-122.233</td>\n",
       "      <td>2720.0</td>\n",
       "      <td>8062</td>\n",
       "    </tr>\n",
       "    <tr>\n",
       "      <th>3</th>\n",
       "      <td>2487200875</td>\n",
       "      <td>14 December 2017</td>\n",
       "      <td>604000.0</td>\n",
       "      <td>4</td>\n",
       "      <td>3.00</td>\n",
       "      <td>1960.0</td>\n",
       "      <td>5000.0</td>\n",
       "      <td>1.0</td>\n",
       "      <td>No</td>\n",
       "      <td>None</td>\n",
       "      <td>...</td>\n",
       "      <td>7</td>\n",
       "      <td>1050.0</td>\n",
       "      <td>910</td>\n",
       "      <td>53</td>\n",
       "      <td>0</td>\n",
       "      <td>98136.0</td>\n",
       "      <td>47.5208</td>\n",
       "      <td>-122.393</td>\n",
       "      <td>1360.0</td>\n",
       "      <td>5000</td>\n",
       "    </tr>\n",
       "    <tr>\n",
       "      <th>4</th>\n",
       "      <td>1954400510</td>\n",
       "      <td>15 February 2016</td>\n",
       "      <td>510000.0</td>\n",
       "      <td>3</td>\n",
       "      <td>2.00</td>\n",
       "      <td>1680.0</td>\n",
       "      <td>8080.0</td>\n",
       "      <td>1.0</td>\n",
       "      <td>No</td>\n",
       "      <td>None</td>\n",
       "      <td>...</td>\n",
       "      <td>8</td>\n",
       "      <td>1680.0</td>\n",
       "      <td>0</td>\n",
       "      <td>31</td>\n",
       "      <td>0</td>\n",
       "      <td>98074.0</td>\n",
       "      <td>47.6168</td>\n",
       "      <td>-122.045</td>\n",
       "      <td>1800.0</td>\n",
       "      <td>7503</td>\n",
       "    </tr>\n",
       "  </tbody>\n",
       "</table>\n",
       "<p>5 rows × 21 columns</p>\n",
       "</div>"
      ],
      "text/plain": [
       "           ID Date House was Sold  Sale Price  No of Bedrooms  \\\n",
       "0  7129300520     14 October 2017    221900.0               3   \n",
       "1  6414100192    14 December 2017    538000.0               3   \n",
       "2  5631500400    15 February 2016    180000.0               2   \n",
       "3  2487200875    14 December 2017    604000.0               4   \n",
       "4  1954400510    15 February 2016    510000.0               3   \n",
       "\n",
       "   No of Bathrooms  Flat Area (in Sqft)  Lot Area (in Sqft)  No of Floors  \\\n",
       "0             1.00               1180.0              5650.0           1.0   \n",
       "1             2.25               2570.0              7242.0           2.0   \n",
       "2             1.00                770.0             10000.0           1.0   \n",
       "3             3.00               1960.0              5000.0           1.0   \n",
       "4             2.00               1680.0              8080.0           1.0   \n",
       "\n",
       "  Waterfront View No of Times Visited  ... Overall Grade  \\\n",
       "0              No                None  ...             7   \n",
       "1              No                None  ...             7   \n",
       "2              No                None  ...             6   \n",
       "3              No                None  ...             7   \n",
       "4              No                None  ...             8   \n",
       "\n",
       "   Area of the House from Basement (in Sqft)  Basement Area (in Sqft)  \\\n",
       "0                                     1180.0                        0   \n",
       "1                                     2170.0                      400   \n",
       "2                                      770.0                        0   \n",
       "3                                     1050.0                      910   \n",
       "4                                     1680.0                        0   \n",
       "\n",
       "   Age of House (in Years)  Renovated Year  Zipcode  Latitude  Longitude  \\\n",
       "0                       63               0  98178.0   47.5112   -122.257   \n",
       "1                       67            1991  98125.0   47.7210   -122.319   \n",
       "2                       85               0  98028.0   47.7379   -122.233   \n",
       "3                       53               0  98136.0   47.5208   -122.393   \n",
       "4                       31               0  98074.0   47.6168   -122.045   \n",
       "\n",
       "   Living Area after Renovation (in Sqft)  Lot Area after Renovation (in Sqft)  \n",
       "0                                  1340.0                                 5650  \n",
       "1                                  1690.0                                 7639  \n",
       "2                                  2720.0                                 8062  \n",
       "3                                  1360.0                                 5000  \n",
       "4                                  1800.0                                 7503  \n",
       "\n",
       "[5 rows x 21 columns]"
      ]
     },
     "execution_count": 33,
     "metadata": {},
     "output_type": "execute_result"
    }
   ],
   "source": [
    "Raw_Housing_Data.head()"
   ]
  },
  {
   "cell_type": "code",
   "execution_count": 34,
   "id": "d6aa3e9e",
   "metadata": {},
   "outputs": [
    {
     "name": "stdout",
     "output_type": "stream",
     "text": [
      "<class 'pandas.core.frame.DataFrame'>\n",
      "RangeIndex: 21609 entries, 0 to 21608\n",
      "Data columns (total 21 columns):\n",
      " #   Column                                     Non-Null Count  Dtype  \n",
      "---  ------                                     --------------  -----  \n",
      " 0   ID                                         21609 non-null  int64  \n",
      " 1   Date House was Sold                        21609 non-null  object \n",
      " 2   Sale Price                                 21609 non-null  float64\n",
      " 3   No of Bedrooms                             21609 non-null  int64  \n",
      " 4   No of Bathrooms                            21609 non-null  float64\n",
      " 5   Flat Area (in Sqft)                        21609 non-null  float64\n",
      " 6   Lot Area (in Sqft)                         21609 non-null  float64\n",
      " 7   No of Floors                               21609 non-null  float64\n",
      " 8   Waterfront View                            21609 non-null  object \n",
      " 9   No of Times Visited                        21609 non-null  object \n",
      " 10  Condition of the House                     21609 non-null  object \n",
      " 11  Overall Grade                              21609 non-null  int64  \n",
      " 12  Area of the House from Basement (in Sqft)  21609 non-null  float64\n",
      " 13  Basement Area (in Sqft)                    21609 non-null  int64  \n",
      " 14  Age of House (in Years)                    21609 non-null  int64  \n",
      " 15  Renovated Year                             21609 non-null  int64  \n",
      " 16  Zipcode                                    21609 non-null  float64\n",
      " 17  Latitude                                   21609 non-null  float64\n",
      " 18  Longitude                                  21609 non-null  float64\n",
      " 19  Living Area after Renovation (in Sqft)     21609 non-null  float64\n",
      " 20  Lot Area after Renovation (in Sqft)        21609 non-null  int64  \n",
      "dtypes: float64(10), int64(7), object(4)\n",
      "memory usage: 3.5+ MB\n"
     ]
    }
   ],
   "source": [
    "Raw_Housing_Data.info()"
   ]
  },
  {
   "cell_type": "markdown",
   "id": "c97bd20e",
   "metadata": {},
   "source": [
    "It would make sense to convert zipcode variable data type into a categorical variable where\n",
    "1. Sale Price in each zip code can be analysed \n",
    "2. Variation across zipcode can be seen"
   ]
  },
  {
   "cell_type": "code",
   "execution_count": 35,
   "id": "f158ddf4",
   "metadata": {},
   "outputs": [],
   "source": [
    "Raw_Housing_Data[\"Zipcode\"]=Raw_Housing_Data[\"Zipcode\"].astype(object)"
   ]
  },
  {
   "cell_type": "code",
   "execution_count": 36,
   "id": "f01c884b",
   "metadata": {},
   "outputs": [
    {
     "data": {
      "text/plain": [
       "ID                                             int64\n",
       "Date House was Sold                           object\n",
       "Sale Price                                   float64\n",
       "No of Bedrooms                                 int64\n",
       "No of Bathrooms                              float64\n",
       "Flat Area (in Sqft)                          float64\n",
       "Lot Area (in Sqft)                           float64\n",
       "No of Floors                                 float64\n",
       "Waterfront View                               object\n",
       "No of Times Visited                           object\n",
       "Condition of the House                        object\n",
       "Overall Grade                                  int64\n",
       "Area of the House from Basement (in Sqft)    float64\n",
       "Basement Area (in Sqft)                        int64\n",
       "Age of House (in Years)                        int64\n",
       "Renovated Year                                 int64\n",
       "Zipcode                                       object\n",
       "Latitude                                     float64\n",
       "Longitude                                    float64\n",
       "Living Area after Renovation (in Sqft)       float64\n",
       "Lot Area after Renovation (in Sqft)            int64\n",
       "dtype: object"
      ]
     },
     "execution_count": 36,
     "metadata": {},
     "output_type": "execute_result"
    }
   ],
   "source": [
    "Raw_Housing_Data.dtypes"
   ]
  },
  {
   "cell_type": "code",
   "execution_count": 37,
   "id": "fb4cd427",
   "metadata": {},
   "outputs": [
    {
     "data": {
      "text/plain": [
       "array(['None', 'Thrice', 'Four', 'Twice', 'Once'], dtype=object)"
      ]
     },
     "execution_count": 37,
     "metadata": {},
     "output_type": "execute_result"
    }
   ],
   "source": [
    "Raw_Housing_Data[\"No of Times Visited\"].unique()"
   ]
  },
  {
   "cell_type": "code",
   "execution_count": 38,
   "id": "10f5e35c",
   "metadata": {},
   "outputs": [],
   "source": [
    "mapping={\"None\":\"0\",\"Once\":\"1\",\"Twice\":\"2\",\"Thrice\":\"3\",\"Four\":\"4\"}\n",
    "Raw_Housing_Data[\"No of Times Visited\"]=Raw_Housing_Data[\"No of Times Visited\"].map(mapping)"
   ]
  },
  {
   "cell_type": "code",
   "execution_count": 39,
   "id": "be419dfa",
   "metadata": {},
   "outputs": [
    {
     "data": {
      "text/plain": [
       "array(['0', '3', '4', '2', '1'], dtype=object)"
      ]
     },
     "execution_count": 39,
     "metadata": {},
     "output_type": "execute_result"
    }
   ],
   "source": [
    "Raw_Housing_Data[\"No of Times Visited\"].unique()"
   ]
  },
  {
   "cell_type": "markdown",
   "id": "96be2f5e",
   "metadata": {},
   "source": [
    "To derive a new variable from an existing variable or combining two variables to transform a variable so that it becomes more useful"
   ]
  },
  {
   "cell_type": "markdown",
   "id": "b797fa59",
   "metadata": {},
   "source": [
    "# Derive Two new variable from the Variable Renovated Year 1.Ever Renovated  2.Year Since Renovation"
   ]
  },
  {
   "cell_type": "code",
   "execution_count": 40,
   "id": "3940c98a",
   "metadata": {},
   "outputs": [],
   "source": [
    "Raw_Housing_Data[\"Ever Renovate\"]=np.where(Raw_Housing_Data[\"Renovated Year\"]==0,\"No\",\"Yes\")"
   ]
  },
  {
   "cell_type": "code",
   "execution_count": 41,
   "id": "cd0d449b",
   "metadata": {},
   "outputs": [
    {
     "data": {
      "text/html": [
       "<div>\n",
       "<style scoped>\n",
       "    .dataframe tbody tr th:only-of-type {\n",
       "        vertical-align: middle;\n",
       "    }\n",
       "\n",
       "    .dataframe tbody tr th {\n",
       "        vertical-align: top;\n",
       "    }\n",
       "\n",
       "    .dataframe thead th {\n",
       "        text-align: right;\n",
       "    }\n",
       "</style>\n",
       "<table border=\"1\" class=\"dataframe\">\n",
       "  <thead>\n",
       "    <tr style=\"text-align: right;\">\n",
       "      <th></th>\n",
       "      <th>ID</th>\n",
       "      <th>Date House was Sold</th>\n",
       "      <th>Sale Price</th>\n",
       "      <th>No of Bedrooms</th>\n",
       "      <th>No of Bathrooms</th>\n",
       "      <th>Flat Area (in Sqft)</th>\n",
       "      <th>Lot Area (in Sqft)</th>\n",
       "      <th>No of Floors</th>\n",
       "      <th>Waterfront View</th>\n",
       "      <th>No of Times Visited</th>\n",
       "      <th>...</th>\n",
       "      <th>Area of the House from Basement (in Sqft)</th>\n",
       "      <th>Basement Area (in Sqft)</th>\n",
       "      <th>Age of House (in Years)</th>\n",
       "      <th>Renovated Year</th>\n",
       "      <th>Zipcode</th>\n",
       "      <th>Latitude</th>\n",
       "      <th>Longitude</th>\n",
       "      <th>Living Area after Renovation (in Sqft)</th>\n",
       "      <th>Lot Area after Renovation (in Sqft)</th>\n",
       "      <th>Ever Renovate</th>\n",
       "    </tr>\n",
       "  </thead>\n",
       "  <tbody>\n",
       "    <tr>\n",
       "      <th>0</th>\n",
       "      <td>7129300520</td>\n",
       "      <td>14 October 2017</td>\n",
       "      <td>221900.0</td>\n",
       "      <td>3</td>\n",
       "      <td>1.00</td>\n",
       "      <td>1180.0</td>\n",
       "      <td>5650.0</td>\n",
       "      <td>1.0</td>\n",
       "      <td>No</td>\n",
       "      <td>0</td>\n",
       "      <td>...</td>\n",
       "      <td>1180.0</td>\n",
       "      <td>0</td>\n",
       "      <td>63</td>\n",
       "      <td>0</td>\n",
       "      <td>98178.0</td>\n",
       "      <td>47.5112</td>\n",
       "      <td>-122.257</td>\n",
       "      <td>1340.0</td>\n",
       "      <td>5650</td>\n",
       "      <td>No</td>\n",
       "    </tr>\n",
       "    <tr>\n",
       "      <th>1</th>\n",
       "      <td>6414100192</td>\n",
       "      <td>14 December 2017</td>\n",
       "      <td>538000.0</td>\n",
       "      <td>3</td>\n",
       "      <td>2.25</td>\n",
       "      <td>2570.0</td>\n",
       "      <td>7242.0</td>\n",
       "      <td>2.0</td>\n",
       "      <td>No</td>\n",
       "      <td>0</td>\n",
       "      <td>...</td>\n",
       "      <td>2170.0</td>\n",
       "      <td>400</td>\n",
       "      <td>67</td>\n",
       "      <td>1991</td>\n",
       "      <td>98125.0</td>\n",
       "      <td>47.7210</td>\n",
       "      <td>-122.319</td>\n",
       "      <td>1690.0</td>\n",
       "      <td>7639</td>\n",
       "      <td>Yes</td>\n",
       "    </tr>\n",
       "    <tr>\n",
       "      <th>2</th>\n",
       "      <td>5631500400</td>\n",
       "      <td>15 February 2016</td>\n",
       "      <td>180000.0</td>\n",
       "      <td>2</td>\n",
       "      <td>1.00</td>\n",
       "      <td>770.0</td>\n",
       "      <td>10000.0</td>\n",
       "      <td>1.0</td>\n",
       "      <td>No</td>\n",
       "      <td>0</td>\n",
       "      <td>...</td>\n",
       "      <td>770.0</td>\n",
       "      <td>0</td>\n",
       "      <td>85</td>\n",
       "      <td>0</td>\n",
       "      <td>98028.0</td>\n",
       "      <td>47.7379</td>\n",
       "      <td>-122.233</td>\n",
       "      <td>2720.0</td>\n",
       "      <td>8062</td>\n",
       "      <td>No</td>\n",
       "    </tr>\n",
       "    <tr>\n",
       "      <th>3</th>\n",
       "      <td>2487200875</td>\n",
       "      <td>14 December 2017</td>\n",
       "      <td>604000.0</td>\n",
       "      <td>4</td>\n",
       "      <td>3.00</td>\n",
       "      <td>1960.0</td>\n",
       "      <td>5000.0</td>\n",
       "      <td>1.0</td>\n",
       "      <td>No</td>\n",
       "      <td>0</td>\n",
       "      <td>...</td>\n",
       "      <td>1050.0</td>\n",
       "      <td>910</td>\n",
       "      <td>53</td>\n",
       "      <td>0</td>\n",
       "      <td>98136.0</td>\n",
       "      <td>47.5208</td>\n",
       "      <td>-122.393</td>\n",
       "      <td>1360.0</td>\n",
       "      <td>5000</td>\n",
       "      <td>No</td>\n",
       "    </tr>\n",
       "    <tr>\n",
       "      <th>4</th>\n",
       "      <td>1954400510</td>\n",
       "      <td>15 February 2016</td>\n",
       "      <td>510000.0</td>\n",
       "      <td>3</td>\n",
       "      <td>2.00</td>\n",
       "      <td>1680.0</td>\n",
       "      <td>8080.0</td>\n",
       "      <td>1.0</td>\n",
       "      <td>No</td>\n",
       "      <td>0</td>\n",
       "      <td>...</td>\n",
       "      <td>1680.0</td>\n",
       "      <td>0</td>\n",
       "      <td>31</td>\n",
       "      <td>0</td>\n",
       "      <td>98074.0</td>\n",
       "      <td>47.6168</td>\n",
       "      <td>-122.045</td>\n",
       "      <td>1800.0</td>\n",
       "      <td>7503</td>\n",
       "      <td>No</td>\n",
       "    </tr>\n",
       "  </tbody>\n",
       "</table>\n",
       "<p>5 rows × 22 columns</p>\n",
       "</div>"
      ],
      "text/plain": [
       "           ID Date House was Sold  Sale Price  No of Bedrooms  \\\n",
       "0  7129300520     14 October 2017    221900.0               3   \n",
       "1  6414100192    14 December 2017    538000.0               3   \n",
       "2  5631500400    15 February 2016    180000.0               2   \n",
       "3  2487200875    14 December 2017    604000.0               4   \n",
       "4  1954400510    15 February 2016    510000.0               3   \n",
       "\n",
       "   No of Bathrooms  Flat Area (in Sqft)  Lot Area (in Sqft)  No of Floors  \\\n",
       "0             1.00               1180.0              5650.0           1.0   \n",
       "1             2.25               2570.0              7242.0           2.0   \n",
       "2             1.00                770.0             10000.0           1.0   \n",
       "3             3.00               1960.0              5000.0           1.0   \n",
       "4             2.00               1680.0              8080.0           1.0   \n",
       "\n",
       "  Waterfront View No of Times Visited  ...  \\\n",
       "0              No                   0  ...   \n",
       "1              No                   0  ...   \n",
       "2              No                   0  ...   \n",
       "3              No                   0  ...   \n",
       "4              No                   0  ...   \n",
       "\n",
       "  Area of the House from Basement (in Sqft)  Basement Area (in Sqft)  \\\n",
       "0                                    1180.0                        0   \n",
       "1                                    2170.0                      400   \n",
       "2                                     770.0                        0   \n",
       "3                                    1050.0                      910   \n",
       "4                                    1680.0                        0   \n",
       "\n",
       "   Age of House (in Years)  Renovated Year  Zipcode  Latitude Longitude  \\\n",
       "0                       63               0  98178.0   47.5112  -122.257   \n",
       "1                       67            1991  98125.0   47.7210  -122.319   \n",
       "2                       85               0  98028.0   47.7379  -122.233   \n",
       "3                       53               0  98136.0   47.5208  -122.393   \n",
       "4                       31               0  98074.0   47.6168  -122.045   \n",
       "\n",
       "   Living Area after Renovation (in Sqft)  \\\n",
       "0                                  1340.0   \n",
       "1                                  1690.0   \n",
       "2                                  2720.0   \n",
       "3                                  1360.0   \n",
       "4                                  1800.0   \n",
       "\n",
       "   Lot Area after Renovation (in Sqft)  Ever Renovate  \n",
       "0                                 5650             No  \n",
       "1                                 7639            Yes  \n",
       "2                                 8062             No  \n",
       "3                                 5000             No  \n",
       "4                                 7503             No  \n",
       "\n",
       "[5 rows x 22 columns]"
      ]
     },
     "execution_count": 41,
     "metadata": {},
     "output_type": "execute_result"
    }
   ],
   "source": [
    "Raw_Housing_Data.head()"
   ]
  },
  {
   "cell_type": "code",
   "execution_count": 42,
   "id": "24453901",
   "metadata": {},
   "outputs": [],
   "source": [
    "Raw_Housing_Data[\"Purchase Year\"]=pd.DatetimeIndex(Raw_Housing_Data[\"Date House was Sold\"]).year"
   ]
  },
  {
   "cell_type": "code",
   "execution_count": 43,
   "id": "1fff5a8c",
   "metadata": {},
   "outputs": [],
   "source": [
    "Raw_Housing_Data[\"Years Since Renovation\"]=np.where(Raw_Housing_Data[\"Ever Renovate\"]==\"Yes\",abs(Raw_Housing_Data[\"Purchase Year\"]-Raw_Housing_Data[\"Renovated Year\"]),0)"
   ]
  },
  {
   "cell_type": "code",
   "execution_count": 44,
   "id": "96a00cdc",
   "metadata": {},
   "outputs": [
    {
     "data": {
      "text/html": [
       "<div>\n",
       "<style scoped>\n",
       "    .dataframe tbody tr th:only-of-type {\n",
       "        vertical-align: middle;\n",
       "    }\n",
       "\n",
       "    .dataframe tbody tr th {\n",
       "        vertical-align: top;\n",
       "    }\n",
       "\n",
       "    .dataframe thead th {\n",
       "        text-align: right;\n",
       "    }\n",
       "</style>\n",
       "<table border=\"1\" class=\"dataframe\">\n",
       "  <thead>\n",
       "    <tr style=\"text-align: right;\">\n",
       "      <th></th>\n",
       "      <th>ID</th>\n",
       "      <th>Date House was Sold</th>\n",
       "      <th>Sale Price</th>\n",
       "      <th>No of Bedrooms</th>\n",
       "      <th>No of Bathrooms</th>\n",
       "      <th>Flat Area (in Sqft)</th>\n",
       "      <th>Lot Area (in Sqft)</th>\n",
       "      <th>No of Floors</th>\n",
       "      <th>Waterfront View</th>\n",
       "      <th>No of Times Visited</th>\n",
       "      <th>...</th>\n",
       "      <th>Age of House (in Years)</th>\n",
       "      <th>Renovated Year</th>\n",
       "      <th>Zipcode</th>\n",
       "      <th>Latitude</th>\n",
       "      <th>Longitude</th>\n",
       "      <th>Living Area after Renovation (in Sqft)</th>\n",
       "      <th>Lot Area after Renovation (in Sqft)</th>\n",
       "      <th>Ever Renovate</th>\n",
       "      <th>Purchase Year</th>\n",
       "      <th>Years Since Renovation</th>\n",
       "    </tr>\n",
       "  </thead>\n",
       "  <tbody>\n",
       "    <tr>\n",
       "      <th>0</th>\n",
       "      <td>7129300520</td>\n",
       "      <td>14 October 2017</td>\n",
       "      <td>221900.0</td>\n",
       "      <td>3</td>\n",
       "      <td>1.00</td>\n",
       "      <td>1180.0</td>\n",
       "      <td>5650.0</td>\n",
       "      <td>1.0</td>\n",
       "      <td>No</td>\n",
       "      <td>0</td>\n",
       "      <td>...</td>\n",
       "      <td>63</td>\n",
       "      <td>0</td>\n",
       "      <td>98178.0</td>\n",
       "      <td>47.5112</td>\n",
       "      <td>-122.257</td>\n",
       "      <td>1340.0</td>\n",
       "      <td>5650</td>\n",
       "      <td>No</td>\n",
       "      <td>2017</td>\n",
       "      <td>0</td>\n",
       "    </tr>\n",
       "    <tr>\n",
       "      <th>1</th>\n",
       "      <td>6414100192</td>\n",
       "      <td>14 December 2017</td>\n",
       "      <td>538000.0</td>\n",
       "      <td>3</td>\n",
       "      <td>2.25</td>\n",
       "      <td>2570.0</td>\n",
       "      <td>7242.0</td>\n",
       "      <td>2.0</td>\n",
       "      <td>No</td>\n",
       "      <td>0</td>\n",
       "      <td>...</td>\n",
       "      <td>67</td>\n",
       "      <td>1991</td>\n",
       "      <td>98125.0</td>\n",
       "      <td>47.7210</td>\n",
       "      <td>-122.319</td>\n",
       "      <td>1690.0</td>\n",
       "      <td>7639</td>\n",
       "      <td>Yes</td>\n",
       "      <td>2017</td>\n",
       "      <td>26</td>\n",
       "    </tr>\n",
       "    <tr>\n",
       "      <th>2</th>\n",
       "      <td>5631500400</td>\n",
       "      <td>15 February 2016</td>\n",
       "      <td>180000.0</td>\n",
       "      <td>2</td>\n",
       "      <td>1.00</td>\n",
       "      <td>770.0</td>\n",
       "      <td>10000.0</td>\n",
       "      <td>1.0</td>\n",
       "      <td>No</td>\n",
       "      <td>0</td>\n",
       "      <td>...</td>\n",
       "      <td>85</td>\n",
       "      <td>0</td>\n",
       "      <td>98028.0</td>\n",
       "      <td>47.7379</td>\n",
       "      <td>-122.233</td>\n",
       "      <td>2720.0</td>\n",
       "      <td>8062</td>\n",
       "      <td>No</td>\n",
       "      <td>2016</td>\n",
       "      <td>0</td>\n",
       "    </tr>\n",
       "    <tr>\n",
       "      <th>3</th>\n",
       "      <td>2487200875</td>\n",
       "      <td>14 December 2017</td>\n",
       "      <td>604000.0</td>\n",
       "      <td>4</td>\n",
       "      <td>3.00</td>\n",
       "      <td>1960.0</td>\n",
       "      <td>5000.0</td>\n",
       "      <td>1.0</td>\n",
       "      <td>No</td>\n",
       "      <td>0</td>\n",
       "      <td>...</td>\n",
       "      <td>53</td>\n",
       "      <td>0</td>\n",
       "      <td>98136.0</td>\n",
       "      <td>47.5208</td>\n",
       "      <td>-122.393</td>\n",
       "      <td>1360.0</td>\n",
       "      <td>5000</td>\n",
       "      <td>No</td>\n",
       "      <td>2017</td>\n",
       "      <td>0</td>\n",
       "    </tr>\n",
       "    <tr>\n",
       "      <th>4</th>\n",
       "      <td>1954400510</td>\n",
       "      <td>15 February 2016</td>\n",
       "      <td>510000.0</td>\n",
       "      <td>3</td>\n",
       "      <td>2.00</td>\n",
       "      <td>1680.0</td>\n",
       "      <td>8080.0</td>\n",
       "      <td>1.0</td>\n",
       "      <td>No</td>\n",
       "      <td>0</td>\n",
       "      <td>...</td>\n",
       "      <td>31</td>\n",
       "      <td>0</td>\n",
       "      <td>98074.0</td>\n",
       "      <td>47.6168</td>\n",
       "      <td>-122.045</td>\n",
       "      <td>1800.0</td>\n",
       "      <td>7503</td>\n",
       "      <td>No</td>\n",
       "      <td>2016</td>\n",
       "      <td>0</td>\n",
       "    </tr>\n",
       "  </tbody>\n",
       "</table>\n",
       "<p>5 rows × 24 columns</p>\n",
       "</div>"
      ],
      "text/plain": [
       "           ID Date House was Sold  Sale Price  No of Bedrooms  \\\n",
       "0  7129300520     14 October 2017    221900.0               3   \n",
       "1  6414100192    14 December 2017    538000.0               3   \n",
       "2  5631500400    15 February 2016    180000.0               2   \n",
       "3  2487200875    14 December 2017    604000.0               4   \n",
       "4  1954400510    15 February 2016    510000.0               3   \n",
       "\n",
       "   No of Bathrooms  Flat Area (in Sqft)  Lot Area (in Sqft)  No of Floors  \\\n",
       "0             1.00               1180.0              5650.0           1.0   \n",
       "1             2.25               2570.0              7242.0           2.0   \n",
       "2             1.00                770.0             10000.0           1.0   \n",
       "3             3.00               1960.0              5000.0           1.0   \n",
       "4             2.00               1680.0              8080.0           1.0   \n",
       "\n",
       "  Waterfront View No of Times Visited  ... Age of House (in Years)  \\\n",
       "0              No                   0  ...                      63   \n",
       "1              No                   0  ...                      67   \n",
       "2              No                   0  ...                      85   \n",
       "3              No                   0  ...                      53   \n",
       "4              No                   0  ...                      31   \n",
       "\n",
       "   Renovated Year  Zipcode  Latitude  Longitude  \\\n",
       "0               0  98178.0   47.5112   -122.257   \n",
       "1            1991  98125.0   47.7210   -122.319   \n",
       "2               0  98028.0   47.7379   -122.233   \n",
       "3               0  98136.0   47.5208   -122.393   \n",
       "4               0  98074.0   47.6168   -122.045   \n",
       "\n",
       "   Living Area after Renovation (in Sqft) Lot Area after Renovation (in Sqft)  \\\n",
       "0                                  1340.0                                5650   \n",
       "1                                  1690.0                                7639   \n",
       "2                                  2720.0                                8062   \n",
       "3                                  1360.0                                5000   \n",
       "4                                  1800.0                                7503   \n",
       "\n",
       "   Ever Renovate  Purchase Year  Years Since Renovation  \n",
       "0             No           2017                       0  \n",
       "1            Yes           2017                      26  \n",
       "2             No           2016                       0  \n",
       "3             No           2017                       0  \n",
       "4             No           2016                       0  \n",
       "\n",
       "[5 rows x 24 columns]"
      ]
     },
     "execution_count": 44,
     "metadata": {},
     "output_type": "execute_result"
    }
   ],
   "source": [
    "Raw_Housing_Data.head()"
   ]
  },
  {
   "cell_type": "code",
   "execution_count": 45,
   "id": "410d2ac0",
   "metadata": {},
   "outputs": [],
   "source": [
    "Raw_Housing_Data.drop(columns=[\"Purchase Year\",'Date House was Sold',\"Renovated Year\"],inplace=True)"
   ]
  },
  {
   "cell_type": "code",
   "execution_count": 46,
   "id": "fb5591f5",
   "metadata": {},
   "outputs": [
    {
     "data": {
      "text/html": [
       "<div>\n",
       "<style scoped>\n",
       "    .dataframe tbody tr th:only-of-type {\n",
       "        vertical-align: middle;\n",
       "    }\n",
       "\n",
       "    .dataframe tbody tr th {\n",
       "        vertical-align: top;\n",
       "    }\n",
       "\n",
       "    .dataframe thead th {\n",
       "        text-align: right;\n",
       "    }\n",
       "</style>\n",
       "<table border=\"1\" class=\"dataframe\">\n",
       "  <thead>\n",
       "    <tr style=\"text-align: right;\">\n",
       "      <th></th>\n",
       "      <th>ID</th>\n",
       "      <th>Sale Price</th>\n",
       "      <th>No of Bedrooms</th>\n",
       "      <th>No of Bathrooms</th>\n",
       "      <th>Flat Area (in Sqft)</th>\n",
       "      <th>Lot Area (in Sqft)</th>\n",
       "      <th>No of Floors</th>\n",
       "      <th>Waterfront View</th>\n",
       "      <th>No of Times Visited</th>\n",
       "      <th>Condition of the House</th>\n",
       "      <th>...</th>\n",
       "      <th>Area of the House from Basement (in Sqft)</th>\n",
       "      <th>Basement Area (in Sqft)</th>\n",
       "      <th>Age of House (in Years)</th>\n",
       "      <th>Zipcode</th>\n",
       "      <th>Latitude</th>\n",
       "      <th>Longitude</th>\n",
       "      <th>Living Area after Renovation (in Sqft)</th>\n",
       "      <th>Lot Area after Renovation (in Sqft)</th>\n",
       "      <th>Ever Renovate</th>\n",
       "      <th>Years Since Renovation</th>\n",
       "    </tr>\n",
       "  </thead>\n",
       "  <tbody>\n",
       "    <tr>\n",
       "      <th>0</th>\n",
       "      <td>7129300520</td>\n",
       "      <td>221900.0</td>\n",
       "      <td>3</td>\n",
       "      <td>1.00</td>\n",
       "      <td>1180.0</td>\n",
       "      <td>5650.0</td>\n",
       "      <td>1.0</td>\n",
       "      <td>No</td>\n",
       "      <td>0</td>\n",
       "      <td>Fair</td>\n",
       "      <td>...</td>\n",
       "      <td>1180.0</td>\n",
       "      <td>0</td>\n",
       "      <td>63</td>\n",
       "      <td>98178.0</td>\n",
       "      <td>47.5112</td>\n",
       "      <td>-122.257</td>\n",
       "      <td>1340.0</td>\n",
       "      <td>5650</td>\n",
       "      <td>No</td>\n",
       "      <td>0</td>\n",
       "    </tr>\n",
       "    <tr>\n",
       "      <th>1</th>\n",
       "      <td>6414100192</td>\n",
       "      <td>538000.0</td>\n",
       "      <td>3</td>\n",
       "      <td>2.25</td>\n",
       "      <td>2570.0</td>\n",
       "      <td>7242.0</td>\n",
       "      <td>2.0</td>\n",
       "      <td>No</td>\n",
       "      <td>0</td>\n",
       "      <td>Fair</td>\n",
       "      <td>...</td>\n",
       "      <td>2170.0</td>\n",
       "      <td>400</td>\n",
       "      <td>67</td>\n",
       "      <td>98125.0</td>\n",
       "      <td>47.7210</td>\n",
       "      <td>-122.319</td>\n",
       "      <td>1690.0</td>\n",
       "      <td>7639</td>\n",
       "      <td>Yes</td>\n",
       "      <td>26</td>\n",
       "    </tr>\n",
       "    <tr>\n",
       "      <th>2</th>\n",
       "      <td>5631500400</td>\n",
       "      <td>180000.0</td>\n",
       "      <td>2</td>\n",
       "      <td>1.00</td>\n",
       "      <td>770.0</td>\n",
       "      <td>10000.0</td>\n",
       "      <td>1.0</td>\n",
       "      <td>No</td>\n",
       "      <td>0</td>\n",
       "      <td>Fair</td>\n",
       "      <td>...</td>\n",
       "      <td>770.0</td>\n",
       "      <td>0</td>\n",
       "      <td>85</td>\n",
       "      <td>98028.0</td>\n",
       "      <td>47.7379</td>\n",
       "      <td>-122.233</td>\n",
       "      <td>2720.0</td>\n",
       "      <td>8062</td>\n",
       "      <td>No</td>\n",
       "      <td>0</td>\n",
       "    </tr>\n",
       "    <tr>\n",
       "      <th>3</th>\n",
       "      <td>2487200875</td>\n",
       "      <td>604000.0</td>\n",
       "      <td>4</td>\n",
       "      <td>3.00</td>\n",
       "      <td>1960.0</td>\n",
       "      <td>5000.0</td>\n",
       "      <td>1.0</td>\n",
       "      <td>No</td>\n",
       "      <td>0</td>\n",
       "      <td>Excellent</td>\n",
       "      <td>...</td>\n",
       "      <td>1050.0</td>\n",
       "      <td>910</td>\n",
       "      <td>53</td>\n",
       "      <td>98136.0</td>\n",
       "      <td>47.5208</td>\n",
       "      <td>-122.393</td>\n",
       "      <td>1360.0</td>\n",
       "      <td>5000</td>\n",
       "      <td>No</td>\n",
       "      <td>0</td>\n",
       "    </tr>\n",
       "    <tr>\n",
       "      <th>4</th>\n",
       "      <td>1954400510</td>\n",
       "      <td>510000.0</td>\n",
       "      <td>3</td>\n",
       "      <td>2.00</td>\n",
       "      <td>1680.0</td>\n",
       "      <td>8080.0</td>\n",
       "      <td>1.0</td>\n",
       "      <td>No</td>\n",
       "      <td>0</td>\n",
       "      <td>Fair</td>\n",
       "      <td>...</td>\n",
       "      <td>1680.0</td>\n",
       "      <td>0</td>\n",
       "      <td>31</td>\n",
       "      <td>98074.0</td>\n",
       "      <td>47.6168</td>\n",
       "      <td>-122.045</td>\n",
       "      <td>1800.0</td>\n",
       "      <td>7503</td>\n",
       "      <td>No</td>\n",
       "      <td>0</td>\n",
       "    </tr>\n",
       "  </tbody>\n",
       "</table>\n",
       "<p>5 rows × 21 columns</p>\n",
       "</div>"
      ],
      "text/plain": [
       "           ID  Sale Price  No of Bedrooms  No of Bathrooms  \\\n",
       "0  7129300520    221900.0               3             1.00   \n",
       "1  6414100192    538000.0               3             2.25   \n",
       "2  5631500400    180000.0               2             1.00   \n",
       "3  2487200875    604000.0               4             3.00   \n",
       "4  1954400510    510000.0               3             2.00   \n",
       "\n",
       "   Flat Area (in Sqft)  Lot Area (in Sqft)  No of Floors Waterfront View  \\\n",
       "0               1180.0              5650.0           1.0              No   \n",
       "1               2570.0              7242.0           2.0              No   \n",
       "2                770.0             10000.0           1.0              No   \n",
       "3               1960.0              5000.0           1.0              No   \n",
       "4               1680.0              8080.0           1.0              No   \n",
       "\n",
       "  No of Times Visited Condition of the House  ...  \\\n",
       "0                   0                   Fair  ...   \n",
       "1                   0                   Fair  ...   \n",
       "2                   0                   Fair  ...   \n",
       "3                   0              Excellent  ...   \n",
       "4                   0                   Fair  ...   \n",
       "\n",
       "   Area of the House from Basement (in Sqft)  Basement Area (in Sqft)  \\\n",
       "0                                     1180.0                        0   \n",
       "1                                     2170.0                      400   \n",
       "2                                      770.0                        0   \n",
       "3                                     1050.0                      910   \n",
       "4                                     1680.0                        0   \n",
       "\n",
       "   Age of House (in Years)  Zipcode Latitude  Longitude  \\\n",
       "0                       63  98178.0  47.5112   -122.257   \n",
       "1                       67  98125.0  47.7210   -122.319   \n",
       "2                       85  98028.0  47.7379   -122.233   \n",
       "3                       53  98136.0  47.5208   -122.393   \n",
       "4                       31  98074.0  47.6168   -122.045   \n",
       "\n",
       "   Living Area after Renovation (in Sqft)  \\\n",
       "0                                  1340.0   \n",
       "1                                  1690.0   \n",
       "2                                  2720.0   \n",
       "3                                  1360.0   \n",
       "4                                  1800.0   \n",
       "\n",
       "   Lot Area after Renovation (in Sqft)  Ever Renovate Years Since Renovation  \n",
       "0                                 5650             No                      0  \n",
       "1                                 7639            Yes                     26  \n",
       "2                                 8062             No                      0  \n",
       "3                                 5000             No                      0  \n",
       "4                                 7503             No                      0  \n",
       "\n",
       "[5 rows x 21 columns]"
      ]
     },
     "execution_count": 46,
     "metadata": {},
     "output_type": "execute_result"
    }
   ],
   "source": [
    "Raw_Housing_Data.head()"
   ]
  },
  {
   "cell_type": "code",
   "execution_count": 47,
   "id": "e1c8eee2",
   "metadata": {},
   "outputs": [],
   "source": [
    "Raw_Housing_Data.to_csv(\"Transformed_Housing_Data\",index=False)"
   ]
  },
  {
   "cell_type": "markdown",
   "id": "d9db9452",
   "metadata": {},
   "source": [
    "# Correlation"
   ]
  },
  {
   "cell_type": "code",
   "execution_count": 48,
   "id": "28fab7d7",
   "metadata": {},
   "outputs": [],
   "source": [
    "Transformed_Housing_Data=pd.read_csv(\"Transformed_Housing_Data (2).csv\")"
   ]
  },
  {
   "cell_type": "code",
   "execution_count": 49,
   "id": "f925b7b9",
   "metadata": {},
   "outputs": [
    {
     "data": {
      "text/html": [
       "<div>\n",
       "<style scoped>\n",
       "    .dataframe tbody tr th:only-of-type {\n",
       "        vertical-align: middle;\n",
       "    }\n",
       "\n",
       "    .dataframe tbody tr th {\n",
       "        vertical-align: top;\n",
       "    }\n",
       "\n",
       "    .dataframe thead th {\n",
       "        text-align: right;\n",
       "    }\n",
       "</style>\n",
       "<table border=\"1\" class=\"dataframe\">\n",
       "  <thead>\n",
       "    <tr style=\"text-align: right;\">\n",
       "      <th></th>\n",
       "      <th>ID</th>\n",
       "      <th>Sale Price</th>\n",
       "      <th>No of Bedrooms</th>\n",
       "      <th>No of Bathrooms</th>\n",
       "      <th>Flat Area (in Sqft)</th>\n",
       "      <th>Lot Area (in Sqft)</th>\n",
       "      <th>No of Floors</th>\n",
       "      <th>Waterfront View</th>\n",
       "      <th>No of Times Visited</th>\n",
       "      <th>Condition of the House</th>\n",
       "      <th>...</th>\n",
       "      <th>Area of the House from Basement (in Sqft)</th>\n",
       "      <th>Basement Area (in Sqft)</th>\n",
       "      <th>Age of House (in Years)</th>\n",
       "      <th>Zipcode</th>\n",
       "      <th>Latitude</th>\n",
       "      <th>Longitude</th>\n",
       "      <th>Living Area after Renovation (in Sqft)</th>\n",
       "      <th>Lot Area after Renovation (in Sqft)</th>\n",
       "      <th>Ever Renovated</th>\n",
       "      <th>Years Since Renovation</th>\n",
       "    </tr>\n",
       "  </thead>\n",
       "  <tbody>\n",
       "    <tr>\n",
       "      <th>0</th>\n",
       "      <td>7129300520</td>\n",
       "      <td>221900.0</td>\n",
       "      <td>3</td>\n",
       "      <td>1.00</td>\n",
       "      <td>1180.0</td>\n",
       "      <td>5650.0</td>\n",
       "      <td>1.0</td>\n",
       "      <td>No</td>\n",
       "      <td>0</td>\n",
       "      <td>Fair</td>\n",
       "      <td>...</td>\n",
       "      <td>1180.0</td>\n",
       "      <td>0</td>\n",
       "      <td>63</td>\n",
       "      <td>98178.0</td>\n",
       "      <td>47.5112</td>\n",
       "      <td>-122.257</td>\n",
       "      <td>1340.0</td>\n",
       "      <td>5650</td>\n",
       "      <td>No</td>\n",
       "      <td>0</td>\n",
       "    </tr>\n",
       "    <tr>\n",
       "      <th>1</th>\n",
       "      <td>6414100192</td>\n",
       "      <td>538000.0</td>\n",
       "      <td>3</td>\n",
       "      <td>2.25</td>\n",
       "      <td>2570.0</td>\n",
       "      <td>7242.0</td>\n",
       "      <td>2.0</td>\n",
       "      <td>No</td>\n",
       "      <td>0</td>\n",
       "      <td>Fair</td>\n",
       "      <td>...</td>\n",
       "      <td>2170.0</td>\n",
       "      <td>400</td>\n",
       "      <td>67</td>\n",
       "      <td>98125.0</td>\n",
       "      <td>47.7210</td>\n",
       "      <td>-122.319</td>\n",
       "      <td>1690.0</td>\n",
       "      <td>7639</td>\n",
       "      <td>Yes</td>\n",
       "      <td>26</td>\n",
       "    </tr>\n",
       "    <tr>\n",
       "      <th>2</th>\n",
       "      <td>5631500400</td>\n",
       "      <td>180000.0</td>\n",
       "      <td>2</td>\n",
       "      <td>1.00</td>\n",
       "      <td>770.0</td>\n",
       "      <td>10000.0</td>\n",
       "      <td>1.0</td>\n",
       "      <td>No</td>\n",
       "      <td>0</td>\n",
       "      <td>Fair</td>\n",
       "      <td>...</td>\n",
       "      <td>770.0</td>\n",
       "      <td>0</td>\n",
       "      <td>85</td>\n",
       "      <td>98028.0</td>\n",
       "      <td>47.7379</td>\n",
       "      <td>-122.233</td>\n",
       "      <td>2720.0</td>\n",
       "      <td>8062</td>\n",
       "      <td>No</td>\n",
       "      <td>0</td>\n",
       "    </tr>\n",
       "    <tr>\n",
       "      <th>3</th>\n",
       "      <td>2487200875</td>\n",
       "      <td>604000.0</td>\n",
       "      <td>4</td>\n",
       "      <td>3.00</td>\n",
       "      <td>1960.0</td>\n",
       "      <td>5000.0</td>\n",
       "      <td>1.0</td>\n",
       "      <td>No</td>\n",
       "      <td>0</td>\n",
       "      <td>Excellent</td>\n",
       "      <td>...</td>\n",
       "      <td>1050.0</td>\n",
       "      <td>910</td>\n",
       "      <td>53</td>\n",
       "      <td>98136.0</td>\n",
       "      <td>47.5208</td>\n",
       "      <td>-122.393</td>\n",
       "      <td>1360.0</td>\n",
       "      <td>5000</td>\n",
       "      <td>No</td>\n",
       "      <td>0</td>\n",
       "    </tr>\n",
       "    <tr>\n",
       "      <th>4</th>\n",
       "      <td>1954400510</td>\n",
       "      <td>510000.0</td>\n",
       "      <td>3</td>\n",
       "      <td>2.00</td>\n",
       "      <td>1680.0</td>\n",
       "      <td>8080.0</td>\n",
       "      <td>1.0</td>\n",
       "      <td>No</td>\n",
       "      <td>0</td>\n",
       "      <td>Fair</td>\n",
       "      <td>...</td>\n",
       "      <td>1680.0</td>\n",
       "      <td>0</td>\n",
       "      <td>31</td>\n",
       "      <td>98074.0</td>\n",
       "      <td>47.6168</td>\n",
       "      <td>-122.045</td>\n",
       "      <td>1800.0</td>\n",
       "      <td>7503</td>\n",
       "      <td>No</td>\n",
       "      <td>0</td>\n",
       "    </tr>\n",
       "  </tbody>\n",
       "</table>\n",
       "<p>5 rows × 21 columns</p>\n",
       "</div>"
      ],
      "text/plain": [
       "           ID  Sale Price  No of Bedrooms  No of Bathrooms  \\\n",
       "0  7129300520    221900.0               3             1.00   \n",
       "1  6414100192    538000.0               3             2.25   \n",
       "2  5631500400    180000.0               2             1.00   \n",
       "3  2487200875    604000.0               4             3.00   \n",
       "4  1954400510    510000.0               3             2.00   \n",
       "\n",
       "   Flat Area (in Sqft)  Lot Area (in Sqft)  No of Floors Waterfront View  \\\n",
       "0               1180.0              5650.0           1.0              No   \n",
       "1               2570.0              7242.0           2.0              No   \n",
       "2                770.0             10000.0           1.0              No   \n",
       "3               1960.0              5000.0           1.0              No   \n",
       "4               1680.0              8080.0           1.0              No   \n",
       "\n",
       "   No of Times Visited Condition of the House  ...  \\\n",
       "0                    0                   Fair  ...   \n",
       "1                    0                   Fair  ...   \n",
       "2                    0                   Fair  ...   \n",
       "3                    0              Excellent  ...   \n",
       "4                    0                   Fair  ...   \n",
       "\n",
       "   Area of the House from Basement (in Sqft)  Basement Area (in Sqft)  \\\n",
       "0                                     1180.0                        0   \n",
       "1                                     2170.0                      400   \n",
       "2                                      770.0                        0   \n",
       "3                                     1050.0                      910   \n",
       "4                                     1680.0                        0   \n",
       "\n",
       "   Age of House (in Years)  Zipcode  Latitude  Longitude  \\\n",
       "0                       63  98178.0   47.5112   -122.257   \n",
       "1                       67  98125.0   47.7210   -122.319   \n",
       "2                       85  98028.0   47.7379   -122.233   \n",
       "3                       53  98136.0   47.5208   -122.393   \n",
       "4                       31  98074.0   47.6168   -122.045   \n",
       "\n",
       "   Living Area after Renovation (in Sqft)  \\\n",
       "0                                  1340.0   \n",
       "1                                  1690.0   \n",
       "2                                  2720.0   \n",
       "3                                  1360.0   \n",
       "4                                  1800.0   \n",
       "\n",
       "   Lot Area after Renovation (in Sqft)  Ever Renovated Years Since Renovation  \n",
       "0                                 5650              No                      0  \n",
       "1                                 7639             Yes                     26  \n",
       "2                                 8062              No                      0  \n",
       "3                                 5000              No                      0  \n",
       "4                                 7503              No                      0  \n",
       "\n",
       "[5 rows x 21 columns]"
      ]
     },
     "execution_count": 49,
     "metadata": {},
     "output_type": "execute_result"
    }
   ],
   "source": [
    "Transformed_Housing_Data.head()"
   ]
  },
  {
   "cell_type": "code",
   "execution_count": 50,
   "id": "fc70057e",
   "metadata": {},
   "outputs": [
    {
     "data": {
      "text/plain": [
       "0.6951704258420668"
      ]
     },
     "execution_count": 50,
     "metadata": {},
     "output_type": "execute_result"
    }
   ],
   "source": [
    "Transformed_Housing_Data[\"Sale Price\"].corr(Transformed_Housing_Data[\"Flat Area (in Sqft)\"])"
   ]
  },
  {
   "cell_type": "code",
   "execution_count": 51,
   "id": "f07fafe4",
   "metadata": {},
   "outputs": [
    {
     "data": {
      "text/plain": [
       "array([[1.        , 0.69517043],\n",
       "       [0.69517043, 1.        ]])"
      ]
     },
     "execution_count": 51,
     "metadata": {},
     "output_type": "execute_result"
    }
   ],
   "source": [
    "np.corrcoef(Transformed_Housing_Data[\"Sale Price\"],Transformed_Housing_Data[\"Flat Area (in Sqft)\"])"
   ]
  },
  {
   "cell_type": "code",
   "execution_count": 52,
   "id": "5a0ac6f6",
   "metadata": {},
   "outputs": [
    {
     "data": {
      "text/html": [
       "<div>\n",
       "<style scoped>\n",
       "    .dataframe tbody tr th:only-of-type {\n",
       "        vertical-align: middle;\n",
       "    }\n",
       "\n",
       "    .dataframe tbody tr th {\n",
       "        vertical-align: top;\n",
       "    }\n",
       "\n",
       "    .dataframe thead th {\n",
       "        text-align: right;\n",
       "    }\n",
       "</style>\n",
       "<table border=\"1\" class=\"dataframe\">\n",
       "  <thead>\n",
       "    <tr style=\"text-align: right;\">\n",
       "      <th></th>\n",
       "      <th>Sale Price</th>\n",
       "      <th>No of Bedrooms</th>\n",
       "      <th>No of Bathrooms</th>\n",
       "      <th>Flat Area (in Sqft)</th>\n",
       "      <th>Lot Area (in Sqft)</th>\n",
       "      <th>No of Floors</th>\n",
       "      <th>No of Times Visited</th>\n",
       "      <th>Overall Grade</th>\n",
       "      <th>Area of the House from Basement (in Sqft)</th>\n",
       "      <th>Basement Area (in Sqft)</th>\n",
       "      <th>Age of House (in Years)</th>\n",
       "      <th>Zipcode</th>\n",
       "      <th>Latitude</th>\n",
       "      <th>Longitude</th>\n",
       "      <th>Living Area after Renovation (in Sqft)</th>\n",
       "      <th>Lot Area after Renovation (in Sqft)</th>\n",
       "      <th>Years Since Renovation</th>\n",
       "    </tr>\n",
       "  </thead>\n",
       "  <tbody>\n",
       "    <tr>\n",
       "      <th>Sale Price</th>\n",
       "      <td>1.000000</td>\n",
       "      <td>0.339407</td>\n",
       "      <td>0.535124</td>\n",
       "      <td>0.695170</td>\n",
       "      <td>0.101319</td>\n",
       "      <td>0.298913</td>\n",
       "      <td>0.356114</td>\n",
       "      <td>0.680914</td>\n",
       "      <td>0.606527</td>\n",
       "      <td>0.307513</td>\n",
       "      <td>-0.064306</td>\n",
       "      <td>-0.043047</td>\n",
       "      <td>0.402430</td>\n",
       "      <td>0.045401</td>\n",
       "      <td>0.629944</td>\n",
       "      <td>0.092325</td>\n",
       "      <td>0.065907</td>\n",
       "    </tr>\n",
       "    <tr>\n",
       "      <th>No of Bedrooms</th>\n",
       "      <td>0.339407</td>\n",
       "      <td>1.000000</td>\n",
       "      <td>0.515813</td>\n",
       "      <td>0.576628</td>\n",
       "      <td>0.031692</td>\n",
       "      <td>0.175536</td>\n",
       "      <td>0.079575</td>\n",
       "      <td>0.349223</td>\n",
       "      <td>0.477549</td>\n",
       "      <td>0.303294</td>\n",
       "      <td>-0.154113</td>\n",
       "      <td>-0.152760</td>\n",
       "      <td>-0.008708</td>\n",
       "      <td>0.129569</td>\n",
       "      <td>0.391771</td>\n",
       "      <td>0.029264</td>\n",
       "      <td>-0.007198</td>\n",
       "    </tr>\n",
       "    <tr>\n",
       "      <th>No of Bathrooms</th>\n",
       "      <td>0.535124</td>\n",
       "      <td>0.515813</td>\n",
       "      <td>1.000000</td>\n",
       "      <td>0.754568</td>\n",
       "      <td>0.087732</td>\n",
       "      <td>0.500776</td>\n",
       "      <td>0.187791</td>\n",
       "      <td>0.635638</td>\n",
       "      <td>0.685088</td>\n",
       "      <td>0.283798</td>\n",
       "      <td>-0.505954</td>\n",
       "      <td>-0.203951</td>\n",
       "      <td>0.024570</td>\n",
       "      <td>0.223171</td>\n",
       "      <td>0.568568</td>\n",
       "      <td>0.087226</td>\n",
       "      <td>0.003551</td>\n",
       "    </tr>\n",
       "    <tr>\n",
       "      <th>Flat Area (in Sqft)</th>\n",
       "      <td>0.695170</td>\n",
       "      <td>0.576628</td>\n",
       "      <td>0.754568</td>\n",
       "      <td>1.000000</td>\n",
       "      <td>0.172721</td>\n",
       "      <td>0.354142</td>\n",
       "      <td>0.284678</td>\n",
       "      <td>0.705725</td>\n",
       "      <td>0.876226</td>\n",
       "      <td>0.435142</td>\n",
       "      <td>-0.318146</td>\n",
       "      <td>-0.199380</td>\n",
       "      <td>0.052538</td>\n",
       "      <td>0.240091</td>\n",
       "      <td>0.756185</td>\n",
       "      <td>0.183223</td>\n",
       "      <td>0.023503</td>\n",
       "    </tr>\n",
       "    <tr>\n",
       "      <th>Lot Area (in Sqft)</th>\n",
       "      <td>0.101319</td>\n",
       "      <td>0.031692</td>\n",
       "      <td>0.087732</td>\n",
       "      <td>0.172721</td>\n",
       "      <td>1.000000</td>\n",
       "      <td>-0.005162</td>\n",
       "      <td>0.074668</td>\n",
       "      <td>0.102314</td>\n",
       "      <td>0.183492</td>\n",
       "      <td>0.015252</td>\n",
       "      <td>-0.053119</td>\n",
       "      <td>-0.129551</td>\n",
       "      <td>-0.085719</td>\n",
       "      <td>0.229449</td>\n",
       "      <td>0.144507</td>\n",
       "      <td>0.718527</td>\n",
       "      <td>0.013835</td>\n",
       "    </tr>\n",
       "    <tr>\n",
       "      <th>No of Floors</th>\n",
       "      <td>0.298913</td>\n",
       "      <td>0.175536</td>\n",
       "      <td>0.500776</td>\n",
       "      <td>0.354142</td>\n",
       "      <td>-0.005162</td>\n",
       "      <td>1.000000</td>\n",
       "      <td>0.029504</td>\n",
       "      <td>0.461368</td>\n",
       "      <td>0.524031</td>\n",
       "      <td>-0.245572</td>\n",
       "      <td>-0.489244</td>\n",
       "      <td>-0.059222</td>\n",
       "      <td>0.049692</td>\n",
       "      <td>0.125620</td>\n",
       "      <td>0.280106</td>\n",
       "      <td>-0.011204</td>\n",
       "      <td>-0.000901</td>\n",
       "    </tr>\n",
       "    <tr>\n",
       "      <th>No of Times Visited</th>\n",
       "      <td>0.356114</td>\n",
       "      <td>0.079575</td>\n",
       "      <td>0.187791</td>\n",
       "      <td>0.284678</td>\n",
       "      <td>0.074668</td>\n",
       "      <td>0.029504</td>\n",
       "      <td>1.000000</td>\n",
       "      <td>0.223661</td>\n",
       "      <td>0.167812</td>\n",
       "      <td>0.276974</td>\n",
       "      <td>0.053395</td>\n",
       "      <td>0.084830</td>\n",
       "      <td>0.006162</td>\n",
       "      <td>-0.078453</td>\n",
       "      <td>0.280452</td>\n",
       "      <td>0.072561</td>\n",
       "      <td>0.093546</td>\n",
       "    </tr>\n",
       "    <tr>\n",
       "      <th>Overall Grade</th>\n",
       "      <td>0.680914</td>\n",
       "      <td>0.349223</td>\n",
       "      <td>0.635638</td>\n",
       "      <td>0.705725</td>\n",
       "      <td>0.102314</td>\n",
       "      <td>0.461368</td>\n",
       "      <td>0.223661</td>\n",
       "      <td>1.000000</td>\n",
       "      <td>0.705153</td>\n",
       "      <td>0.145232</td>\n",
       "      <td>-0.456711</td>\n",
       "      <td>-0.185844</td>\n",
       "      <td>0.111226</td>\n",
       "      <td>0.201736</td>\n",
       "      <td>0.681362</td>\n",
       "      <td>0.107581</td>\n",
       "      <td>-0.024388</td>\n",
       "    </tr>\n",
       "    <tr>\n",
       "      <th>Area of the House from Basement (in Sqft)</th>\n",
       "      <td>0.606527</td>\n",
       "      <td>0.477549</td>\n",
       "      <td>0.685088</td>\n",
       "      <td>0.876226</td>\n",
       "      <td>0.183492</td>\n",
       "      <td>0.524031</td>\n",
       "      <td>0.167812</td>\n",
       "      <td>0.705153</td>\n",
       "      <td>1.000000</td>\n",
       "      <td>-0.051825</td>\n",
       "      <td>-0.423848</td>\n",
       "      <td>-0.261124</td>\n",
       "      <td>-0.000819</td>\n",
       "      <td>0.343793</td>\n",
       "      <td>0.731996</td>\n",
       "      <td>0.194106</td>\n",
       "      <td>0.010491</td>\n",
       "    </tr>\n",
       "    <tr>\n",
       "      <th>Basement Area (in Sqft)</th>\n",
       "      <td>0.307513</td>\n",
       "      <td>0.303294</td>\n",
       "      <td>0.283798</td>\n",
       "      <td>0.435142</td>\n",
       "      <td>0.015252</td>\n",
       "      <td>-0.245572</td>\n",
       "      <td>0.276974</td>\n",
       "      <td>0.145232</td>\n",
       "      <td>-0.051825</td>\n",
       "      <td>1.000000</td>\n",
       "      <td>0.133072</td>\n",
       "      <td>0.074933</td>\n",
       "      <td>0.110451</td>\n",
       "      <td>-0.144822</td>\n",
       "      <td>0.200302</td>\n",
       "      <td>0.017263</td>\n",
       "      <td>0.029158</td>\n",
       "    </tr>\n",
       "    <tr>\n",
       "      <th>Age of House (in Years)</th>\n",
       "      <td>-0.064306</td>\n",
       "      <td>-0.154113</td>\n",
       "      <td>-0.505954</td>\n",
       "      <td>-0.318146</td>\n",
       "      <td>-0.053119</td>\n",
       "      <td>-0.489244</td>\n",
       "      <td>0.053395</td>\n",
       "      <td>-0.456711</td>\n",
       "      <td>-0.423848</td>\n",
       "      <td>0.133072</td>\n",
       "      <td>1.000000</td>\n",
       "      <td>0.346928</td>\n",
       "      <td>0.148083</td>\n",
       "      <td>-0.409515</td>\n",
       "      <td>-0.326307</td>\n",
       "      <td>-0.071016</td>\n",
       "      <td>0.203375</td>\n",
       "    </tr>\n",
       "    <tr>\n",
       "      <th>Zipcode</th>\n",
       "      <td>-0.043047</td>\n",
       "      <td>-0.152760</td>\n",
       "      <td>-0.203951</td>\n",
       "      <td>-0.199380</td>\n",
       "      <td>-0.129551</td>\n",
       "      <td>-0.059222</td>\n",
       "      <td>0.084830</td>\n",
       "      <td>-0.185844</td>\n",
       "      <td>-0.261124</td>\n",
       "      <td>0.074933</td>\n",
       "      <td>0.346928</td>\n",
       "      <td>1.000000</td>\n",
       "      <td>0.267022</td>\n",
       "      <td>-0.564138</td>\n",
       "      <td>-0.278972</td>\n",
       "      <td>-0.147223</td>\n",
       "      <td>0.049659</td>\n",
       "    </tr>\n",
       "    <tr>\n",
       "      <th>Latitude</th>\n",
       "      <td>0.402430</td>\n",
       "      <td>-0.008708</td>\n",
       "      <td>0.024570</td>\n",
       "      <td>0.052538</td>\n",
       "      <td>-0.085719</td>\n",
       "      <td>0.049692</td>\n",
       "      <td>0.006162</td>\n",
       "      <td>0.111226</td>\n",
       "      <td>-0.000819</td>\n",
       "      <td>0.110451</td>\n",
       "      <td>0.148083</td>\n",
       "      <td>0.267022</td>\n",
       "      <td>1.000000</td>\n",
       "      <td>-0.135551</td>\n",
       "      <td>0.048836</td>\n",
       "      <td>-0.086420</td>\n",
       "      <td>0.019739</td>\n",
       "    </tr>\n",
       "    <tr>\n",
       "      <th>Longitude</th>\n",
       "      <td>0.045401</td>\n",
       "      <td>0.129569</td>\n",
       "      <td>0.223171</td>\n",
       "      <td>0.240091</td>\n",
       "      <td>0.229449</td>\n",
       "      <td>0.125620</td>\n",
       "      <td>-0.078453</td>\n",
       "      <td>0.201736</td>\n",
       "      <td>0.343793</td>\n",
       "      <td>-0.144822</td>\n",
       "      <td>-0.409515</td>\n",
       "      <td>-0.564138</td>\n",
       "      <td>-0.135551</td>\n",
       "      <td>1.000000</td>\n",
       "      <td>0.334515</td>\n",
       "      <td>0.254428</td>\n",
       "      <td>-0.055039</td>\n",
       "    </tr>\n",
       "    <tr>\n",
       "      <th>Living Area after Renovation (in Sqft)</th>\n",
       "      <td>0.629944</td>\n",
       "      <td>0.391771</td>\n",
       "      <td>0.568568</td>\n",
       "      <td>0.756185</td>\n",
       "      <td>0.144507</td>\n",
       "      <td>0.280106</td>\n",
       "      <td>0.280452</td>\n",
       "      <td>0.681362</td>\n",
       "      <td>0.731996</td>\n",
       "      <td>0.200302</td>\n",
       "      <td>-0.326307</td>\n",
       "      <td>-0.278972</td>\n",
       "      <td>0.048836</td>\n",
       "      <td>0.334515</td>\n",
       "      <td>1.000000</td>\n",
       "      <td>0.183188</td>\n",
       "      <td>-0.008390</td>\n",
       "    </tr>\n",
       "    <tr>\n",
       "      <th>Lot Area after Renovation (in Sqft)</th>\n",
       "      <td>0.092325</td>\n",
       "      <td>0.029264</td>\n",
       "      <td>0.087226</td>\n",
       "      <td>0.183223</td>\n",
       "      <td>0.718527</td>\n",
       "      <td>-0.011204</td>\n",
       "      <td>0.072561</td>\n",
       "      <td>0.107581</td>\n",
       "      <td>0.194106</td>\n",
       "      <td>0.017263</td>\n",
       "      <td>-0.071016</td>\n",
       "      <td>-0.147223</td>\n",
       "      <td>-0.086420</td>\n",
       "      <td>0.254428</td>\n",
       "      <td>0.183188</td>\n",
       "      <td>1.000000</td>\n",
       "      <td>0.011289</td>\n",
       "    </tr>\n",
       "    <tr>\n",
       "      <th>Years Since Renovation</th>\n",
       "      <td>0.065907</td>\n",
       "      <td>-0.007198</td>\n",
       "      <td>0.003551</td>\n",
       "      <td>0.023503</td>\n",
       "      <td>0.013835</td>\n",
       "      <td>-0.000901</td>\n",
       "      <td>0.093546</td>\n",
       "      <td>-0.024388</td>\n",
       "      <td>0.010491</td>\n",
       "      <td>0.029158</td>\n",
       "      <td>0.203375</td>\n",
       "      <td>0.049659</td>\n",
       "      <td>0.019739</td>\n",
       "      <td>-0.055039</td>\n",
       "      <td>-0.008390</td>\n",
       "      <td>0.011289</td>\n",
       "      <td>1.000000</td>\n",
       "    </tr>\n",
       "  </tbody>\n",
       "</table>\n",
       "</div>"
      ],
      "text/plain": [
       "                                           Sale Price  No of Bedrooms  \\\n",
       "Sale Price                                   1.000000        0.339407   \n",
       "No of Bedrooms                               0.339407        1.000000   \n",
       "No of Bathrooms                              0.535124        0.515813   \n",
       "Flat Area (in Sqft)                          0.695170        0.576628   \n",
       "Lot Area (in Sqft)                           0.101319        0.031692   \n",
       "No of Floors                                 0.298913        0.175536   \n",
       "No of Times Visited                          0.356114        0.079575   \n",
       "Overall Grade                                0.680914        0.349223   \n",
       "Area of the House from Basement (in Sqft)    0.606527        0.477549   \n",
       "Basement Area (in Sqft)                      0.307513        0.303294   \n",
       "Age of House (in Years)                     -0.064306       -0.154113   \n",
       "Zipcode                                     -0.043047       -0.152760   \n",
       "Latitude                                     0.402430       -0.008708   \n",
       "Longitude                                    0.045401        0.129569   \n",
       "Living Area after Renovation (in Sqft)       0.629944        0.391771   \n",
       "Lot Area after Renovation (in Sqft)          0.092325        0.029264   \n",
       "Years Since Renovation                       0.065907       -0.007198   \n",
       "\n",
       "                                           No of Bathrooms  \\\n",
       "Sale Price                                        0.535124   \n",
       "No of Bedrooms                                    0.515813   \n",
       "No of Bathrooms                                   1.000000   \n",
       "Flat Area (in Sqft)                               0.754568   \n",
       "Lot Area (in Sqft)                                0.087732   \n",
       "No of Floors                                      0.500776   \n",
       "No of Times Visited                               0.187791   \n",
       "Overall Grade                                     0.635638   \n",
       "Area of the House from Basement (in Sqft)         0.685088   \n",
       "Basement Area (in Sqft)                           0.283798   \n",
       "Age of House (in Years)                          -0.505954   \n",
       "Zipcode                                          -0.203951   \n",
       "Latitude                                          0.024570   \n",
       "Longitude                                         0.223171   \n",
       "Living Area after Renovation (in Sqft)            0.568568   \n",
       "Lot Area after Renovation (in Sqft)               0.087226   \n",
       "Years Since Renovation                            0.003551   \n",
       "\n",
       "                                           Flat Area (in Sqft)  \\\n",
       "Sale Price                                            0.695170   \n",
       "No of Bedrooms                                        0.576628   \n",
       "No of Bathrooms                                       0.754568   \n",
       "Flat Area (in Sqft)                                   1.000000   \n",
       "Lot Area (in Sqft)                                    0.172721   \n",
       "No of Floors                                          0.354142   \n",
       "No of Times Visited                                   0.284678   \n",
       "Overall Grade                                         0.705725   \n",
       "Area of the House from Basement (in Sqft)             0.876226   \n",
       "Basement Area (in Sqft)                               0.435142   \n",
       "Age of House (in Years)                              -0.318146   \n",
       "Zipcode                                              -0.199380   \n",
       "Latitude                                              0.052538   \n",
       "Longitude                                             0.240091   \n",
       "Living Area after Renovation (in Sqft)                0.756185   \n",
       "Lot Area after Renovation (in Sqft)                   0.183223   \n",
       "Years Since Renovation                                0.023503   \n",
       "\n",
       "                                           Lot Area (in Sqft)  No of Floors  \\\n",
       "Sale Price                                           0.101319      0.298913   \n",
       "No of Bedrooms                                       0.031692      0.175536   \n",
       "No of Bathrooms                                      0.087732      0.500776   \n",
       "Flat Area (in Sqft)                                  0.172721      0.354142   \n",
       "Lot Area (in Sqft)                                   1.000000     -0.005162   \n",
       "No of Floors                                        -0.005162      1.000000   \n",
       "No of Times Visited                                  0.074668      0.029504   \n",
       "Overall Grade                                        0.102314      0.461368   \n",
       "Area of the House from Basement (in Sqft)            0.183492      0.524031   \n",
       "Basement Area (in Sqft)                              0.015252     -0.245572   \n",
       "Age of House (in Years)                             -0.053119     -0.489244   \n",
       "Zipcode                                             -0.129551     -0.059222   \n",
       "Latitude                                            -0.085719      0.049692   \n",
       "Longitude                                            0.229449      0.125620   \n",
       "Living Area after Renovation (in Sqft)               0.144507      0.280106   \n",
       "Lot Area after Renovation (in Sqft)                  0.718527     -0.011204   \n",
       "Years Since Renovation                               0.013835     -0.000901   \n",
       "\n",
       "                                           No of Times Visited  Overall Grade  \\\n",
       "Sale Price                                            0.356114       0.680914   \n",
       "No of Bedrooms                                        0.079575       0.349223   \n",
       "No of Bathrooms                                       0.187791       0.635638   \n",
       "Flat Area (in Sqft)                                   0.284678       0.705725   \n",
       "Lot Area (in Sqft)                                    0.074668       0.102314   \n",
       "No of Floors                                          0.029504       0.461368   \n",
       "No of Times Visited                                   1.000000       0.223661   \n",
       "Overall Grade                                         0.223661       1.000000   \n",
       "Area of the House from Basement (in Sqft)             0.167812       0.705153   \n",
       "Basement Area (in Sqft)                               0.276974       0.145232   \n",
       "Age of House (in Years)                               0.053395      -0.456711   \n",
       "Zipcode                                               0.084830      -0.185844   \n",
       "Latitude                                              0.006162       0.111226   \n",
       "Longitude                                            -0.078453       0.201736   \n",
       "Living Area after Renovation (in Sqft)                0.280452       0.681362   \n",
       "Lot Area after Renovation (in Sqft)                   0.072561       0.107581   \n",
       "Years Since Renovation                                0.093546      -0.024388   \n",
       "\n",
       "                                           Area of the House from Basement (in Sqft)  \\\n",
       "Sale Price                                                                  0.606527   \n",
       "No of Bedrooms                                                              0.477549   \n",
       "No of Bathrooms                                                             0.685088   \n",
       "Flat Area (in Sqft)                                                         0.876226   \n",
       "Lot Area (in Sqft)                                                          0.183492   \n",
       "No of Floors                                                                0.524031   \n",
       "No of Times Visited                                                         0.167812   \n",
       "Overall Grade                                                               0.705153   \n",
       "Area of the House from Basement (in Sqft)                                   1.000000   \n",
       "Basement Area (in Sqft)                                                    -0.051825   \n",
       "Age of House (in Years)                                                    -0.423848   \n",
       "Zipcode                                                                    -0.261124   \n",
       "Latitude                                                                   -0.000819   \n",
       "Longitude                                                                   0.343793   \n",
       "Living Area after Renovation (in Sqft)                                      0.731996   \n",
       "Lot Area after Renovation (in Sqft)                                         0.194106   \n",
       "Years Since Renovation                                                      0.010491   \n",
       "\n",
       "                                           Basement Area (in Sqft)  \\\n",
       "Sale Price                                                0.307513   \n",
       "No of Bedrooms                                            0.303294   \n",
       "No of Bathrooms                                           0.283798   \n",
       "Flat Area (in Sqft)                                       0.435142   \n",
       "Lot Area (in Sqft)                                        0.015252   \n",
       "No of Floors                                             -0.245572   \n",
       "No of Times Visited                                       0.276974   \n",
       "Overall Grade                                             0.145232   \n",
       "Area of the House from Basement (in Sqft)                -0.051825   \n",
       "Basement Area (in Sqft)                                   1.000000   \n",
       "Age of House (in Years)                                   0.133072   \n",
       "Zipcode                                                   0.074933   \n",
       "Latitude                                                  0.110451   \n",
       "Longitude                                                -0.144822   \n",
       "Living Area after Renovation (in Sqft)                    0.200302   \n",
       "Lot Area after Renovation (in Sqft)                       0.017263   \n",
       "Years Since Renovation                                    0.029158   \n",
       "\n",
       "                                           Age of House (in Years)   Zipcode  \\\n",
       "Sale Price                                               -0.064306 -0.043047   \n",
       "No of Bedrooms                                           -0.154113 -0.152760   \n",
       "No of Bathrooms                                          -0.505954 -0.203951   \n",
       "Flat Area (in Sqft)                                      -0.318146 -0.199380   \n",
       "Lot Area (in Sqft)                                       -0.053119 -0.129551   \n",
       "No of Floors                                             -0.489244 -0.059222   \n",
       "No of Times Visited                                       0.053395  0.084830   \n",
       "Overall Grade                                            -0.456711 -0.185844   \n",
       "Area of the House from Basement (in Sqft)                -0.423848 -0.261124   \n",
       "Basement Area (in Sqft)                                   0.133072  0.074933   \n",
       "Age of House (in Years)                                   1.000000  0.346928   \n",
       "Zipcode                                                   0.346928  1.000000   \n",
       "Latitude                                                  0.148083  0.267022   \n",
       "Longitude                                                -0.409515 -0.564138   \n",
       "Living Area after Renovation (in Sqft)                   -0.326307 -0.278972   \n",
       "Lot Area after Renovation (in Sqft)                      -0.071016 -0.147223   \n",
       "Years Since Renovation                                    0.203375  0.049659   \n",
       "\n",
       "                                           Latitude  Longitude  \\\n",
       "Sale Price                                 0.402430   0.045401   \n",
       "No of Bedrooms                            -0.008708   0.129569   \n",
       "No of Bathrooms                            0.024570   0.223171   \n",
       "Flat Area (in Sqft)                        0.052538   0.240091   \n",
       "Lot Area (in Sqft)                        -0.085719   0.229449   \n",
       "No of Floors                               0.049692   0.125620   \n",
       "No of Times Visited                        0.006162  -0.078453   \n",
       "Overall Grade                              0.111226   0.201736   \n",
       "Area of the House from Basement (in Sqft) -0.000819   0.343793   \n",
       "Basement Area (in Sqft)                    0.110451  -0.144822   \n",
       "Age of House (in Years)                    0.148083  -0.409515   \n",
       "Zipcode                                    0.267022  -0.564138   \n",
       "Latitude                                   1.000000  -0.135551   \n",
       "Longitude                                 -0.135551   1.000000   \n",
       "Living Area after Renovation (in Sqft)     0.048836   0.334515   \n",
       "Lot Area after Renovation (in Sqft)       -0.086420   0.254428   \n",
       "Years Since Renovation                     0.019739  -0.055039   \n",
       "\n",
       "                                           Living Area after Renovation (in Sqft)  \\\n",
       "Sale Price                                                               0.629944   \n",
       "No of Bedrooms                                                           0.391771   \n",
       "No of Bathrooms                                                          0.568568   \n",
       "Flat Area (in Sqft)                                                      0.756185   \n",
       "Lot Area (in Sqft)                                                       0.144507   \n",
       "No of Floors                                                             0.280106   \n",
       "No of Times Visited                                                      0.280452   \n",
       "Overall Grade                                                            0.681362   \n",
       "Area of the House from Basement (in Sqft)                                0.731996   \n",
       "Basement Area (in Sqft)                                                  0.200302   \n",
       "Age of House (in Years)                                                 -0.326307   \n",
       "Zipcode                                                                 -0.278972   \n",
       "Latitude                                                                 0.048836   \n",
       "Longitude                                                                0.334515   \n",
       "Living Area after Renovation (in Sqft)                                   1.000000   \n",
       "Lot Area after Renovation (in Sqft)                                      0.183188   \n",
       "Years Since Renovation                                                  -0.008390   \n",
       "\n",
       "                                           Lot Area after Renovation (in Sqft)  \\\n",
       "Sale Price                                                            0.092325   \n",
       "No of Bedrooms                                                        0.029264   \n",
       "No of Bathrooms                                                       0.087226   \n",
       "Flat Area (in Sqft)                                                   0.183223   \n",
       "Lot Area (in Sqft)                                                    0.718527   \n",
       "No of Floors                                                         -0.011204   \n",
       "No of Times Visited                                                   0.072561   \n",
       "Overall Grade                                                         0.107581   \n",
       "Area of the House from Basement (in Sqft)                             0.194106   \n",
       "Basement Area (in Sqft)                                               0.017263   \n",
       "Age of House (in Years)                                              -0.071016   \n",
       "Zipcode                                                              -0.147223   \n",
       "Latitude                                                             -0.086420   \n",
       "Longitude                                                             0.254428   \n",
       "Living Area after Renovation (in Sqft)                                0.183188   \n",
       "Lot Area after Renovation (in Sqft)                                   1.000000   \n",
       "Years Since Renovation                                                0.011289   \n",
       "\n",
       "                                           Years Since Renovation  \n",
       "Sale Price                                               0.065907  \n",
       "No of Bedrooms                                          -0.007198  \n",
       "No of Bathrooms                                          0.003551  \n",
       "Flat Area (in Sqft)                                      0.023503  \n",
       "Lot Area (in Sqft)                                       0.013835  \n",
       "No of Floors                                            -0.000901  \n",
       "No of Times Visited                                      0.093546  \n",
       "Overall Grade                                           -0.024388  \n",
       "Area of the House from Basement (in Sqft)                0.010491  \n",
       "Basement Area (in Sqft)                                  0.029158  \n",
       "Age of House (in Years)                                  0.203375  \n",
       "Zipcode                                                  0.049659  \n",
       "Latitude                                                 0.019739  \n",
       "Longitude                                               -0.055039  \n",
       "Living Area after Renovation (in Sqft)                  -0.008390  \n",
       "Lot Area after Renovation (in Sqft)                      0.011289  \n",
       "Years Since Renovation                                   1.000000  "
      ]
     },
     "execution_count": 52,
     "metadata": {},
     "output_type": "execute_result"
    }
   ],
   "source": [
    "Transformed_Housing_Data.drop(columns=[\"ID\"]).corr()"
   ]
  },
  {
   "cell_type": "markdown",
   "id": "7e43985c",
   "metadata": {},
   "source": [
    "Only those variables should be selected for building the model which have high correlation ,positive or -ve , with the target Variable"
   ]
  },
  {
   "cell_type": "markdown",
   "id": "1a65376d",
   "metadata": {},
   "source": [
    "if two independent variables that are highly correlated with each other , are also correlated with the dependent variable using both independent variables in the model may result in a suboptimal or poorly understood model"
   ]
  },
  {
   "cell_type": "markdown",
   "id": "a82542b3",
   "metadata": {},
   "source": [
    "While selecting input variables for the model ,look at correlation between independent variables.\n",
    "if two independent variables have high correlation with each other above a certain value, make a conscious choic of which one to keep in the model."
   ]
  },
  {
   "cell_type": "markdown",
   "id": "b837c495",
   "metadata": {},
   "source": [
    "## Data Exploration Categorical variabe"
   ]
  },
  {
   "cell_type": "code",
   "execution_count": 53,
   "id": "06749e22",
   "metadata": {},
   "outputs": [
    {
     "name": "stdout",
     "output_type": "stream",
     "text": [
      "<class 'pandas.core.frame.DataFrame'>\n",
      "RangeIndex: 21609 entries, 0 to 21608\n",
      "Data columns (total 21 columns):\n",
      " #   Column                                     Non-Null Count  Dtype  \n",
      "---  ------                                     --------------  -----  \n",
      " 0   ID                                         21609 non-null  int64  \n",
      " 1   Sale Price                                 21609 non-null  float64\n",
      " 2   No of Bedrooms                             21609 non-null  int64  \n",
      " 3   No of Bathrooms                            21609 non-null  float64\n",
      " 4   Flat Area (in Sqft)                        21609 non-null  float64\n",
      " 5   Lot Area (in Sqft)                         21609 non-null  float64\n",
      " 6   No of Floors                               21609 non-null  float64\n",
      " 7   Waterfront View                            21609 non-null  object \n",
      " 8   No of Times Visited                        21609 non-null  int64  \n",
      " 9   Condition of the House                     21609 non-null  object \n",
      " 10  Overall Grade                              21609 non-null  int64  \n",
      " 11  Area of the House from Basement (in Sqft)  21609 non-null  float64\n",
      " 12  Basement Area (in Sqft)                    21609 non-null  int64  \n",
      " 13  Age of House (in Years)                    21609 non-null  int64  \n",
      " 14  Zipcode                                    21609 non-null  float64\n",
      " 15  Latitude                                   21609 non-null  float64\n",
      " 16  Longitude                                  21609 non-null  float64\n",
      " 17  Living Area after Renovation (in Sqft)     21609 non-null  float64\n",
      " 18  Lot Area after Renovation (in Sqft)        21609 non-null  int64  \n",
      " 19  Ever Renovated                             21609 non-null  object \n",
      " 20  Years Since Renovation                     21609 non-null  int64  \n",
      "dtypes: float64(10), int64(8), object(3)\n",
      "memory usage: 3.5+ MB\n"
     ]
    }
   ],
   "source": [
    "Transformed_Housing_Data.info()"
   ]
  },
  {
   "cell_type": "code",
   "execution_count": 54,
   "id": "7f506a5f",
   "metadata": {},
   "outputs": [],
   "source": [
    "Transformed_Housing_Data.drop(columns=\"ID\",inplace=True)"
   ]
  },
  {
   "cell_type": "code",
   "execution_count": 55,
   "id": "58ca1e1d",
   "metadata": {},
   "outputs": [],
   "source": [
    "# Caregorical Variables are:-\n",
    "# 1.Water front View\n",
    "# 2.Condition of the House\n",
    "# 3.Zipcode\n",
    "# 4.Ever Renovated"
   ]
  },
  {
   "cell_type": "code",
   "execution_count": 56,
   "id": "d9da77df",
   "metadata": {},
   "outputs": [
    {
     "data": {
      "text/plain": [
       "Fair         14028\n",
       "Good          5678\n",
       "Excellent     1701\n",
       "Okay           172\n",
       "Bad             30\n",
       "Name: Condition of the House, dtype: int64"
      ]
     },
     "execution_count": 56,
     "metadata": {},
     "output_type": "execute_result"
    }
   ],
   "source": [
    "Transformed_Housing_Data[\"Condition of the House\"].value_counts()"
   ]
  },
  {
   "cell_type": "markdown",
   "id": "d7126204",
   "metadata": {},
   "source": [
    "Is condition of house is ordinal categorical variable or nominal categorical variable\n",
    "1. The \"Condition of the House\" is ordinal Categorical variable as there is a sense of order among levels where Excellent>Good>Fair>Okay>Bad"
   ]
  },
  {
   "cell_type": "code",
   "execution_count": 57,
   "id": "778c5a6a",
   "metadata": {},
   "outputs": [
    {
     "data": {
      "text/plain": [
       "<AxesSubplot:xlabel='Condition of the House'>"
      ]
     },
     "execution_count": 57,
     "metadata": {},
     "output_type": "execute_result"
    },
    {
     "data": {
      "image/png": "[encoded data removed]",
      "text/plain": [
       "<Figure size 432x288 with 1 Axes>"
      ]
     },
     "metadata": {
      "needs_background": "light"
     },
     "output_type": "display_data"
    }
   ],
   "source": [
    "Transformed_Housing_Data.groupby(\"Condition of the House\",)[\"Sale Price\"].mean().plot(kind=\"bar\")"
   ]
  },
  {
   "cell_type": "code",
   "execution_count": 58,
   "id": "236c9d3e",
   "metadata": {},
   "outputs": [
    {
     "data": {
      "text/plain": [
       "<AxesSubplot:xlabel='Condition of the House'>"
      ]
     },
     "execution_count": 58,
     "metadata": {},
     "output_type": "execute_result"
    },
    {
     "data": {
      "image/png": "[encoded data removed]",
      "text/plain": [
       "<Figure size 432x288 with 1 Axes>"
      ]
     },
     "metadata": {
      "needs_background": "light"
     },
     "output_type": "display_data"
    }
   ],
   "source": [
    "Transformed_Housing_Data.groupby('Condition of the House',\n",
    "                                )['Sale Price'].mean().sort_values().plot(kind = 'bar')"
   ]
  },
  {
   "cell_type": "code",
   "execution_count": 59,
   "id": "e236eb4d",
   "metadata": {},
   "outputs": [
    {
     "data": {
      "text/plain": [
       "<AxesSubplot:xlabel='Waterfront View'>"
      ]
     },
     "execution_count": 59,
     "metadata": {},
     "output_type": "execute_result"
    },
    {
     "data": {
      "image/png": "[encoded data removed]",
      "text/plain": [
       "<Figure size 432x288 with 1 Axes>"
      ]
     },
     "metadata": {
      "needs_background": "light"
     },
     "output_type": "display_data"
    }
   ],
   "source": [
    "Transformed_Housing_Data.groupby('Waterfront View',\n",
    "                                )['Sale Price'].mean().sort_values().plot(kind = 'bar')"
   ]
  },
  {
   "cell_type": "code",
   "execution_count": 60,
   "id": "13b54b96",
   "metadata": {},
   "outputs": [
    {
     "data": {
      "text/plain": [
       "<AxesSubplot:xlabel='Ever Renovated'>"
      ]
     },
     "execution_count": 60,
     "metadata": {},
     "output_type": "execute_result"
    },
    {
     "data": {
      "image/png": "[encoded data removed]",
      "text/plain": [
       "<Figure size 432x288 with 1 Axes>"
      ]
     },
     "metadata": {
      "needs_background": "light"
     },
     "output_type": "display_data"
    }
   ],
   "source": [
    "Transformed_Housing_Data.groupby('Ever Renovated',\n",
    "                                )['Sale Price'].mean().sort_values().plot(kind = 'bar')"
   ]
  },
  {
   "cell_type": "code",
   "execution_count": 61,
   "id": "a5a228f9",
   "metadata": {},
   "outputs": [
    {
     "data": {
      "text/plain": [
       "<AxesSubplot:xlabel='Zipcode'>"
      ]
     },
     "execution_count": 61,
     "metadata": {},
     "output_type": "execute_result"
    },
    {
     "data": {
      "image/png": "[encoded data removed]",
      "text/plain": [
       "<Figure size 432x288 with 1 Axes>"
      ]
     },
     "metadata": {
      "needs_background": "light"
     },
     "output_type": "display_data"
    }
   ],
   "source": [
    "Transformed_Housing_Data.groupby('Zipcode',\n",
    "                                )['Sale Price'].mean().sort_values().plot(kind = 'bar')"
   ]
  },
  {
   "cell_type": "markdown",
   "id": "03ceb639",
   "metadata": {},
   "source": [
    "# ANOVA"
   ]
  },
  {
   "cell_type": "markdown",
   "id": "32868894",
   "metadata": {},
   "source": [
    "The method of finding out whether a categorical variable is having an impact on the numerical variable-ANOVA\n",
    "1.However ,ANOVA can not quantify the relationship between a categorical variable and a numerical variable"
   ]
  },
  {
   "cell_type": "markdown",
   "id": "9b675601",
   "metadata": {},
   "source": [
    "ANOVA stands for Analysis of Variance"
   ]
  },
  {
   "cell_type": "markdown",
   "id": "a0bca2c5",
   "metadata": {},
   "source": [
    "1.It checks if the means ,i.e, average value of the target variable across different levels or unique values of a categorical variable are equal or not."
   ]
  },
  {
   "cell_type": "markdown",
   "id": "37d23a35",
   "metadata": {},
   "source": [
    "2.It assesses the importance of one or more levels by comparing the means of the target variable at different level of the categorical variable"
   ]
  },
  {
   "cell_type": "code",
   "execution_count": 62,
   "id": "3feab3e2",
   "metadata": {},
   "outputs": [],
   "source": [
    "# Two Hypothesis are \n",
    "# 1. Null Hypothesis:-There is no difference in mean\n",
    "# 2.alternate Hypothesis:-At least one of the means is different"
   ]
  },
  {
   "cell_type": "code",
   "execution_count": 63,
   "id": "a4b134aa",
   "metadata": {},
   "outputs": [],
   "source": [
    "import warnings\n",
    "warnings.filterwarnings(\"ignore\")"
   ]
  },
  {
   "cell_type": "code",
   "execution_count": 64,
   "id": "7d075c45",
   "metadata": {},
   "outputs": [],
   "source": [
    "Transformed_Housing_Data  = pd.read_csv('Transformed_Housing_Data')"
   ]
  },
  {
   "cell_type": "code",
   "execution_count": 65,
   "id": "23f7e33c",
   "metadata": {},
   "outputs": [
    {
     "data": {
      "text/html": [
       "<div>\n",
       "<style scoped>\n",
       "    .dataframe tbody tr th:only-of-type {\n",
       "        vertical-align: middle;\n",
       "    }\n",
       "\n",
       "    .dataframe tbody tr th {\n",
       "        vertical-align: top;\n",
       "    }\n",
       "\n",
       "    .dataframe thead th {\n",
       "        text-align: right;\n",
       "    }\n",
       "</style>\n",
       "<table border=\"1\" class=\"dataframe\">\n",
       "  <thead>\n",
       "    <tr style=\"text-align: right;\">\n",
       "      <th></th>\n",
       "      <th>ID</th>\n",
       "      <th>Sale Price</th>\n",
       "      <th>No of Bedrooms</th>\n",
       "      <th>No of Bathrooms</th>\n",
       "      <th>Flat Area (in Sqft)</th>\n",
       "      <th>Lot Area (in Sqft)</th>\n",
       "      <th>No of Floors</th>\n",
       "      <th>Waterfront View</th>\n",
       "      <th>No of Times Visited</th>\n",
       "      <th>Condition of the House</th>\n",
       "      <th>...</th>\n",
       "      <th>Area of the House from Basement (in Sqft)</th>\n",
       "      <th>Basement Area (in Sqft)</th>\n",
       "      <th>Age of House (in Years)</th>\n",
       "      <th>Zipcode</th>\n",
       "      <th>Latitude</th>\n",
       "      <th>Longitude</th>\n",
       "      <th>Living Area after Renovation (in Sqft)</th>\n",
       "      <th>Lot Area after Renovation (in Sqft)</th>\n",
       "      <th>Ever Renovate</th>\n",
       "      <th>Years Since Renovation</th>\n",
       "    </tr>\n",
       "  </thead>\n",
       "  <tbody>\n",
       "    <tr>\n",
       "      <th>0</th>\n",
       "      <td>7129300520</td>\n",
       "      <td>221900.0</td>\n",
       "      <td>3</td>\n",
       "      <td>1.00</td>\n",
       "      <td>1180.0</td>\n",
       "      <td>5650.0</td>\n",
       "      <td>1.0</td>\n",
       "      <td>No</td>\n",
       "      <td>0</td>\n",
       "      <td>Fair</td>\n",
       "      <td>...</td>\n",
       "      <td>1180.0</td>\n",
       "      <td>0</td>\n",
       "      <td>63</td>\n",
       "      <td>98178.0</td>\n",
       "      <td>47.5112</td>\n",
       "      <td>-122.257</td>\n",
       "      <td>1340.0</td>\n",
       "      <td>5650</td>\n",
       "      <td>No</td>\n",
       "      <td>0</td>\n",
       "    </tr>\n",
       "    <tr>\n",
       "      <th>1</th>\n",
       "      <td>6414100192</td>\n",
       "      <td>538000.0</td>\n",
       "      <td>3</td>\n",
       "      <td>2.25</td>\n",
       "      <td>2570.0</td>\n",
       "      <td>7242.0</td>\n",
       "      <td>2.0</td>\n",
       "      <td>No</td>\n",
       "      <td>0</td>\n",
       "      <td>Fair</td>\n",
       "      <td>...</td>\n",
       "      <td>2170.0</td>\n",
       "      <td>400</td>\n",
       "      <td>67</td>\n",
       "      <td>98125.0</td>\n",
       "      <td>47.7210</td>\n",
       "      <td>-122.319</td>\n",
       "      <td>1690.0</td>\n",
       "      <td>7639</td>\n",
       "      <td>Yes</td>\n",
       "      <td>26</td>\n",
       "    </tr>\n",
       "    <tr>\n",
       "      <th>2</th>\n",
       "      <td>5631500400</td>\n",
       "      <td>180000.0</td>\n",
       "      <td>2</td>\n",
       "      <td>1.00</td>\n",
       "      <td>770.0</td>\n",
       "      <td>10000.0</td>\n",
       "      <td>1.0</td>\n",
       "      <td>No</td>\n",
       "      <td>0</td>\n",
       "      <td>Fair</td>\n",
       "      <td>...</td>\n",
       "      <td>770.0</td>\n",
       "      <td>0</td>\n",
       "      <td>85</td>\n",
       "      <td>98028.0</td>\n",
       "      <td>47.7379</td>\n",
       "      <td>-122.233</td>\n",
       "      <td>2720.0</td>\n",
       "      <td>8062</td>\n",
       "      <td>No</td>\n",
       "      <td>0</td>\n",
       "    </tr>\n",
       "    <tr>\n",
       "      <th>3</th>\n",
       "      <td>2487200875</td>\n",
       "      <td>604000.0</td>\n",
       "      <td>4</td>\n",
       "      <td>3.00</td>\n",
       "      <td>1960.0</td>\n",
       "      <td>5000.0</td>\n",
       "      <td>1.0</td>\n",
       "      <td>No</td>\n",
       "      <td>0</td>\n",
       "      <td>Excellent</td>\n",
       "      <td>...</td>\n",
       "      <td>1050.0</td>\n",
       "      <td>910</td>\n",
       "      <td>53</td>\n",
       "      <td>98136.0</td>\n",
       "      <td>47.5208</td>\n",
       "      <td>-122.393</td>\n",
       "      <td>1360.0</td>\n",
       "      <td>5000</td>\n",
       "      <td>No</td>\n",
       "      <td>0</td>\n",
       "    </tr>\n",
       "    <tr>\n",
       "      <th>4</th>\n",
       "      <td>1954400510</td>\n",
       "      <td>510000.0</td>\n",
       "      <td>3</td>\n",
       "      <td>2.00</td>\n",
       "      <td>1680.0</td>\n",
       "      <td>8080.0</td>\n",
       "      <td>1.0</td>\n",
       "      <td>No</td>\n",
       "      <td>0</td>\n",
       "      <td>Fair</td>\n",
       "      <td>...</td>\n",
       "      <td>1680.0</td>\n",
       "      <td>0</td>\n",
       "      <td>31</td>\n",
       "      <td>98074.0</td>\n",
       "      <td>47.6168</td>\n",
       "      <td>-122.045</td>\n",
       "      <td>1800.0</td>\n",
       "      <td>7503</td>\n",
       "      <td>No</td>\n",
       "      <td>0</td>\n",
       "    </tr>\n",
       "  </tbody>\n",
       "</table>\n",
       "<p>5 rows × 21 columns</p>\n",
       "</div>"
      ],
      "text/plain": [
       "           ID  Sale Price  No of Bedrooms  No of Bathrooms  \\\n",
       "0  7129300520    221900.0               3             1.00   \n",
       "1  6414100192    538000.0               3             2.25   \n",
       "2  5631500400    180000.0               2             1.00   \n",
       "3  2487200875    604000.0               4             3.00   \n",
       "4  1954400510    510000.0               3             2.00   \n",
       "\n",
       "   Flat Area (in Sqft)  Lot Area (in Sqft)  No of Floors Waterfront View  \\\n",
       "0               1180.0              5650.0           1.0              No   \n",
       "1               2570.0              7242.0           2.0              No   \n",
       "2                770.0             10000.0           1.0              No   \n",
       "3               1960.0              5000.0           1.0              No   \n",
       "4               1680.0              8080.0           1.0              No   \n",
       "\n",
       "   No of Times Visited Condition of the House  ...  \\\n",
       "0                    0                   Fair  ...   \n",
       "1                    0                   Fair  ...   \n",
       "2                    0                   Fair  ...   \n",
       "3                    0              Excellent  ...   \n",
       "4                    0                   Fair  ...   \n",
       "\n",
       "   Area of the House from Basement (in Sqft)  Basement Area (in Sqft)  \\\n",
       "0                                     1180.0                        0   \n",
       "1                                     2170.0                      400   \n",
       "2                                      770.0                        0   \n",
       "3                                     1050.0                      910   \n",
       "4                                     1680.0                        0   \n",
       "\n",
       "   Age of House (in Years)  Zipcode  Latitude  Longitude  \\\n",
       "0                       63  98178.0   47.5112   -122.257   \n",
       "1                       67  98125.0   47.7210   -122.319   \n",
       "2                       85  98028.0   47.7379   -122.233   \n",
       "3                       53  98136.0   47.5208   -122.393   \n",
       "4                       31  98074.0   47.6168   -122.045   \n",
       "\n",
       "   Living Area after Renovation (in Sqft)  \\\n",
       "0                                  1340.0   \n",
       "1                                  1690.0   \n",
       "2                                  2720.0   \n",
       "3                                  1360.0   \n",
       "4                                  1800.0   \n",
       "\n",
       "   Lot Area after Renovation (in Sqft)  Ever Renovate Years Since Renovation  \n",
       "0                                 5650             No                      0  \n",
       "1                                 7639            Yes                     26  \n",
       "2                                 8062             No                      0  \n",
       "3                                 5000             No                      0  \n",
       "4                                 7503             No                      0  \n",
       "\n",
       "[5 rows x 21 columns]"
      ]
     },
     "execution_count": 65,
     "metadata": {},
     "output_type": "execute_result"
    }
   ],
   "source": [
    "Transformed_Housing_Data.head()"
   ]
  },
  {
   "cell_type": "code",
   "execution_count": 66,
   "id": "e8648b3f",
   "metadata": {},
   "outputs": [],
   "source": [
    "from statsmodels.formula.api import ols\n",
    "import statsmodels.api as sm"
   ]
  },
  {
   "cell_type": "code",
   "execution_count": 67,
   "id": "ac93d4d1",
   "metadata": {},
   "outputs": [],
   "source": [
    "Transformed_Housing_Data  = Transformed_Housing_Data.rename(columns = {'Sale Price' : 'Sale_Price'})"
   ]
  },
  {
   "cell_type": "code",
   "execution_count": 68,
   "id": "e5c56f58",
   "metadata": {},
   "outputs": [],
   "source": [
    "Transformed_Housing_Data  = Transformed_Housing_Data.rename(columns = {'Condition of the House' : 'Condition_of_the_House'})"
   ]
  },
  {
   "cell_type": "code",
   "execution_count": 69,
   "id": "e42bdb7a",
   "metadata": {},
   "outputs": [],
   "source": [
    "Transformed_Housing_Data  = Transformed_Housing_Data.rename(columns = {'Ever Renovate' : 'Ever_Renovated'})"
   ]
  },
  {
   "cell_type": "code",
   "execution_count": 70,
   "id": "527d08c0",
   "metadata": {},
   "outputs": [],
   "source": [
    "Transformed_Housing_Data  = Transformed_Housing_Data.rename(columns = {'Waterfront View' : 'Waterfront_View'})"
   ]
  },
  {
   "cell_type": "code",
   "execution_count": 71,
   "id": "366472af",
   "metadata": {},
   "outputs": [
    {
     "data": {
      "text/html": [
       "<div>\n",
       "<style scoped>\n",
       "    .dataframe tbody tr th:only-of-type {\n",
       "        vertical-align: middle;\n",
       "    }\n",
       "\n",
       "    .dataframe tbody tr th {\n",
       "        vertical-align: top;\n",
       "    }\n",
       "\n",
       "    .dataframe thead th {\n",
       "        text-align: right;\n",
       "    }\n",
       "</style>\n",
       "<table border=\"1\" class=\"dataframe\">\n",
       "  <thead>\n",
       "    <tr style=\"text-align: right;\">\n",
       "      <th></th>\n",
       "      <th>ID</th>\n",
       "      <th>Sale_Price</th>\n",
       "      <th>No of Bedrooms</th>\n",
       "      <th>No of Bathrooms</th>\n",
       "      <th>Flat Area (in Sqft)</th>\n",
       "      <th>Lot Area (in Sqft)</th>\n",
       "      <th>No of Floors</th>\n",
       "      <th>Waterfront_View</th>\n",
       "      <th>No of Times Visited</th>\n",
       "      <th>Condition_of_the_House</th>\n",
       "      <th>...</th>\n",
       "      <th>Area of the House from Basement (in Sqft)</th>\n",
       "      <th>Basement Area (in Sqft)</th>\n",
       "      <th>Age of House (in Years)</th>\n",
       "      <th>Zipcode</th>\n",
       "      <th>Latitude</th>\n",
       "      <th>Longitude</th>\n",
       "      <th>Living Area after Renovation (in Sqft)</th>\n",
       "      <th>Lot Area after Renovation (in Sqft)</th>\n",
       "      <th>Ever_Renovated</th>\n",
       "      <th>Years Since Renovation</th>\n",
       "    </tr>\n",
       "  </thead>\n",
       "  <tbody>\n",
       "    <tr>\n",
       "      <th>0</th>\n",
       "      <td>7129300520</td>\n",
       "      <td>221900.0</td>\n",
       "      <td>3</td>\n",
       "      <td>1.00</td>\n",
       "      <td>1180.0</td>\n",
       "      <td>5650.0</td>\n",
       "      <td>1.0</td>\n",
       "      <td>No</td>\n",
       "      <td>0</td>\n",
       "      <td>Fair</td>\n",
       "      <td>...</td>\n",
       "      <td>1180.0</td>\n",
       "      <td>0</td>\n",
       "      <td>63</td>\n",
       "      <td>98178.0</td>\n",
       "      <td>47.5112</td>\n",
       "      <td>-122.257</td>\n",
       "      <td>1340.0</td>\n",
       "      <td>5650</td>\n",
       "      <td>No</td>\n",
       "      <td>0</td>\n",
       "    </tr>\n",
       "    <tr>\n",
       "      <th>1</th>\n",
       "      <td>6414100192</td>\n",
       "      <td>538000.0</td>\n",
       "      <td>3</td>\n",
       "      <td>2.25</td>\n",
       "      <td>2570.0</td>\n",
       "      <td>7242.0</td>\n",
       "      <td>2.0</td>\n",
       "      <td>No</td>\n",
       "      <td>0</td>\n",
       "      <td>Fair</td>\n",
       "      <td>...</td>\n",
       "      <td>2170.0</td>\n",
       "      <td>400</td>\n",
       "      <td>67</td>\n",
       "      <td>98125.0</td>\n",
       "      <td>47.7210</td>\n",
       "      <td>-122.319</td>\n",
       "      <td>1690.0</td>\n",
       "      <td>7639</td>\n",
       "      <td>Yes</td>\n",
       "      <td>26</td>\n",
       "    </tr>\n",
       "    <tr>\n",
       "      <th>2</th>\n",
       "      <td>5631500400</td>\n",
       "      <td>180000.0</td>\n",
       "      <td>2</td>\n",
       "      <td>1.00</td>\n",
       "      <td>770.0</td>\n",
       "      <td>10000.0</td>\n",
       "      <td>1.0</td>\n",
       "      <td>No</td>\n",
       "      <td>0</td>\n",
       "      <td>Fair</td>\n",
       "      <td>...</td>\n",
       "      <td>770.0</td>\n",
       "      <td>0</td>\n",
       "      <td>85</td>\n",
       "      <td>98028.0</td>\n",
       "      <td>47.7379</td>\n",
       "      <td>-122.233</td>\n",
       "      <td>2720.0</td>\n",
       "      <td>8062</td>\n",
       "      <td>No</td>\n",
       "      <td>0</td>\n",
       "    </tr>\n",
       "    <tr>\n",
       "      <th>3</th>\n",
       "      <td>2487200875</td>\n",
       "      <td>604000.0</td>\n",
       "      <td>4</td>\n",
       "      <td>3.00</td>\n",
       "      <td>1960.0</td>\n",
       "      <td>5000.0</td>\n",
       "      <td>1.0</td>\n",
       "      <td>No</td>\n",
       "      <td>0</td>\n",
       "      <td>Excellent</td>\n",
       "      <td>...</td>\n",
       "      <td>1050.0</td>\n",
       "      <td>910</td>\n",
       "      <td>53</td>\n",
       "      <td>98136.0</td>\n",
       "      <td>47.5208</td>\n",
       "      <td>-122.393</td>\n",
       "      <td>1360.0</td>\n",
       "      <td>5000</td>\n",
       "      <td>No</td>\n",
       "      <td>0</td>\n",
       "    </tr>\n",
       "    <tr>\n",
       "      <th>4</th>\n",
       "      <td>1954400510</td>\n",
       "      <td>510000.0</td>\n",
       "      <td>3</td>\n",
       "      <td>2.00</td>\n",
       "      <td>1680.0</td>\n",
       "      <td>8080.0</td>\n",
       "      <td>1.0</td>\n",
       "      <td>No</td>\n",
       "      <td>0</td>\n",
       "      <td>Fair</td>\n",
       "      <td>...</td>\n",
       "      <td>1680.0</td>\n",
       "      <td>0</td>\n",
       "      <td>31</td>\n",
       "      <td>98074.0</td>\n",
       "      <td>47.6168</td>\n",
       "      <td>-122.045</td>\n",
       "      <td>1800.0</td>\n",
       "      <td>7503</td>\n",
       "      <td>No</td>\n",
       "      <td>0</td>\n",
       "    </tr>\n",
       "  </tbody>\n",
       "</table>\n",
       "<p>5 rows × 21 columns</p>\n",
       "</div>"
      ],
      "text/plain": [
       "           ID  Sale_Price  No of Bedrooms  No of Bathrooms  \\\n",
       "0  7129300520    221900.0               3             1.00   \n",
       "1  6414100192    538000.0               3             2.25   \n",
       "2  5631500400    180000.0               2             1.00   \n",
       "3  2487200875    604000.0               4             3.00   \n",
       "4  1954400510    510000.0               3             2.00   \n",
       "\n",
       "   Flat Area (in Sqft)  Lot Area (in Sqft)  No of Floors Waterfront_View  \\\n",
       "0               1180.0              5650.0           1.0              No   \n",
       "1               2570.0              7242.0           2.0              No   \n",
       "2                770.0             10000.0           1.0              No   \n",
       "3               1960.0              5000.0           1.0              No   \n",
       "4               1680.0              8080.0           1.0              No   \n",
       "\n",
       "   No of Times Visited Condition_of_the_House  ...  \\\n",
       "0                    0                   Fair  ...   \n",
       "1                    0                   Fair  ...   \n",
       "2                    0                   Fair  ...   \n",
       "3                    0              Excellent  ...   \n",
       "4                    0                   Fair  ...   \n",
       "\n",
       "   Area of the House from Basement (in Sqft)  Basement Area (in Sqft)  \\\n",
       "0                                     1180.0                        0   \n",
       "1                                     2170.0                      400   \n",
       "2                                      770.0                        0   \n",
       "3                                     1050.0                      910   \n",
       "4                                     1680.0                        0   \n",
       "\n",
       "   Age of House (in Years)  Zipcode  Latitude  Longitude  \\\n",
       "0                       63  98178.0   47.5112   -122.257   \n",
       "1                       67  98125.0   47.7210   -122.319   \n",
       "2                       85  98028.0   47.7379   -122.233   \n",
       "3                       53  98136.0   47.5208   -122.393   \n",
       "4                       31  98074.0   47.6168   -122.045   \n",
       "\n",
       "   Living Area after Renovation (in Sqft)  \\\n",
       "0                                  1340.0   \n",
       "1                                  1690.0   \n",
       "2                                  2720.0   \n",
       "3                                  1360.0   \n",
       "4                                  1800.0   \n",
       "\n",
       "   Lot Area after Renovation (in Sqft)  Ever_Renovated Years Since Renovation  \n",
       "0                                 5650              No                      0  \n",
       "1                                 7639             Yes                     26  \n",
       "2                                 8062              No                      0  \n",
       "3                                 5000              No                      0  \n",
       "4                                 7503              No                      0  \n",
       "\n",
       "[5 rows x 21 columns]"
      ]
     },
     "execution_count": 71,
     "metadata": {},
     "output_type": "execute_result"
    }
   ],
   "source": [
    "Transformed_Housing_Data.head()"
   ]
  },
  {
   "cell_type": "code",
   "execution_count": 72,
   "id": "f2c2d699",
   "metadata": {},
   "outputs": [
    {
     "data": {
      "text/plain": [
       "array(['No', 'Yes'], dtype=object)"
      ]
     },
     "execution_count": 72,
     "metadata": {},
     "output_type": "execute_result"
    }
   ],
   "source": [
    "Transformed_Housing_Data['Waterfront_View'].unique()"
   ]
  },
  {
   "cell_type": "code",
   "execution_count": 73,
   "id": "08121df8",
   "metadata": {},
   "outputs": [
    {
     "data": {
      "text/plain": [
       "array(['No', 'Yes'], dtype=object)"
      ]
     },
     "execution_count": 73,
     "metadata": {},
     "output_type": "execute_result"
    }
   ],
   "source": [
    "Transformed_Housing_Data['Waterfront_View'].unique()"
   ]
  },
  {
   "cell_type": "code",
   "execution_count": 74,
   "id": "dbf46b24",
   "metadata": {},
   "outputs": [],
   "source": [
    "mod = ols('Sale_Price ~ Condition_of_the_House', data  = Transformed_Housing_Data).fit()"
   ]
  },
  {
   "cell_type": "code",
   "execution_count": 75,
   "id": "8efe0166",
   "metadata": {},
   "outputs": [],
   "source": [
    "Anova_Table = sm.stats.anova_lm( mod, typ = 2)"
   ]
  },
  {
   "cell_type": "code",
   "execution_count": 76,
   "id": "adeb5794",
   "metadata": {},
   "outputs": [
    {
     "name": "stdout",
     "output_type": "stream",
     "text": [
      "                              sum_sq       df         F        PR(>F)\n",
      "Condition_of_the_House  1.441831e+13      4.0  58.25563  5.447605e-49\n",
      "Residual                1.336752e+15  21604.0       NaN           NaN\n"
     ]
    }
   ],
   "source": [
    "print(Anova_Table)"
   ]
  },
  {
   "cell_type": "code",
   "execution_count": 77,
   "id": "1e250167",
   "metadata": {},
   "outputs": [
    {
     "data": {
      "text/html": [
       "<div>\n",
       "<style scoped>\n",
       "    .dataframe tbody tr th:only-of-type {\n",
       "        vertical-align: middle;\n",
       "    }\n",
       "\n",
       "    .dataframe tbody tr th {\n",
       "        vertical-align: top;\n",
       "    }\n",
       "\n",
       "    .dataframe thead th {\n",
       "        text-align: right;\n",
       "    }\n",
       "</style>\n",
       "<table border=\"1\" class=\"dataframe\">\n",
       "  <thead>\n",
       "    <tr style=\"text-align: right;\">\n",
       "      <th></th>\n",
       "      <th>sum_sq</th>\n",
       "      <th>df</th>\n",
       "      <th>F</th>\n",
       "      <th>PR(&gt;F)</th>\n",
       "    </tr>\n",
       "  </thead>\n",
       "  <tbody>\n",
       "    <tr>\n",
       "      <th>Waterfront_View</th>\n",
       "      <td>3.283737e+13</td>\n",
       "      <td>1.0</td>\n",
       "      <td>538.192683</td>\n",
       "      <td>1.275558e-117</td>\n",
       "    </tr>\n",
       "    <tr>\n",
       "      <th>Residual</th>\n",
       "      <td>1.318333e+15</td>\n",
       "      <td>21607.0</td>\n",
       "      <td>NaN</td>\n",
       "      <td>NaN</td>\n",
       "    </tr>\n",
       "  </tbody>\n",
       "</table>\n",
       "</div>"
      ],
      "text/plain": [
       "                       sum_sq       df           F         PR(>F)\n",
       "Waterfront_View  3.283737e+13      1.0  538.192683  1.275558e-117\n",
       "Residual         1.318333e+15  21607.0         NaN            NaN"
      ]
     },
     "execution_count": 77,
     "metadata": {},
     "output_type": "execute_result"
    }
   ],
   "source": [
    "mod = ols('Sale_Price ~ Waterfront_View', data  = Transformed_Housing_Data).fit()\n",
    "sm.stats.anova_lm( mod, typ = 2)"
   ]
  },
  {
   "cell_type": "code",
   "execution_count": 78,
   "id": "a39db339",
   "metadata": {},
   "outputs": [
    {
     "data": {
      "text/html": [
       "<div>\n",
       "<style scoped>\n",
       "    .dataframe tbody tr th:only-of-type {\n",
       "        vertical-align: middle;\n",
       "    }\n",
       "\n",
       "    .dataframe tbody tr th {\n",
       "        vertical-align: top;\n",
       "    }\n",
       "\n",
       "    .dataframe thead th {\n",
       "        text-align: right;\n",
       "    }\n",
       "</style>\n",
       "<table border=\"1\" class=\"dataframe\">\n",
       "  <thead>\n",
       "    <tr style=\"text-align: right;\">\n",
       "      <th></th>\n",
       "      <th>sum_sq</th>\n",
       "      <th>df</th>\n",
       "      <th>F</th>\n",
       "      <th>PR(&gt;F)</th>\n",
       "    </tr>\n",
       "  </thead>\n",
       "  <tbody>\n",
       "    <tr>\n",
       "      <th>Waterfront_View</th>\n",
       "      <td>3.283737e+13</td>\n",
       "      <td>1.0</td>\n",
       "      <td>538.192683</td>\n",
       "      <td>1.275558e-117</td>\n",
       "    </tr>\n",
       "    <tr>\n",
       "      <th>Residual</th>\n",
       "      <td>1.318333e+15</td>\n",
       "      <td>21607.0</td>\n",
       "      <td>NaN</td>\n",
       "      <td>NaN</td>\n",
       "    </tr>\n",
       "  </tbody>\n",
       "</table>\n",
       "</div>"
      ],
      "text/plain": [
       "                       sum_sq       df           F         PR(>F)\n",
       "Waterfront_View  3.283737e+13      1.0  538.192683  1.275558e-117\n",
       "Residual         1.318333e+15  21607.0         NaN            NaN"
      ]
     },
     "execution_count": 78,
     "metadata": {},
     "output_type": "execute_result"
    }
   ],
   "source": [
    "mod = ols('Sale_Price ~ Waterfront_View', data  = Transformed_Housing_Data).fit()\n",
    "sm.stats.anova_lm( mod, typ = 2)"
   ]
  },
  {
   "cell_type": "code",
   "execution_count": 79,
   "id": "11e70cb9",
   "metadata": {},
   "outputs": [
    {
     "data": {
      "text/html": [
       "<div>\n",
       "<style scoped>\n",
       "    .dataframe tbody tr th:only-of-type {\n",
       "        vertical-align: middle;\n",
       "    }\n",
       "\n",
       "    .dataframe tbody tr th {\n",
       "        vertical-align: top;\n",
       "    }\n",
       "\n",
       "    .dataframe thead th {\n",
       "        text-align: right;\n",
       "    }\n",
       "</style>\n",
       "<table border=\"1\" class=\"dataframe\">\n",
       "  <thead>\n",
       "    <tr style=\"text-align: right;\">\n",
       "      <th></th>\n",
       "      <th>sum_sq</th>\n",
       "      <th>df</th>\n",
       "      <th>F</th>\n",
       "      <th>PR(&gt;F)</th>\n",
       "    </tr>\n",
       "  </thead>\n",
       "  <tbody>\n",
       "    <tr>\n",
       "      <th>Ever_Renovated</th>\n",
       "      <td>1.998463e+13</td>\n",
       "      <td>1.0</td>\n",
       "      <td>324.378469</td>\n",
       "      <td>5.419055e-72</td>\n",
       "    </tr>\n",
       "    <tr>\n",
       "      <th>Residual</th>\n",
       "      <td>1.331185e+15</td>\n",
       "      <td>21607.0</td>\n",
       "      <td>NaN</td>\n",
       "      <td>NaN</td>\n",
       "    </tr>\n",
       "  </tbody>\n",
       "</table>\n",
       "</div>"
      ],
      "text/plain": [
       "                      sum_sq       df           F        PR(>F)\n",
       "Ever_Renovated  1.998463e+13      1.0  324.378469  5.419055e-72\n",
       "Residual        1.331185e+15  21607.0         NaN           NaN"
      ]
     },
     "execution_count": 79,
     "metadata": {},
     "output_type": "execute_result"
    }
   ],
   "source": [
    "mod = ols('Sale_Price ~ Ever_Renovated', data  = Transformed_Housing_Data).fit()\n",
    "sm.stats.anova_lm( mod, typ = 2)"
   ]
  },
  {
   "cell_type": "code",
   "execution_count": 80,
   "id": "ed5aaa68",
   "metadata": {},
   "outputs": [
    {
     "data": {
      "text/html": [
       "<div>\n",
       "<style scoped>\n",
       "    .dataframe tbody tr th:only-of-type {\n",
       "        vertical-align: middle;\n",
       "    }\n",
       "\n",
       "    .dataframe tbody tr th {\n",
       "        vertical-align: top;\n",
       "    }\n",
       "\n",
       "    .dataframe thead th {\n",
       "        text-align: right;\n",
       "    }\n",
       "</style>\n",
       "<table border=\"1\" class=\"dataframe\">\n",
       "  <thead>\n",
       "    <tr style=\"text-align: right;\">\n",
       "      <th></th>\n",
       "      <th>sum_sq</th>\n",
       "      <th>df</th>\n",
       "      <th>F</th>\n",
       "      <th>PR(&gt;F)</th>\n",
       "    </tr>\n",
       "  </thead>\n",
       "  <tbody>\n",
       "    <tr>\n",
       "      <th>Zipcode</th>\n",
       "      <td>2.503765e+12</td>\n",
       "      <td>1.0</td>\n",
       "      <td>40.112844</td>\n",
       "      <td>2.444308e-10</td>\n",
       "    </tr>\n",
       "    <tr>\n",
       "      <th>Residual</th>\n",
       "      <td>1.348666e+15</td>\n",
       "      <td>21607.0</td>\n",
       "      <td>NaN</td>\n",
       "      <td>NaN</td>\n",
       "    </tr>\n",
       "  </tbody>\n",
       "</table>\n",
       "</div>"
      ],
      "text/plain": [
       "                sum_sq       df          F        PR(>F)\n",
       "Zipcode   2.503765e+12      1.0  40.112844  2.444308e-10\n",
       "Residual  1.348666e+15  21607.0        NaN           NaN"
      ]
     },
     "execution_count": 80,
     "metadata": {},
     "output_type": "execute_result"
    }
   ],
   "source": [
    "mod = ols('Sale_Price ~ Zipcode', data  = Transformed_Housing_Data).fit()\n",
    "sm.stats.anova_lm( mod, typ = 2)"
   ]
  },
  {
   "cell_type": "markdown",
   "id": "4ab6bb1c",
   "metadata": {},
   "source": [
    "Two values are obtained from Anova\n",
    "# F-Value a large value\n",
    "# P- value<.05\n",
    "then we reject null hypothesis(There is no diffenence in Mean)\n",
    "and accept Alternate Hypothesis(Means are different and the categorical variable does have an impact on target variable)\n"
   ]
  },
  {
   "cell_type": "markdown",
   "id": "081bb0de",
   "metadata": {},
   "source": [
    "if p-value<.05:- There is less than 5% probability that the difference in means is purely a coincidence. One can be 95% or more confident that the difference in mean actually exists"
   ]
  },
  {
   "cell_type": "markdown",
   "id": "7c421c11",
   "metadata": {},
   "source": [
    "# two Types of ANOVA"
   ]
  },
  {
   "cell_type": "markdown",
   "id": "e0c1dbe6",
   "metadata": {},
   "source": [
    "One -Way ANOVA- it deals with one independent variable only"
   ]
  },
  {
   "cell_type": "markdown",
   "id": "5cfea91a",
   "metadata": {},
   "source": [
    "Two-Way Annova-IT deals with two or more independent variables"
   ]
  },
  {
   "cell_type": "markdown",
   "id": "1379d0b6",
   "metadata": {},
   "source": [
    "# Annova can find if a variable has an impact on other or not.\n",
    "it can not find how strong or weak is the impact"
   ]
  },
  {
   "cell_type": "markdown",
   "id": "5fb92c13",
   "metadata": {},
   "source": [
    "# CREATION OF DUMMY VARIABLES"
   ]
  },
  {
   "cell_type": "markdown",
   "id": "0a08b794",
   "metadata": {},
   "source": [
    "it refers to the process of transforming a categorical variable into a set of numerival or boolean variables, called dummy variables each of which has values of 0 or 1."
   ]
  },
  {
   "cell_type": "markdown",
   "id": "213790f3",
   "metadata": {},
   "source": [
    "The no of dummy variables created for a categorical variable depends on the no of unique values or levels that categorical variable has."
   ]
  },
  {
   "cell_type": "markdown",
   "id": "bd36a096",
   "metadata": {},
   "source": [
    "# Redundant Dummy Variable\n",
    "If a categorical variable has \"n\" levels, then \"n-1\" dummy variables are required\n"
   ]
  },
  {
   "cell_type": "markdown",
   "id": "34bca0e3",
   "metadata": {},
   "source": [
    "# Why do we need dummy Variable?\n",
    "1.Regression model require all the independent variables to be Numerical.\n",
    "2.By creating dummy variables, we transforms a categorical variable into a numerical variable.\n",
    "3.After creating required dummy variables for a categorical variable, categorical variable is dropped from the data set."
   ]
  },
  {
   "cell_type": "code",
   "execution_count": 81,
   "id": "25234178",
   "metadata": {},
   "outputs": [],
   "source": [
    "Transformed_Housing_Data=pd.get_dummies(Transformed_Housing_Data,columns=[\"Condition_of_the_House\"],drop_first=True)"
   ]
  },
  {
   "cell_type": "code",
   "execution_count": 82,
   "id": "7ebeb633",
   "metadata": {},
   "outputs": [
    {
     "data": {
      "text/html": [
       "<div>\n",
       "<style scoped>\n",
       "    .dataframe tbody tr th:only-of-type {\n",
       "        vertical-align: middle;\n",
       "    }\n",
       "\n",
       "    .dataframe tbody tr th {\n",
       "        vertical-align: top;\n",
       "    }\n",
       "\n",
       "    .dataframe thead th {\n",
       "        text-align: right;\n",
       "    }\n",
       "</style>\n",
       "<table border=\"1\" class=\"dataframe\">\n",
       "  <thead>\n",
       "    <tr style=\"text-align: right;\">\n",
       "      <th></th>\n",
       "      <th>ID</th>\n",
       "      <th>Sale_Price</th>\n",
       "      <th>No of Bedrooms</th>\n",
       "      <th>No of Bathrooms</th>\n",
       "      <th>Flat Area (in Sqft)</th>\n",
       "      <th>Lot Area (in Sqft)</th>\n",
       "      <th>No of Floors</th>\n",
       "      <th>Waterfront_View</th>\n",
       "      <th>No of Times Visited</th>\n",
       "      <th>Overall Grade</th>\n",
       "      <th>...</th>\n",
       "      <th>Latitude</th>\n",
       "      <th>Longitude</th>\n",
       "      <th>Living Area after Renovation (in Sqft)</th>\n",
       "      <th>Lot Area after Renovation (in Sqft)</th>\n",
       "      <th>Ever_Renovated</th>\n",
       "      <th>Years Since Renovation</th>\n",
       "      <th>Condition_of_the_House_Excellent</th>\n",
       "      <th>Condition_of_the_House_Fair</th>\n",
       "      <th>Condition_of_the_House_Good</th>\n",
       "      <th>Condition_of_the_House_Okay</th>\n",
       "    </tr>\n",
       "  </thead>\n",
       "  <tbody>\n",
       "    <tr>\n",
       "      <th>0</th>\n",
       "      <td>7129300520</td>\n",
       "      <td>221900.0</td>\n",
       "      <td>3</td>\n",
       "      <td>1.00</td>\n",
       "      <td>1180.0</td>\n",
       "      <td>5650.0</td>\n",
       "      <td>1.0</td>\n",
       "      <td>No</td>\n",
       "      <td>0</td>\n",
       "      <td>7</td>\n",
       "      <td>...</td>\n",
       "      <td>47.5112</td>\n",
       "      <td>-122.257</td>\n",
       "      <td>1340.0</td>\n",
       "      <td>5650</td>\n",
       "      <td>No</td>\n",
       "      <td>0</td>\n",
       "      <td>0</td>\n",
       "      <td>1</td>\n",
       "      <td>0</td>\n",
       "      <td>0</td>\n",
       "    </tr>\n",
       "    <tr>\n",
       "      <th>1</th>\n",
       "      <td>6414100192</td>\n",
       "      <td>538000.0</td>\n",
       "      <td>3</td>\n",
       "      <td>2.25</td>\n",
       "      <td>2570.0</td>\n",
       "      <td>7242.0</td>\n",
       "      <td>2.0</td>\n",
       "      <td>No</td>\n",
       "      <td>0</td>\n",
       "      <td>7</td>\n",
       "      <td>...</td>\n",
       "      <td>47.7210</td>\n",
       "      <td>-122.319</td>\n",
       "      <td>1690.0</td>\n",
       "      <td>7639</td>\n",
       "      <td>Yes</td>\n",
       "      <td>26</td>\n",
       "      <td>0</td>\n",
       "      <td>1</td>\n",
       "      <td>0</td>\n",
       "      <td>0</td>\n",
       "    </tr>\n",
       "    <tr>\n",
       "      <th>2</th>\n",
       "      <td>5631500400</td>\n",
       "      <td>180000.0</td>\n",
       "      <td>2</td>\n",
       "      <td>1.00</td>\n",
       "      <td>770.0</td>\n",
       "      <td>10000.0</td>\n",
       "      <td>1.0</td>\n",
       "      <td>No</td>\n",
       "      <td>0</td>\n",
       "      <td>6</td>\n",
       "      <td>...</td>\n",
       "      <td>47.7379</td>\n",
       "      <td>-122.233</td>\n",
       "      <td>2720.0</td>\n",
       "      <td>8062</td>\n",
       "      <td>No</td>\n",
       "      <td>0</td>\n",
       "      <td>0</td>\n",
       "      <td>1</td>\n",
       "      <td>0</td>\n",
       "      <td>0</td>\n",
       "    </tr>\n",
       "    <tr>\n",
       "      <th>3</th>\n",
       "      <td>2487200875</td>\n",
       "      <td>604000.0</td>\n",
       "      <td>4</td>\n",
       "      <td>3.00</td>\n",
       "      <td>1960.0</td>\n",
       "      <td>5000.0</td>\n",
       "      <td>1.0</td>\n",
       "      <td>No</td>\n",
       "      <td>0</td>\n",
       "      <td>7</td>\n",
       "      <td>...</td>\n",
       "      <td>47.5208</td>\n",
       "      <td>-122.393</td>\n",
       "      <td>1360.0</td>\n",
       "      <td>5000</td>\n",
       "      <td>No</td>\n",
       "      <td>0</td>\n",
       "      <td>1</td>\n",
       "      <td>0</td>\n",
       "      <td>0</td>\n",
       "      <td>0</td>\n",
       "    </tr>\n",
       "    <tr>\n",
       "      <th>4</th>\n",
       "      <td>1954400510</td>\n",
       "      <td>510000.0</td>\n",
       "      <td>3</td>\n",
       "      <td>2.00</td>\n",
       "      <td>1680.0</td>\n",
       "      <td>8080.0</td>\n",
       "      <td>1.0</td>\n",
       "      <td>No</td>\n",
       "      <td>0</td>\n",
       "      <td>8</td>\n",
       "      <td>...</td>\n",
       "      <td>47.6168</td>\n",
       "      <td>-122.045</td>\n",
       "      <td>1800.0</td>\n",
       "      <td>7503</td>\n",
       "      <td>No</td>\n",
       "      <td>0</td>\n",
       "      <td>0</td>\n",
       "      <td>1</td>\n",
       "      <td>0</td>\n",
       "      <td>0</td>\n",
       "    </tr>\n",
       "  </tbody>\n",
       "</table>\n",
       "<p>5 rows × 24 columns</p>\n",
       "</div>"
      ],
      "text/plain": [
       "           ID  Sale_Price  No of Bedrooms  No of Bathrooms  \\\n",
       "0  7129300520    221900.0               3             1.00   \n",
       "1  6414100192    538000.0               3             2.25   \n",
       "2  5631500400    180000.0               2             1.00   \n",
       "3  2487200875    604000.0               4             3.00   \n",
       "4  1954400510    510000.0               3             2.00   \n",
       "\n",
       "   Flat Area (in Sqft)  Lot Area (in Sqft)  No of Floors Waterfront_View  \\\n",
       "0               1180.0              5650.0           1.0              No   \n",
       "1               2570.0              7242.0           2.0              No   \n",
       "2                770.0             10000.0           1.0              No   \n",
       "3               1960.0              5000.0           1.0              No   \n",
       "4               1680.0              8080.0           1.0              No   \n",
       "\n",
       "   No of Times Visited  Overall Grade  ...  Latitude  Longitude  \\\n",
       "0                    0              7  ...   47.5112   -122.257   \n",
       "1                    0              7  ...   47.7210   -122.319   \n",
       "2                    0              6  ...   47.7379   -122.233   \n",
       "3                    0              7  ...   47.5208   -122.393   \n",
       "4                    0              8  ...   47.6168   -122.045   \n",
       "\n",
       "   Living Area after Renovation (in Sqft)  \\\n",
       "0                                  1340.0   \n",
       "1                                  1690.0   \n",
       "2                                  2720.0   \n",
       "3                                  1360.0   \n",
       "4                                  1800.0   \n",
       "\n",
       "   Lot Area after Renovation (in Sqft)  Ever_Renovated  \\\n",
       "0                                 5650              No   \n",
       "1                                 7639             Yes   \n",
       "2                                 8062              No   \n",
       "3                                 5000              No   \n",
       "4                                 7503              No   \n",
       "\n",
       "   Years Since Renovation  Condition_of_the_House_Excellent  \\\n",
       "0                       0                                 0   \n",
       "1                      26                                 0   \n",
       "2                       0                                 0   \n",
       "3                       0                                 1   \n",
       "4                       0                                 0   \n",
       "\n",
       "   Condition_of_the_House_Fair Condition_of_the_House_Good  \\\n",
       "0                            1                           0   \n",
       "1                            1                           0   \n",
       "2                            1                           0   \n",
       "3                            0                           0   \n",
       "4                            1                           0   \n",
       "\n",
       "   Condition_of_the_House_Okay  \n",
       "0                            0  \n",
       "1                            0  \n",
       "2                            0  \n",
       "3                            0  \n",
       "4                            0  \n",
       "\n",
       "[5 rows x 24 columns]"
      ]
     },
     "execution_count": 82,
     "metadata": {},
     "output_type": "execute_result"
    }
   ],
   "source": [
    "Transformed_Housing_Data.head()"
   ]
  },
  {
   "cell_type": "code",
   "execution_count": 83,
   "id": "25347a1c",
   "metadata": {},
   "outputs": [],
   "source": [
    "Transformed_Housing_Data=pd.get_dummies(Transformed_Housing_Data,columns=[\"Ever_Renovated\",\"Waterfront_View\"],drop_first=True)"
   ]
  },
  {
   "cell_type": "code",
   "execution_count": 85,
   "id": "36a98f83",
   "metadata": {},
   "outputs": [
    {
     "data": {
      "text/html": [
       "<div>\n",
       "<style scoped>\n",
       "    .dataframe tbody tr th:only-of-type {\n",
       "        vertical-align: middle;\n",
       "    }\n",
       "\n",
       "    .dataframe tbody tr th {\n",
       "        vertical-align: top;\n",
       "    }\n",
       "\n",
       "    .dataframe thead th {\n",
       "        text-align: right;\n",
       "    }\n",
       "</style>\n",
       "<table border=\"1\" class=\"dataframe\">\n",
       "  <thead>\n",
       "    <tr style=\"text-align: right;\">\n",
       "      <th></th>\n",
       "      <th>ID</th>\n",
       "      <th>Sale_Price</th>\n",
       "      <th>No of Bedrooms</th>\n",
       "      <th>No of Bathrooms</th>\n",
       "      <th>Flat Area (in Sqft)</th>\n",
       "      <th>Lot Area (in Sqft)</th>\n",
       "      <th>No of Floors</th>\n",
       "      <th>No of Times Visited</th>\n",
       "      <th>Overall Grade</th>\n",
       "      <th>Area of the House from Basement (in Sqft)</th>\n",
       "      <th>...</th>\n",
       "      <th>Longitude</th>\n",
       "      <th>Living Area after Renovation (in Sqft)</th>\n",
       "      <th>Lot Area after Renovation (in Sqft)</th>\n",
       "      <th>Years Since Renovation</th>\n",
       "      <th>Condition_of_the_House_Excellent</th>\n",
       "      <th>Condition_of_the_House_Fair</th>\n",
       "      <th>Condition_of_the_House_Good</th>\n",
       "      <th>Condition_of_the_House_Okay</th>\n",
       "      <th>Ever_Renovated_Yes</th>\n",
       "      <th>Waterfront_View_Yes</th>\n",
       "    </tr>\n",
       "  </thead>\n",
       "  <tbody>\n",
       "    <tr>\n",
       "      <th>0</th>\n",
       "      <td>7129300520</td>\n",
       "      <td>221900.0</td>\n",
       "      <td>3</td>\n",
       "      <td>1.00</td>\n",
       "      <td>1180.0</td>\n",
       "      <td>5650.0</td>\n",
       "      <td>1.0</td>\n",
       "      <td>0</td>\n",
       "      <td>7</td>\n",
       "      <td>1180.0</td>\n",
       "      <td>...</td>\n",
       "      <td>-122.257</td>\n",
       "      <td>1340.0</td>\n",
       "      <td>5650</td>\n",
       "      <td>0</td>\n",
       "      <td>0</td>\n",
       "      <td>1</td>\n",
       "      <td>0</td>\n",
       "      <td>0</td>\n",
       "      <td>0</td>\n",
       "      <td>0</td>\n",
       "    </tr>\n",
       "    <tr>\n",
       "      <th>1</th>\n",
       "      <td>6414100192</td>\n",
       "      <td>538000.0</td>\n",
       "      <td>3</td>\n",
       "      <td>2.25</td>\n",
       "      <td>2570.0</td>\n",
       "      <td>7242.0</td>\n",
       "      <td>2.0</td>\n",
       "      <td>0</td>\n",
       "      <td>7</td>\n",
       "      <td>2170.0</td>\n",
       "      <td>...</td>\n",
       "      <td>-122.319</td>\n",
       "      <td>1690.0</td>\n",
       "      <td>7639</td>\n",
       "      <td>26</td>\n",
       "      <td>0</td>\n",
       "      <td>1</td>\n",
       "      <td>0</td>\n",
       "      <td>0</td>\n",
       "      <td>1</td>\n",
       "      <td>0</td>\n",
       "    </tr>\n",
       "    <tr>\n",
       "      <th>2</th>\n",
       "      <td>5631500400</td>\n",
       "      <td>180000.0</td>\n",
       "      <td>2</td>\n",
       "      <td>1.00</td>\n",
       "      <td>770.0</td>\n",
       "      <td>10000.0</td>\n",
       "      <td>1.0</td>\n",
       "      <td>0</td>\n",
       "      <td>6</td>\n",
       "      <td>770.0</td>\n",
       "      <td>...</td>\n",
       "      <td>-122.233</td>\n",
       "      <td>2720.0</td>\n",
       "      <td>8062</td>\n",
       "      <td>0</td>\n",
       "      <td>0</td>\n",
       "      <td>1</td>\n",
       "      <td>0</td>\n",
       "      <td>0</td>\n",
       "      <td>0</td>\n",
       "      <td>0</td>\n",
       "    </tr>\n",
       "    <tr>\n",
       "      <th>3</th>\n",
       "      <td>2487200875</td>\n",
       "      <td>604000.0</td>\n",
       "      <td>4</td>\n",
       "      <td>3.00</td>\n",
       "      <td>1960.0</td>\n",
       "      <td>5000.0</td>\n",
       "      <td>1.0</td>\n",
       "      <td>0</td>\n",
       "      <td>7</td>\n",
       "      <td>1050.0</td>\n",
       "      <td>...</td>\n",
       "      <td>-122.393</td>\n",
       "      <td>1360.0</td>\n",
       "      <td>5000</td>\n",
       "      <td>0</td>\n",
       "      <td>1</td>\n",
       "      <td>0</td>\n",
       "      <td>0</td>\n",
       "      <td>0</td>\n",
       "      <td>0</td>\n",
       "      <td>0</td>\n",
       "    </tr>\n",
       "    <tr>\n",
       "      <th>4</th>\n",
       "      <td>1954400510</td>\n",
       "      <td>510000.0</td>\n",
       "      <td>3</td>\n",
       "      <td>2.00</td>\n",
       "      <td>1680.0</td>\n",
       "      <td>8080.0</td>\n",
       "      <td>1.0</td>\n",
       "      <td>0</td>\n",
       "      <td>8</td>\n",
       "      <td>1680.0</td>\n",
       "      <td>...</td>\n",
       "      <td>-122.045</td>\n",
       "      <td>1800.0</td>\n",
       "      <td>7503</td>\n",
       "      <td>0</td>\n",
       "      <td>0</td>\n",
       "      <td>1</td>\n",
       "      <td>0</td>\n",
       "      <td>0</td>\n",
       "      <td>0</td>\n",
       "      <td>0</td>\n",
       "    </tr>\n",
       "  </tbody>\n",
       "</table>\n",
       "<p>5 rows × 24 columns</p>\n",
       "</div>"
      ],
      "text/plain": [
       "           ID  Sale_Price  No of Bedrooms  No of Bathrooms  \\\n",
       "0  7129300520    221900.0               3             1.00   \n",
       "1  6414100192    538000.0               3             2.25   \n",
       "2  5631500400    180000.0               2             1.00   \n",
       "3  2487200875    604000.0               4             3.00   \n",
       "4  1954400510    510000.0               3             2.00   \n",
       "\n",
       "   Flat Area (in Sqft)  Lot Area (in Sqft)  No of Floors  No of Times Visited  \\\n",
       "0               1180.0              5650.0           1.0                    0   \n",
       "1               2570.0              7242.0           2.0                    0   \n",
       "2                770.0             10000.0           1.0                    0   \n",
       "3               1960.0              5000.0           1.0                    0   \n",
       "4               1680.0              8080.0           1.0                    0   \n",
       "\n",
       "   Overall Grade  Area of the House from Basement (in Sqft)  ...  Longitude  \\\n",
       "0              7                                     1180.0  ...   -122.257   \n",
       "1              7                                     2170.0  ...   -122.319   \n",
       "2              6                                      770.0  ...   -122.233   \n",
       "3              7                                     1050.0  ...   -122.393   \n",
       "4              8                                     1680.0  ...   -122.045   \n",
       "\n",
       "   Living Area after Renovation (in Sqft)  \\\n",
       "0                                  1340.0   \n",
       "1                                  1690.0   \n",
       "2                                  2720.0   \n",
       "3                                  1360.0   \n",
       "4                                  1800.0   \n",
       "\n",
       "   Lot Area after Renovation (in Sqft)  Years Since Renovation  \\\n",
       "0                                 5650                       0   \n",
       "1                                 7639                      26   \n",
       "2                                 8062                       0   \n",
       "3                                 5000                       0   \n",
       "4                                 7503                       0   \n",
       "\n",
       "   Condition_of_the_House_Excellent  Condition_of_the_House_Fair  \\\n",
       "0                                 0                            1   \n",
       "1                                 0                            1   \n",
       "2                                 0                            1   \n",
       "3                                 1                            0   \n",
       "4                                 0                            1   \n",
       "\n",
       "   Condition_of_the_House_Good  Condition_of_the_House_Okay  \\\n",
       "0                            0                            0   \n",
       "1                            0                            0   \n",
       "2                            0                            0   \n",
       "3                            0                            0   \n",
       "4                            0                            0   \n",
       "\n",
       "   Ever_Renovated_Yes  Waterfront_View_Yes  \n",
       "0                   0                    0  \n",
       "1                   1                    0  \n",
       "2                   0                    0  \n",
       "3                   0                    0  \n",
       "4                   0                    0  \n",
       "\n",
       "[5 rows x 24 columns]"
      ]
     },
     "execution_count": 85,
     "metadata": {},
     "output_type": "execute_result"
    }
   ],
   "source": [
    "Transformed_Housing_Data.head()"
   ]
  },
  {
   "cell_type": "markdown",
   "id": "05967048",
   "metadata": {},
   "source": [
    "# Binning"
   ]
  },
  {
   "cell_type": "markdown",
   "id": "07c734a0",
   "metadata": {},
   "source": [
    "If the number of levels for a categorical variable is more(say>20),then bin these levels into fewer groups before creating the dummy variables."
   ]
  },
  {
   "cell_type": "code",
   "execution_count": 86,
   "id": "cdb5ea49",
   "metadata": {},
   "outputs": [],
   "source": [
    "Zip_Table=Transformed_Housing_Data.groupby(\"Zipcode\").agg({\"Sale_Price\":\"mean\"}).sort_values(\"Sale_Price\",ascending=True)"
   ]
  },
  {
   "cell_type": "code",
   "execution_count": 87,
   "id": "a1e052a7",
   "metadata": {},
   "outputs": [
    {
     "data": {
      "text/html": [
       "<div>\n",
       "<style scoped>\n",
       "    .dataframe tbody tr th:only-of-type {\n",
       "        vertical-align: middle;\n",
       "    }\n",
       "\n",
       "    .dataframe tbody tr th {\n",
       "        vertical-align: top;\n",
       "    }\n",
       "\n",
       "    .dataframe thead th {\n",
       "        text-align: right;\n",
       "    }\n",
       "</style>\n",
       "<table border=\"1\" class=\"dataframe\">\n",
       "  <thead>\n",
       "    <tr style=\"text-align: right;\">\n",
       "      <th></th>\n",
       "      <th>Sale_Price</th>\n",
       "    </tr>\n",
       "    <tr>\n",
       "      <th>Zipcode</th>\n",
       "      <th></th>\n",
       "    </tr>\n",
       "  </thead>\n",
       "  <tbody>\n",
       "    <tr>\n",
       "      <th>98002.0</th>\n",
       "      <td>234284.035176</td>\n",
       "    </tr>\n",
       "    <tr>\n",
       "      <th>98168.0</th>\n",
       "      <td>240328.371747</td>\n",
       "    </tr>\n",
       "    <tr>\n",
       "      <th>98032.0</th>\n",
       "      <td>251296.240000</td>\n",
       "    </tr>\n",
       "    <tr>\n",
       "      <th>98001.0</th>\n",
       "      <td>280804.690608</td>\n",
       "    </tr>\n",
       "    <tr>\n",
       "      <th>98148.0</th>\n",
       "      <td>284908.596491</td>\n",
       "    </tr>\n",
       "  </tbody>\n",
       "</table>\n",
       "</div>"
      ],
      "text/plain": [
       "            Sale_Price\n",
       "Zipcode               \n",
       "98002.0  234284.035176\n",
       "98168.0  240328.371747\n",
       "98032.0  251296.240000\n",
       "98001.0  280804.690608\n",
       "98148.0  284908.596491"
      ]
     },
     "execution_count": 87,
     "metadata": {},
     "output_type": "execute_result"
    }
   ],
   "source": [
    "Zip_Table.head()"
   ]
  },
  {
   "cell_type": "code",
   "execution_count": 89,
   "id": "65a9e2c8",
   "metadata": {
    "scrolled": true
   },
   "outputs": [],
   "source": [
    "Zip_Table[\"Zipcode_Group\"]=pd.cut(Zip_Table[\"Sale_Price\"],bins=10,labels=[\"Zipcode_Group_0\",\"Zipcode_Group_1\",\"Zipcode_Group_2\",\"Zipcode_Group_3\",\"Zipcode_Group_4\",\"Zipcode_Group_5\",\"Zipcode_Group_6\",\"Zipcode_Group_7\",\"Zipcode_Group_8\",\"Zipcode_Group_9\"],include_lowest=True)"
   ]
  },
  {
   "cell_type": "code",
   "execution_count": 90,
   "id": "0f6812fe",
   "metadata": {},
   "outputs": [],
   "source": [
    "Zip_Table=Zip_Table.drop(columns=\"Sale_Price\")"
   ]
  },
  {
   "cell_type": "markdown",
   "id": "82e42a45",
   "metadata": {},
   "source": [
    "The \"Merge Function\" of the Pandas library is used to merge two tables"
   ]
  },
  {
   "cell_type": "markdown",
   "id": "ea81d682",
   "metadata": {},
   "source": [
    "An identifier or a variable (key or joining) parameter which is common in both tables is required for joining the table."
   ]
  },
  {
   "cell_type": "markdown",
   "id": "3b0ec9ca",
   "metadata": {},
   "source": [
    "What do we mean by left Join?\n",
    "1. Whentwo tables are joined based on the common key, one table will be the left and the other will be the right.\n",
    "2.In the left join all rows of left table will be returned along with matching fields from the other table\n",
    "3.In the Right join all elements of right table will be returned along with matching fields from the other table"
   ]
  },
  {
   "cell_type": "code",
   "execution_count": 91,
   "id": "fea0e401",
   "metadata": {},
   "outputs": [],
   "source": [
    "Transformed_Housing_Data=pd.merge(Transformed_Housing_Data,Zip_Table,left_on=\"Zipcode\",how=\"left\",right_index=True)"
   ]
  },
  {
   "cell_type": "code",
   "execution_count": 92,
   "id": "bd8e7011",
   "metadata": {},
   "outputs": [],
   "source": [
    "Transformed_Housing_Data=Transformed_Housing_Data.drop(columns=\"Zipcode\")"
   ]
  },
  {
   "cell_type": "code",
   "execution_count": 93,
   "id": "9bc96a1b",
   "metadata": {},
   "outputs": [
    {
     "data": {
      "text/html": [
       "<div>\n",
       "<style scoped>\n",
       "    .dataframe tbody tr th:only-of-type {\n",
       "        vertical-align: middle;\n",
       "    }\n",
       "\n",
       "    .dataframe tbody tr th {\n",
       "        vertical-align: top;\n",
       "    }\n",
       "\n",
       "    .dataframe thead th {\n",
       "        text-align: right;\n",
       "    }\n",
       "</style>\n",
       "<table border=\"1\" class=\"dataframe\">\n",
       "  <thead>\n",
       "    <tr style=\"text-align: right;\">\n",
       "      <th></th>\n",
       "      <th>ID</th>\n",
       "      <th>Sale_Price</th>\n",
       "      <th>No of Bedrooms</th>\n",
       "      <th>No of Bathrooms</th>\n",
       "      <th>Flat Area (in Sqft)</th>\n",
       "      <th>Lot Area (in Sqft)</th>\n",
       "      <th>No of Floors</th>\n",
       "      <th>No of Times Visited</th>\n",
       "      <th>Overall Grade</th>\n",
       "      <th>Area of the House from Basement (in Sqft)</th>\n",
       "      <th>...</th>\n",
       "      <th>Living Area after Renovation (in Sqft)</th>\n",
       "      <th>Lot Area after Renovation (in Sqft)</th>\n",
       "      <th>Years Since Renovation</th>\n",
       "      <th>Condition_of_the_House_Excellent</th>\n",
       "      <th>Condition_of_the_House_Fair</th>\n",
       "      <th>Condition_of_the_House_Good</th>\n",
       "      <th>Condition_of_the_House_Okay</th>\n",
       "      <th>Ever_Renovated_Yes</th>\n",
       "      <th>Waterfront_View_Yes</th>\n",
       "      <th>Zipcode_Group</th>\n",
       "    </tr>\n",
       "  </thead>\n",
       "  <tbody>\n",
       "    <tr>\n",
       "      <th>0</th>\n",
       "      <td>7129300520</td>\n",
       "      <td>221900.0</td>\n",
       "      <td>3</td>\n",
       "      <td>1.00</td>\n",
       "      <td>1180.0</td>\n",
       "      <td>5650.0</td>\n",
       "      <td>1.0</td>\n",
       "      <td>0</td>\n",
       "      <td>7</td>\n",
       "      <td>1180.0</td>\n",
       "      <td>...</td>\n",
       "      <td>1340.0</td>\n",
       "      <td>5650</td>\n",
       "      <td>0</td>\n",
       "      <td>0</td>\n",
       "      <td>1</td>\n",
       "      <td>0</td>\n",
       "      <td>0</td>\n",
       "      <td>0</td>\n",
       "      <td>0</td>\n",
       "      <td>Zipcode_Group_0</td>\n",
       "    </tr>\n",
       "    <tr>\n",
       "      <th>1</th>\n",
       "      <td>6414100192</td>\n",
       "      <td>538000.0</td>\n",
       "      <td>3</td>\n",
       "      <td>2.25</td>\n",
       "      <td>2570.0</td>\n",
       "      <td>7242.0</td>\n",
       "      <td>2.0</td>\n",
       "      <td>0</td>\n",
       "      <td>7</td>\n",
       "      <td>2170.0</td>\n",
       "      <td>...</td>\n",
       "      <td>1690.0</td>\n",
       "      <td>7639</td>\n",
       "      <td>26</td>\n",
       "      <td>0</td>\n",
       "      <td>1</td>\n",
       "      <td>0</td>\n",
       "      <td>0</td>\n",
       "      <td>1</td>\n",
       "      <td>0</td>\n",
       "      <td>Zipcode_Group_2</td>\n",
       "    </tr>\n",
       "  </tbody>\n",
       "</table>\n",
       "<p>2 rows × 24 columns</p>\n",
       "</div>"
      ],
      "text/plain": [
       "           ID  Sale_Price  No of Bedrooms  No of Bathrooms  \\\n",
       "0  7129300520    221900.0               3             1.00   \n",
       "1  6414100192    538000.0               3             2.25   \n",
       "\n",
       "   Flat Area (in Sqft)  Lot Area (in Sqft)  No of Floors  No of Times Visited  \\\n",
       "0               1180.0              5650.0           1.0                    0   \n",
       "1               2570.0              7242.0           2.0                    0   \n",
       "\n",
       "   Overall Grade  Area of the House from Basement (in Sqft)  ...  \\\n",
       "0              7                                     1180.0  ...   \n",
       "1              7                                     2170.0  ...   \n",
       "\n",
       "   Living Area after Renovation (in Sqft)  \\\n",
       "0                                  1340.0   \n",
       "1                                  1690.0   \n",
       "\n",
       "   Lot Area after Renovation (in Sqft)  Years Since Renovation  \\\n",
       "0                                 5650                       0   \n",
       "1                                 7639                      26   \n",
       "\n",
       "   Condition_of_the_House_Excellent  Condition_of_the_House_Fair  \\\n",
       "0                                 0                            1   \n",
       "1                                 0                            1   \n",
       "\n",
       "   Condition_of_the_House_Good  Condition_of_the_House_Okay  \\\n",
       "0                            0                            0   \n",
       "1                            0                            0   \n",
       "\n",
       "   Ever_Renovated_Yes  Waterfront_View_Yes    Zipcode_Group  \n",
       "0                   0                    0  Zipcode_Group_0  \n",
       "1                   1                    0  Zipcode_Group_2  \n",
       "\n",
       "[2 rows x 24 columns]"
      ]
     },
     "execution_count": 93,
     "metadata": {},
     "output_type": "execute_result"
    }
   ],
   "source": [
    "Transformed_Housing_Data.head(2)"
   ]
  },
  {
   "cell_type": "code",
   "execution_count": 94,
   "id": "4df54d83",
   "metadata": {},
   "outputs": [],
   "source": [
    "Transformed_Housing_Data=pd.get_dummies(Transformed_Housing_Data,columns=[\"Zipcode_Group\"],drop_first=True)"
   ]
  },
  {
   "cell_type": "code",
   "execution_count": 95,
   "id": "65f930d8",
   "metadata": {},
   "outputs": [
    {
     "data": {
      "text/html": [
       "<div>\n",
       "<style scoped>\n",
       "    .dataframe tbody tr th:only-of-type {\n",
       "        vertical-align: middle;\n",
       "    }\n",
       "\n",
       "    .dataframe tbody tr th {\n",
       "        vertical-align: top;\n",
       "    }\n",
       "\n",
       "    .dataframe thead th {\n",
       "        text-align: right;\n",
       "    }\n",
       "</style>\n",
       "<table border=\"1\" class=\"dataframe\">\n",
       "  <thead>\n",
       "    <tr style=\"text-align: right;\">\n",
       "      <th></th>\n",
       "      <th>ID</th>\n",
       "      <th>Sale_Price</th>\n",
       "      <th>No of Bedrooms</th>\n",
       "      <th>No of Bathrooms</th>\n",
       "      <th>Flat Area (in Sqft)</th>\n",
       "      <th>Lot Area (in Sqft)</th>\n",
       "      <th>No of Floors</th>\n",
       "      <th>No of Times Visited</th>\n",
       "      <th>Overall Grade</th>\n",
       "      <th>Area of the House from Basement (in Sqft)</th>\n",
       "      <th>...</th>\n",
       "      <th>Waterfront_View_Yes</th>\n",
       "      <th>Zipcode_Group_Zipcode_Group_1</th>\n",
       "      <th>Zipcode_Group_Zipcode_Group_2</th>\n",
       "      <th>Zipcode_Group_Zipcode_Group_3</th>\n",
       "      <th>Zipcode_Group_Zipcode_Group_4</th>\n",
       "      <th>Zipcode_Group_Zipcode_Group_5</th>\n",
       "      <th>Zipcode_Group_Zipcode_Group_6</th>\n",
       "      <th>Zipcode_Group_Zipcode_Group_7</th>\n",
       "      <th>Zipcode_Group_Zipcode_Group_8</th>\n",
       "      <th>Zipcode_Group_Zipcode_Group_9</th>\n",
       "    </tr>\n",
       "  </thead>\n",
       "  <tbody>\n",
       "    <tr>\n",
       "      <th>0</th>\n",
       "      <td>7129300520</td>\n",
       "      <td>221900.0</td>\n",
       "      <td>3</td>\n",
       "      <td>1.00</td>\n",
       "      <td>1180.0</td>\n",
       "      <td>5650.0</td>\n",
       "      <td>1.0</td>\n",
       "      <td>0</td>\n",
       "      <td>7</td>\n",
       "      <td>1180.0</td>\n",
       "      <td>...</td>\n",
       "      <td>0</td>\n",
       "      <td>0</td>\n",
       "      <td>0</td>\n",
       "      <td>0</td>\n",
       "      <td>0</td>\n",
       "      <td>0</td>\n",
       "      <td>0</td>\n",
       "      <td>0</td>\n",
       "      <td>0</td>\n",
       "      <td>0</td>\n",
       "    </tr>\n",
       "    <tr>\n",
       "      <th>1</th>\n",
       "      <td>6414100192</td>\n",
       "      <td>538000.0</td>\n",
       "      <td>3</td>\n",
       "      <td>2.25</td>\n",
       "      <td>2570.0</td>\n",
       "      <td>7242.0</td>\n",
       "      <td>2.0</td>\n",
       "      <td>0</td>\n",
       "      <td>7</td>\n",
       "      <td>2170.0</td>\n",
       "      <td>...</td>\n",
       "      <td>0</td>\n",
       "      <td>0</td>\n",
       "      <td>1</td>\n",
       "      <td>0</td>\n",
       "      <td>0</td>\n",
       "      <td>0</td>\n",
       "      <td>0</td>\n",
       "      <td>0</td>\n",
       "      <td>0</td>\n",
       "      <td>0</td>\n",
       "    </tr>\n",
       "  </tbody>\n",
       "</table>\n",
       "<p>2 rows × 32 columns</p>\n",
       "</div>"
      ],
      "text/plain": [
       "           ID  Sale_Price  No of Bedrooms  No of Bathrooms  \\\n",
       "0  7129300520    221900.0               3             1.00   \n",
       "1  6414100192    538000.0               3             2.25   \n",
       "\n",
       "   Flat Area (in Sqft)  Lot Area (in Sqft)  No of Floors  No of Times Visited  \\\n",
       "0               1180.0              5650.0           1.0                    0   \n",
       "1               2570.0              7242.0           2.0                    0   \n",
       "\n",
       "   Overall Grade  Area of the House from Basement (in Sqft)  ...  \\\n",
       "0              7                                     1180.0  ...   \n",
       "1              7                                     2170.0  ...   \n",
       "\n",
       "   Waterfront_View_Yes  Zipcode_Group_Zipcode_Group_1  \\\n",
       "0                    0                              0   \n",
       "1                    0                              0   \n",
       "\n",
       "   Zipcode_Group_Zipcode_Group_2  Zipcode_Group_Zipcode_Group_3  \\\n",
       "0                              0                              0   \n",
       "1                              1                              0   \n",
       "\n",
       "   Zipcode_Group_Zipcode_Group_4  Zipcode_Group_Zipcode_Group_5  \\\n",
       "0                              0                              0   \n",
       "1                              0                              0   \n",
       "\n",
       "   Zipcode_Group_Zipcode_Group_6  Zipcode_Group_Zipcode_Group_7  \\\n",
       "0                              0                              0   \n",
       "1                              0                              0   \n",
       "\n",
       "   Zipcode_Group_Zipcode_Group_8  Zipcode_Group_Zipcode_Group_9  \n",
       "0                              0                              0  \n",
       "1                              0                              0  \n",
       "\n",
       "[2 rows x 32 columns]"
      ]
     },
     "execution_count": 95,
     "metadata": {},
     "output_type": "execute_result"
    }
   ],
   "source": [
    "Transformed_Housing_Data.head(2)"
   ]
  },
  {
   "cell_type": "code",
   "execution_count": 96,
   "id": "41be9323",
   "metadata": {},
   "outputs": [],
   "source": [
    "Transformed_Housing_Data.to_csv(\"Transformed_Housing_Data_2.csv\",index=False)"
   ]
  },
  {
   "cell_type": "code",
   "execution_count": 97,
   "id": "6da82168",
   "metadata": {},
   "outputs": [],
   "source": [
    "Transformed_Housing_Data_2=pd.read_csv(\"Transformed_Housing_Data_2.csv\")"
   ]
  },
  {
   "cell_type": "code",
   "execution_count": 102,
   "id": "f273e0ea",
   "metadata": {},
   "outputs": [],
   "source": [
    "Transformed_Housing_Data_2=Transformed_Housing_Data_2.drop(columns=\"ID\")"
   ]
  },
  {
   "cell_type": "code",
   "execution_count": 103,
   "id": "4f891e3d",
   "metadata": {},
   "outputs": [
    {
     "data": {
      "text/html": [
       "<div>\n",
       "<style scoped>\n",
       "    .dataframe tbody tr th:only-of-type {\n",
       "        vertical-align: middle;\n",
       "    }\n",
       "\n",
       "    .dataframe tbody tr th {\n",
       "        vertical-align: top;\n",
       "    }\n",
       "\n",
       "    .dataframe thead th {\n",
       "        text-align: right;\n",
       "    }\n",
       "</style>\n",
       "<table border=\"1\" class=\"dataframe\">\n",
       "  <thead>\n",
       "    <tr style=\"text-align: right;\">\n",
       "      <th></th>\n",
       "      <th>Sale_Price</th>\n",
       "      <th>No of Bedrooms</th>\n",
       "      <th>No of Bathrooms</th>\n",
       "      <th>Flat Area (in Sqft)</th>\n",
       "      <th>Lot Area (in Sqft)</th>\n",
       "      <th>No of Floors</th>\n",
       "      <th>No of Times Visited</th>\n",
       "      <th>Overall Grade</th>\n",
       "      <th>Area of the House from Basement (in Sqft)</th>\n",
       "      <th>Basement Area (in Sqft)</th>\n",
       "      <th>...</th>\n",
       "      <th>Waterfront_View_Yes</th>\n",
       "      <th>Zipcode_Group_Zipcode_Group_1</th>\n",
       "      <th>Zipcode_Group_Zipcode_Group_2</th>\n",
       "      <th>Zipcode_Group_Zipcode_Group_3</th>\n",
       "      <th>Zipcode_Group_Zipcode_Group_4</th>\n",
       "      <th>Zipcode_Group_Zipcode_Group_5</th>\n",
       "      <th>Zipcode_Group_Zipcode_Group_6</th>\n",
       "      <th>Zipcode_Group_Zipcode_Group_7</th>\n",
       "      <th>Zipcode_Group_Zipcode_Group_8</th>\n",
       "      <th>Zipcode_Group_Zipcode_Group_9</th>\n",
       "    </tr>\n",
       "  </thead>\n",
       "  <tbody>\n",
       "    <tr>\n",
       "      <th>0</th>\n",
       "      <td>221900.0</td>\n",
       "      <td>3</td>\n",
       "      <td>1.00</td>\n",
       "      <td>1180.0</td>\n",
       "      <td>5650.0</td>\n",
       "      <td>1.0</td>\n",
       "      <td>0</td>\n",
       "      <td>7</td>\n",
       "      <td>1180.0</td>\n",
       "      <td>0</td>\n",
       "      <td>...</td>\n",
       "      <td>0</td>\n",
       "      <td>0</td>\n",
       "      <td>0</td>\n",
       "      <td>0</td>\n",
       "      <td>0</td>\n",
       "      <td>0</td>\n",
       "      <td>0</td>\n",
       "      <td>0</td>\n",
       "      <td>0</td>\n",
       "      <td>0</td>\n",
       "    </tr>\n",
       "    <tr>\n",
       "      <th>1</th>\n",
       "      <td>538000.0</td>\n",
       "      <td>3</td>\n",
       "      <td>2.25</td>\n",
       "      <td>2570.0</td>\n",
       "      <td>7242.0</td>\n",
       "      <td>2.0</td>\n",
       "      <td>0</td>\n",
       "      <td>7</td>\n",
       "      <td>2170.0</td>\n",
       "      <td>400</td>\n",
       "      <td>...</td>\n",
       "      <td>0</td>\n",
       "      <td>0</td>\n",
       "      <td>1</td>\n",
       "      <td>0</td>\n",
       "      <td>0</td>\n",
       "      <td>0</td>\n",
       "      <td>0</td>\n",
       "      <td>0</td>\n",
       "      <td>0</td>\n",
       "      <td>0</td>\n",
       "    </tr>\n",
       "  </tbody>\n",
       "</table>\n",
       "<p>2 rows × 31 columns</p>\n",
       "</div>"
      ],
      "text/plain": [
       "   Sale_Price  No of Bedrooms  No of Bathrooms  Flat Area (in Sqft)  \\\n",
       "0    221900.0               3             1.00               1180.0   \n",
       "1    538000.0               3             2.25               2570.0   \n",
       "\n",
       "   Lot Area (in Sqft)  No of Floors  No of Times Visited  Overall Grade  \\\n",
       "0              5650.0           1.0                    0              7   \n",
       "1              7242.0           2.0                    0              7   \n",
       "\n",
       "   Area of the House from Basement (in Sqft)  Basement Area (in Sqft)  ...  \\\n",
       "0                                     1180.0                        0  ...   \n",
       "1                                     2170.0                      400  ...   \n",
       "\n",
       "   Waterfront_View_Yes  Zipcode_Group_Zipcode_Group_1  \\\n",
       "0                    0                              0   \n",
       "1                    0                              0   \n",
       "\n",
       "   Zipcode_Group_Zipcode_Group_2  Zipcode_Group_Zipcode_Group_3  \\\n",
       "0                              0                              0   \n",
       "1                              1                              0   \n",
       "\n",
       "   Zipcode_Group_Zipcode_Group_4  Zipcode_Group_Zipcode_Group_5  \\\n",
       "0                              0                              0   \n",
       "1                              0                              0   \n",
       "\n",
       "   Zipcode_Group_Zipcode_Group_6  Zipcode_Group_Zipcode_Group_7  \\\n",
       "0                              0                              0   \n",
       "1                              0                              0   \n",
       "\n",
       "   Zipcode_Group_Zipcode_Group_8  Zipcode_Group_Zipcode_Group_9  \n",
       "0                              0                              0  \n",
       "1                              0                              0  \n",
       "\n",
       "[2 rows x 31 columns]"
      ]
     },
     "execution_count": 103,
     "metadata": {},
     "output_type": "execute_result"
    }
   ],
   "source": [
    "Transformed_Housing_Data_2.head(2)"
   ]
  },
  {
   "cell_type": "markdown",
   "id": "5166fca4",
   "metadata": {},
   "source": [
    "# Splitting Of Data"
   ]
  },
  {
   "cell_type": "markdown",
   "id": "30da0fb0",
   "metadata": {},
   "source": [
    "Splitting into dependent and independent Varable"
   ]
  },
  {
   "cell_type": "code",
   "execution_count": 104,
   "id": "0e18674f",
   "metadata": {},
   "outputs": [],
   "source": [
    "Y=Transformed_Housing_Data_2.iloc[:,0]"
   ]
  },
  {
   "cell_type": "code",
   "execution_count": 105,
   "id": "ffb3ee68",
   "metadata": {},
   "outputs": [],
   "source": [
    "X=Transformed_Housing_Data_2.iloc[:,1:31]"
   ]
  },
  {
   "cell_type": "code",
   "execution_count": 106,
   "id": "b163e249",
   "metadata": {},
   "outputs": [
    {
     "data": {
      "text/html": [
       "<div>\n",
       "<style scoped>\n",
       "    .dataframe tbody tr th:only-of-type {\n",
       "        vertical-align: middle;\n",
       "    }\n",
       "\n",
       "    .dataframe tbody tr th {\n",
       "        vertical-align: top;\n",
       "    }\n",
       "\n",
       "    .dataframe thead th {\n",
       "        text-align: right;\n",
       "    }\n",
       "</style>\n",
       "<table border=\"1\" class=\"dataframe\">\n",
       "  <thead>\n",
       "    <tr style=\"text-align: right;\">\n",
       "      <th></th>\n",
       "      <th>No of Bedrooms</th>\n",
       "      <th>No of Bathrooms</th>\n",
       "      <th>Flat Area (in Sqft)</th>\n",
       "      <th>Lot Area (in Sqft)</th>\n",
       "      <th>No of Floors</th>\n",
       "      <th>No of Times Visited</th>\n",
       "      <th>Overall Grade</th>\n",
       "      <th>Area of the House from Basement (in Sqft)</th>\n",
       "      <th>Basement Area (in Sqft)</th>\n",
       "      <th>Age of House (in Years)</th>\n",
       "      <th>...</th>\n",
       "      <th>Waterfront_View_Yes</th>\n",
       "      <th>Zipcode_Group_Zipcode_Group_1</th>\n",
       "      <th>Zipcode_Group_Zipcode_Group_2</th>\n",
       "      <th>Zipcode_Group_Zipcode_Group_3</th>\n",
       "      <th>Zipcode_Group_Zipcode_Group_4</th>\n",
       "      <th>Zipcode_Group_Zipcode_Group_5</th>\n",
       "      <th>Zipcode_Group_Zipcode_Group_6</th>\n",
       "      <th>Zipcode_Group_Zipcode_Group_7</th>\n",
       "      <th>Zipcode_Group_Zipcode_Group_8</th>\n",
       "      <th>Zipcode_Group_Zipcode_Group_9</th>\n",
       "    </tr>\n",
       "  </thead>\n",
       "  <tbody>\n",
       "    <tr>\n",
       "      <th>0</th>\n",
       "      <td>3</td>\n",
       "      <td>1.00</td>\n",
       "      <td>1180.0</td>\n",
       "      <td>5650.0</td>\n",
       "      <td>1.0</td>\n",
       "      <td>0</td>\n",
       "      <td>7</td>\n",
       "      <td>1180.0</td>\n",
       "      <td>0</td>\n",
       "      <td>63</td>\n",
       "      <td>...</td>\n",
       "      <td>0</td>\n",
       "      <td>0</td>\n",
       "      <td>0</td>\n",
       "      <td>0</td>\n",
       "      <td>0</td>\n",
       "      <td>0</td>\n",
       "      <td>0</td>\n",
       "      <td>0</td>\n",
       "      <td>0</td>\n",
       "      <td>0</td>\n",
       "    </tr>\n",
       "    <tr>\n",
       "      <th>1</th>\n",
       "      <td>3</td>\n",
       "      <td>2.25</td>\n",
       "      <td>2570.0</td>\n",
       "      <td>7242.0</td>\n",
       "      <td>2.0</td>\n",
       "      <td>0</td>\n",
       "      <td>7</td>\n",
       "      <td>2170.0</td>\n",
       "      <td>400</td>\n",
       "      <td>67</td>\n",
       "      <td>...</td>\n",
       "      <td>0</td>\n",
       "      <td>0</td>\n",
       "      <td>1</td>\n",
       "      <td>0</td>\n",
       "      <td>0</td>\n",
       "      <td>0</td>\n",
       "      <td>0</td>\n",
       "      <td>0</td>\n",
       "      <td>0</td>\n",
       "      <td>0</td>\n",
       "    </tr>\n",
       "    <tr>\n",
       "      <th>2</th>\n",
       "      <td>2</td>\n",
       "      <td>1.00</td>\n",
       "      <td>770.0</td>\n",
       "      <td>10000.0</td>\n",
       "      <td>1.0</td>\n",
       "      <td>0</td>\n",
       "      <td>6</td>\n",
       "      <td>770.0</td>\n",
       "      <td>0</td>\n",
       "      <td>85</td>\n",
       "      <td>...</td>\n",
       "      <td>0</td>\n",
       "      <td>0</td>\n",
       "      <td>1</td>\n",
       "      <td>0</td>\n",
       "      <td>0</td>\n",
       "      <td>0</td>\n",
       "      <td>0</td>\n",
       "      <td>0</td>\n",
       "      <td>0</td>\n",
       "      <td>0</td>\n",
       "    </tr>\n",
       "  </tbody>\n",
       "</table>\n",
       "<p>3 rows × 30 columns</p>\n",
       "</div>"
      ],
      "text/plain": [
       "   No of Bedrooms  No of Bathrooms  Flat Area (in Sqft)  Lot Area (in Sqft)  \\\n",
       "0               3             1.00               1180.0              5650.0   \n",
       "1               3             2.25               2570.0              7242.0   \n",
       "2               2             1.00                770.0             10000.0   \n",
       "\n",
       "   No of Floors  No of Times Visited  Overall Grade  \\\n",
       "0           1.0                    0              7   \n",
       "1           2.0                    0              7   \n",
       "2           1.0                    0              6   \n",
       "\n",
       "   Area of the House from Basement (in Sqft)  Basement Area (in Sqft)  \\\n",
       "0                                     1180.0                        0   \n",
       "1                                     2170.0                      400   \n",
       "2                                      770.0                        0   \n",
       "\n",
       "   Age of House (in Years)  ...  Waterfront_View_Yes  \\\n",
       "0                       63  ...                    0   \n",
       "1                       67  ...                    0   \n",
       "2                       85  ...                    0   \n",
       "\n",
       "   Zipcode_Group_Zipcode_Group_1  Zipcode_Group_Zipcode_Group_2  \\\n",
       "0                              0                              0   \n",
       "1                              0                              1   \n",
       "2                              0                              1   \n",
       "\n",
       "   Zipcode_Group_Zipcode_Group_3  Zipcode_Group_Zipcode_Group_4  \\\n",
       "0                              0                              0   \n",
       "1                              0                              0   \n",
       "2                              0                              0   \n",
       "\n",
       "   Zipcode_Group_Zipcode_Group_5  Zipcode_Group_Zipcode_Group_6  \\\n",
       "0                              0                              0   \n",
       "1                              0                              0   \n",
       "2                              0                              0   \n",
       "\n",
       "   Zipcode_Group_Zipcode_Group_7  Zipcode_Group_Zipcode_Group_8  \\\n",
       "0                              0                              0   \n",
       "1                              0                              0   \n",
       "2                              0                              0   \n",
       "\n",
       "   Zipcode_Group_Zipcode_Group_9  \n",
       "0                              0  \n",
       "1                              0  \n",
       "2                              0  \n",
       "\n",
       "[3 rows x 30 columns]"
      ]
     },
     "execution_count": 106,
     "metadata": {},
     "output_type": "execute_result"
    }
   ],
   "source": [
    "X.head(3)"
   ]
  },
  {
   "cell_type": "markdown",
   "id": "bae56e8f",
   "metadata": {},
   "source": [
    "Splitting into Train and Test Data"
   ]
  },
  {
   "cell_type": "code",
   "execution_count": 108,
   "id": "79a96c36",
   "metadata": {},
   "outputs": [],
   "source": [
    "from sklearn.model_selection import train_test_split"
   ]
  },
  {
   "cell_type": "code",
   "execution_count": 109,
   "id": "d3d4dad4",
   "metadata": {},
   "outputs": [],
   "source": [
    "X_train,X_test,Y_train,Y_test=train_test_split(X,Y,test_size=.3)"
   ]
  },
  {
   "cell_type": "code",
   "execution_count": 110,
   "id": "4b665982",
   "metadata": {},
   "outputs": [
    {
     "data": {
      "text/plain": [
       "(15126, 30)"
      ]
     },
     "execution_count": 110,
     "metadata": {},
     "output_type": "execute_result"
    }
   ],
   "source": [
    "X_train.shape"
   ]
  },
  {
   "cell_type": "code",
   "execution_count": 111,
   "id": "5ce66fb4",
   "metadata": {},
   "outputs": [
    {
     "data": {
      "text/plain": [
       "(6483, 30)"
      ]
     },
     "execution_count": 111,
     "metadata": {},
     "output_type": "execute_result"
    }
   ],
   "source": [
    "X_test.shape"
   ]
  },
  {
   "cell_type": "code",
   "execution_count": 112,
   "id": "6c4eaacb",
   "metadata": {},
   "outputs": [
    {
     "data": {
      "text/plain": [
       "(15126,)"
      ]
     },
     "execution_count": 112,
     "metadata": {},
     "output_type": "execute_result"
    }
   ],
   "source": [
    "Y_train.shape"
   ]
  },
  {
   "cell_type": "code",
   "execution_count": 113,
   "id": "540d58e8",
   "metadata": {},
   "outputs": [
    {
     "data": {
      "text/plain": [
       "(6483, 30)"
      ]
     },
     "execution_count": 113,
     "metadata": {},
     "output_type": "execute_result"
    }
   ],
   "source": [
    "X_test.shape"
   ]
  },
  {
   "cell_type": "markdown",
   "id": "11cd57b1",
   "metadata": {},
   "source": [
    "# FEATURE SCALING"
   ]
  },
  {
   "cell_type": "markdown",
   "id": "c7be34b6",
   "metadata": {},
   "source": [
    "Feature scaling is all about scaling the feature variables(i.e all the independent variables) into the same Range."
   ]
  },
  {
   "cell_type": "markdown",
   "id": "f8ed3b36",
   "metadata": {},
   "source": [
    "# The variation in magnitude and range of feature causes two problems:\n",
    "    1.When the model is built, variables with higher magnitude and range will have more impact compared to the ones which are smaller.\n",
    "    2.The model might not predict properly since it is not giving equal weight to both the variables."
   ]
  },
  {
   "cell_type": "markdown",
   "id": "24cade10",
   "metadata": {},
   "source": [
    "# Feature Scaling\n",
    " 1.The variables are selected to have similar magnitude and range so that model is not biased towards a particular variable\n",
    "  2.Feature scaling is must for those algorithms where some measure of distance between data points is involved.\n"
   ]
  },
  {
   "cell_type": "code",
   "execution_count": 115,
   "id": "0d0ffeb8",
   "metadata": {},
   "outputs": [],
   "source": [
    "# Different Technique of Feature Scaling\n",
    "# 1.Standardisation\n",
    "# 2.Min max Scaling\n",
    "# 3.Normalization"
   ]
  },
  {
   "cell_type": "markdown",
   "id": "137483d7",
   "metadata": {},
   "source": [
    "# Standardisation\n",
    "it Rescales the feature values so that they have the properties of a standard Normal Distribution with mean as 0 and the standard deviation of 1.\n",
    "# x=(x-mean)/S.D"
   ]
  },
  {
   "cell_type": "markdown",
   "id": "a7341e21",
   "metadata": {},
   "source": [
    "# Min Max Scaling\n",
    "one of the simplest method\n",
    "1.The value Range for the Transformation variables lies between [0,1]\n",
    "# x=(x-min)/(Max.-min)"
   ]
  },
  {
   "cell_type": "markdown",
   "id": "3225ee72",
   "metadata": {},
   "source": [
    "# Normalization\n",
    "The range is fixed from -1 to +1\n",
    "Also called mean normalization\n",
    "# x=(x-Mean)/(Max-min)\n"
   ]
  },
  {
   "cell_type": "code",
   "execution_count": 116,
   "id": "c88335db",
   "metadata": {},
   "outputs": [],
   "source": [
    "from sklearn import preprocessing\n",
    "scale=preprocessing.StandardScaler()"
   ]
  },
  {
   "cell_type": "code",
   "execution_count": 117,
   "id": "91bb4683",
   "metadata": {},
   "outputs": [],
   "source": [
    "X_train=scale.fit_transform(X_train)"
   ]
  },
  {
   "cell_type": "code",
   "execution_count": 118,
   "id": "98eb11c1",
   "metadata": {},
   "outputs": [
    {
     "data": {
      "text/plain": [
       "array([[-0.41410999, -0.15580014, -0.61383587, ..., -0.11368551,\n",
       "        -0.16837455, -0.05018523],\n",
       "       [-0.41410999,  0.16751347, -0.35604981, ..., -0.11368551,\n",
       "        -0.16837455, -0.05018523],\n",
       "       [ 0.6896482 , -0.15580014, -0.42049633, ..., -0.11368551,\n",
       "        -0.16837455, -0.05018523],\n",
       "       ...,\n",
       "       [ 0.6896482 , -0.15580014,  0.23470991, ..., -0.11368551,\n",
       "        -0.16837455, -0.05018523],\n",
       "       [-1.51786818,  0.16751347, -1.129408  , ..., -0.11368551,\n",
       "        -0.16837455, -0.05018523],\n",
       "       [ 0.6896482 ,  1.46076787,  1.54512239, ..., -0.11368551,\n",
       "        -0.16837455, -0.05018523]])"
      ]
     },
     "execution_count": 118,
     "metadata": {},
     "output_type": "execute_result"
    }
   ],
   "source": [
    "X_train"
   ]
  },
  {
   "cell_type": "code",
   "execution_count": 119,
   "id": "fc63137d",
   "metadata": {},
   "outputs": [],
   "source": [
    "X_test=scale.fit_transform(X_test)"
   ]
  },
  {
   "cell_type": "code",
   "execution_count": 120,
   "id": "0f95d827",
   "metadata": {},
   "outputs": [
    {
     "data": {
      "text/plain": [
       "array([[-0.36659537,  1.17870613, -0.667958  , ..., -0.10891293,\n",
       "        -0.16995383, -0.04306306],\n",
       "       [ 0.65036559,  0.19506863, -0.02567007, ..., -0.10891293,\n",
       "        -0.16995383, -0.04306306],\n",
       "       [-0.36659537, -0.13281053, -0.72429904, ..., -0.10891293,\n",
       "        -0.16995383, -0.04306306],\n",
       "       ...,\n",
       "       [-1.38355632, -1.44432719, -1.47926907, ..., -0.10891293,\n",
       "        -0.16995383, -0.04306306],\n",
       "       [ 0.65036559,  0.5229478 ,  1.22510116, ..., -0.10891293,\n",
       "        -0.16995383, -0.04306306],\n",
       "       [ 0.65036559, -0.4606897 , -0.58908053, ..., -0.10891293,\n",
       "        -0.16995383, -0.04306306]])"
      ]
     },
     "execution_count": 120,
     "metadata": {},
     "output_type": "execute_result"
    }
   ],
   "source": [
    "X_test"
   ]
  },
  {
   "cell_type": "code",
   "execution_count": null,
   "id": "c36f0e12",
   "metadata": {},
   "outputs": [],
   "source": []
  }
 ],
 "metadata": {
  "kernelspec": {
   "display_name": "Python 3 (ipykernel)",
   "language": "python",
   "name": "python3"
  },
  "language_info": {
   "codemirror_mode": {
    "name": "ipython",
    "version": 3
   },
   "file_extension": ".py",
   "mimetype": "text/x-python",
   "name": "python",
   "nbconvert_exporter": "python",
   "pygments_lexer": "ipython3",
   "version": "3.10.1"
  }
 },
 "nbformat": 4,
 "nbformat_minor": 5
}
